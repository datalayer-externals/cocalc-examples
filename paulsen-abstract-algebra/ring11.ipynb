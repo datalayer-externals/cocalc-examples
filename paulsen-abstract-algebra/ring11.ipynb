{
 "cells": [
  {
   "cell_type": "markdown",
   "metadata": {},
   "source": [
    "<!-- Ring11 -->\n",
    "<html>\n",
    "<body>\n",
    "\n",
    "<!-- To make the size of the font bigger for presentations, change the following command from +1 to +2 -->\n",
    "<font size=\"+1\">\n",
    "\n",
    "<p style='font-size: 36px;font-family: Arial;font-style: italic;font-weight: bold;color: #FF00FF;background-color: #80FFFF;text-align: center;'>\n",
    "Abstract Algebra: An Interactive Approach, 2e\n",
    "</p>\n",
    "\n",
    "<p style='font-family: Geneva;font-style: italic;color: #0000FF;background-color: #FFFFFF;'>\n",
    "&copy;2015 This notebook is provided with the textbook, &quot;Abstract Algebra: An Interactive Approach, 2nd Ed.&quot; by William Paulsen. Users of this notebook are encouraged to buy the textbook.\n",
    "</p>\n",
    "\n",
    "\n",
    "\n",
    "<p style='font-size: 36px;font-family: New York;font-weight: bold;color: #000000;background-color: #FFFFFF;text-align: center;border: 1px;border-style: \n",
    "solid;border-color: #000000;'>\n",
    "Chapter 11<br><br>\n",
    "Integral Domains and Fields\n",
    "</p>\n",
    "\n",
    "\n",
    "<p style='text-align: center;'>Initialization:  This cell MUST be evaluated first:</p>"
   ]
  },
  {
   "cell_type": "code",
   "execution_count": 0,
   "metadata": {},
   "outputs": [],
   "source": [
    "load('absalgtext2.sage')"
   ]
  },
  {
   "cell_type": "markdown",
   "metadata": {},
   "source": [
    "<br>\n",
    "<a href=\"#sec111\">Polynomial Rings</a><br>\n",
    "<a href=\"#sec112\">The Field of Quotients</a><br>\n",
    "<a href=\"#sec113\">Complex Numbers</a><br>\n",
    "<a href=\"#sec114\">Ordered Communative Rings</a><br>\n",
    "<a href=\"#sec11p\"><em>SageMath</em> Interactive Problems</a><br>\n",
    "\n",
    "<a name=\"sec111\" id=\"sec111\"></a>\n",
    "<h1>Polynomial Rings</h1>\n",
    "\n",
    "<br>\n",
    "In this chapter we will consider some useful ways of forming integral domains and fields from smaller rings. These provide us with useful examples for experimentation in hopes of finding properties of general integral domains and fields.<br><br>\n",
    "\n",
    "One major source of integral domains are the <em>polynomial rings</em>.  We can construct a polynomial ring from any ring, but the polynomial rings with the familiar properties are formed either from fields or integral domains.<br><br>\n",
    "\n",
    "DEFINITION 11.1<br>\n",
    "\n",
    "Let <em>K</em> be a communitative ring. We define the set of polynomials in <em>x</em> over <em>K</em>, denoted <em>K</em>[<em>x</em>], to be the set of all expressions \n",
    "of the form\n",
    "<p style='text-align: center;'><em>k</em><sub>0</sub> + <em>k</em><sub>1</sub> <em>x</em> + <em>k</em><sub>2</sub> <em>x</em><sup>2</sup> + \n",
    "<em>k</em><sub>3</sub> <em>x</em><sup>3</sup> + &#8943;</p>\n",
    "where the coefficients <em>k<sub>n</sub></em> are elements of <em>K</em>, and only a <em>finite</em> number of the coefficients are nonzero. If <em>k<sub>d</sub></em> is \n",
    "the last nonzero coefficient, then <em>d</em> is called the <em>degree</em> of the polynomial.<br><br>\n",
    "\n",
    "Notice that if <em>d</em> = 0, we essentially obtain elements of <em>K</em>. Thus, the nonzero elements of <em>K</em> are the polynomials of degree 0, which are referred to \n",
    "as <em>constant</em> polynomials. The degree for the zero polynomial\n",
    "<p style='text-align: center;'>0 + 0 <em>x</em> + 0 <em>x</em><sup>2</sup> + 0 <em>x</em><sup>3</sup> + &#8943;</p>\n",
    "is not defined.<br><br>\n",
    "\n",
    "By convention, the terms with zero coefficients are omitted when writing polynomials.  Thus, the second degree polynomial in &#8484;[<em>x</em>]\n",
    "<p style='text-align: center;'>1 + 0 <em>x</em> + 3 <em>x</em><sup>2</sup> + 0 <em>x</em><sup>3</sup> + &#8943;</p>\n",
    "would be written 1 + 3 <em>x</em><sup>2</sup>.  The one exception to this convention is the zero polynomial,  which is simply written as 0.<br><br>\n",
    "\n",
    "We can define the sum and product of two polynomial in the familiar way. If\n",
    "<p style='text-align: center;'><em>A</em> = <em>a</em><sub>0</sub> + <em>a</em><sub>1</sub> <em>x</em> + <em>a</em><sub>2</sub> <em>x</em><sup>2</sup> + \n",
    "<em>a</em><sub>3</sub> <em>x</em><sup>3</sup> + &#8943;,&emsp;and</p>\n",
    "<p style='text-align: center;'><em>B</em> = <em>b</em><sub>0</sub> + <em>b</em><sub>1</sub> <em>x</em> + <em>b</em><sub>2</sub> <em>x</em><sup>2</sup> + \n",
    "<em>b</em><sub>3</sub> <em>x</em><sup>3</sup> + &#8943;,&emsp;then</p>\n",
    "<p style='text-align: center;'><em>A</em> + <em>B</em> = (<em>a</em><sub>0</sub> + <em>b</em><sub>0</sub>) + (<em>a</em><sub>1</sub> + <em>b</em><sub>1</sub>) <em>x</em> \n",
    "+ (<em>a</em><sub>2</sub> + <em>b</em><sub>2</sub>) <em>x</em><sup>2</sup> + (<em>a</em><sub>3</sub> + <em>b</em><sub>3</sub>) <em>x</em><sup>3</sup> + &#8943;,&emsp;and</p>\n",
    "<br>\n",
    "<table align=\"center\" border=\"0\" cellspacing=\"0\" cellpadding=\"0\">\n",
    "  <tr>\n",
    "    <td></td>\n",
    "    <td align=\"center\" valign=\"bottom\">&ensp;&ensp;&infin;&ensp;&ensp;</td>\n",
    "    <td align=\"center\" valign=\"bottom\">&ensp;&ensp;&infin;&ensp;&ensp;</td>\n",
    "    <td></td>\n",
    "  </tr>\n",
    "  <tr>\n",
    "    <td align=\"right\"><em>A</em>&middot;<em>B</em> =</td>\n",
    "    <td align=\"center\">&thinsp;<font face=\"Times New Roman, Times, serif\" size=\"+4\">&sum;</font>&thinsp;</td>\n",
    "    <td align=\"center\">&thinsp;<font face=\"Times New Roman, Times, serif\" size=\"+4\">&sum;</font>&thinsp;</td>\n",
    "    <td >(<em>a<sub>i</sub></em>&middot;<em>b<sub>j</sub></em>) <em>x</em><sup><em>i</em>+<em>j</em></sup>.</td>\n",
    "  </tr>\n",
    "  <tr>\n",
    "    <td></td>\n",
    "    <td align=\"center\" valign=\"top\">&ensp;<em>i</em>=0&ensp;</td>\n",
    "    <td align=\"center\" valign=\"top\">&ensp;<em>j</em>=0&ensp;</td>\n",
    "    <td></td>\n",
    "  </tr>\n",
    "</table>\n",
    "<br>\n",
    "Although this looks like a double infinite sum, bear in mind that only a finite number of the terms will be nonzero. Thus, we do not need to be concerned about such issues \n",
    "as &quot;convergence.&quot;  If fact, this product could be written as\n",
    "<p style='text-align: center;'><em>A</em>&middot;<em>B</em> = <em>a</em><sub>0</sub>&middot;<em>b</em><sub>0</sub> + \n",
    "(<em>a</em><sub>0</sub>&middot;<em>b</em><sub>1</sub> + <em>a</em><sub>1</sub>&middot;<em>b</em><sub>0</sub>) <em>x</em>+ \n",
    "(<em>a</em><sub>0</sub>&middot;<em>b</em><sub>2</sub> + <em>a</em><sub>1</sub>&middot;<em>b</em><sub>1</sub> + <em>a</em><sub>2</sub>&middot;<em>b</em><sub>0</sub> ) \n",
    "<em>x</em><sup>2</sup> +\n",
    "(<em>a</em><sub>0</sub>&middot;<em>b</em><sub>3</sub> + <em>a</em><sub>1</sub>&middot;<em>b</em><sub>2</sub> + <em>a</em><sub>2</sub>&middot;<em>b</em><sub>1</sub> + \n",
    "<em>a</em><sub>3</sub>&middot;<em>b</em><sub>0</sub>) <em>x</em><sup>3</sup> + &#8943;</p>\n",
    "so each coefficient is determined by a finite sum. <br><br>\n",
    "\n",
    "Before we prove that the set of polynomials forms a ring, we need the following lemma:\n",
    "\n",
    "<p />\n",
    "<a name=\"lem111ret\" id=\"lem111ret\"></a>\n",
    "LEMMA 11.1<br>\n",
    "\n",
    "Let <em>A</em> and <em>B</em> be two nonzero polynomials in <em>x</em> over <em>K</em> of degree <em>m</em> and <em>n</em> respectively, where <em>K</em> has no zero divisors.  Then <em>A</em>&middot;<em>B</em> is a polynomial of degree <em>m</em> + <em>n</em>, and <em>A</em> + <em>B</em> is a polynomial of degree \n",
    "no greater than the larger of <em>m</em> or <em>n</em>.<br><br>\n",
    "\n",
    "<a href=\"#lem111\">Click here for the proof.</a>\n",
    "\n",
    "<p />\n",
    "This lemma verifies that the both sum and product of two polynomials are polynomials. The remaining ring properties are not difficult to verify.\n",
    "\n",
    "<p />\n",
    "<a name=\"prop111ret\" id=\"prop111ret\"></a>\n",
    "PROPOSITION 11.1<br>\n",
    "Let <em>K</em> be an integral domain or a field. Then the set of polynomials in <em>x</em> over <em>K</em> forms an integral domain.<br><br>\n",
    "\n",
    "<a href=\"#prop111\">Click here for the proof.</a>\n",
    "\n",
    "<p />\n",
    "Although this proposition holds for polynomials defined over a integral domain, there is no reason why we cannot have <em>SageMath</em> work with polynomials defined over \n",
    "any commutative ring.  However, we will discover that the familiar properties of polynomials will radically change!<br><br>\n",
    "\n",
    "Let us consider the commutative ring of order 8 that we worked with in Chapter 9.<br>"
   ]
  },
  {
   "cell_type": "code",
   "execution_count": 0,
   "metadata": {},
   "outputs": [],
   "source": [
    "InitRing()\n",
    "AddRingVar(\"a\",\"b\")\n",
    "Define(4*a, 0); Define(2*b, 0)\n",
    "Define(a^2, a); Define(a*b, 0)\n",
    "Define(b*a, 0); Define(b^2, b)\n",
    "R = ListRing(); R"
   ]
  },
  {
   "cell_type": "markdown",
   "metadata": {},
   "source": [
    "<br>\n",
    "We form a polynomial ring over <em>R</em> by defining a new symbol <em>x</em>, which is an indeterminant over the ring <em>R</em>.<br>"
   ]
  },
  {
   "cell_type": "code",
   "execution_count": 0,
   "metadata": {},
   "outputs": [],
   "source": [
    "AddPolyVar(\"x\")"
   ]
  },
  {
   "cell_type": "markdown",
   "metadata": {},
   "source": [
    "<br> \n",
    "We can now enter in a typical polynomial.<br>"
   ]
  },
  {
   "cell_type": "code",
   "execution_count": 0,
   "metadata": {},
   "outputs": [],
   "source": [
    "Y = a*x + b; Y"
   ]
  },
  {
   "cell_type": "markdown",
   "metadata": {},
   "source": [
    "<br>\n",
    "We can experiment with powers of this first degree polynomial.<br>"
   ]
  },
  {
   "cell_type": "code",
   "execution_count": 0,
   "metadata": {},
   "outputs": [],
   "source": [
    "Y^2"
   ]
  },
  {
   "cell_type": "code",
   "execution_count": 0,
   "metadata": {},
   "outputs": [],
   "source": [
    "Y^3"
   ]
  },
  {
   "cell_type": "code",
   "execution_count": 0,
   "metadata": {},
   "outputs": [],
   "source": [
    "Y^4"
   ]
  },
  {
   "cell_type": "markdown",
   "metadata": {},
   "source": [
    "<br>\n",
    "It seems as though (<em>a</em>&middot;<em>x</em> + <em>b</em>) satisfies the simplistic property:\n",
    "<p style='text-align: center;'>(<em>u</em> + <em>v</em>)<sup><em>n</em></sup> = <em>u<sup>n</sup></em> + <em>v<sup>n</sup></em>.</p>\n",
    "Does this hold for all polynomials in this ring?<br><br>\n",
    "\n",
    "EXPERIMENT:<br>\n",
    "\n",
    "Try to find a first degree polynomial (<em>u</em>&middot;<em>x</em> + <em>v</em>), where <em>u</em> and <em>v</em> are in <em>R</em>, which does not satisfy the \n",
    "above property for some value of <em>n</em>.<br>"
   ]
  },
  {
   "cell_type": "markdown",
   "metadata": {},
   "source": [
    "<br>\n",
    "In the process of doing this experiment, you may have noticed a property that is even more bizarre:  Sometimes the square of a first degree polynomial is not a \n",
    "second degree polynomial! In fact, consider<br>"
   ]
  },
  {
   "cell_type": "code",
   "execution_count": 0,
   "metadata": {},
   "outputs": [],
   "source": [
    "(2*a*x + a + b)^2"
   ]
  },
  {
   "cell_type": "markdown",
   "metadata": {},
   "source": [
    "<br>\n",
    "which yields the identity element in <em>R</em>.  Thus, (2 <em>a</em>&middot;<em>x</em> + <em>a</em> + <em>b</em>) is its own multiplicative inverse!  To further \n",
    "complicate matters, notice that polynomials may be &quot;factored&quot; in more than one way. Note that<br>"
   ]
  },
  {
   "cell_type": "code",
   "execution_count": 0,
   "metadata": {},
   "outputs": [],
   "source": [
    "(2*a*x + b)*(a*x + b)"
   ]
  },
  {
   "cell_type": "code",
   "execution_count": 0,
   "metadata": {},
   "outputs": [],
   "source": [
    "(2*a*x + b)*(a*x + 2*a + b)"
   ]
  },
  {
   "cell_type": "markdown",
   "metadata": {},
   "source": [
    "<br>\n",
    "yield the same quadratic polynomial.<br><br>\n",
    "\n",
    "EXPERIMENT:<br>\n",
    "\n",
    "See if you can find a third polynomial whose product with (<em>b</em> + 2 <em>a</em>&middot;<em>x</em>) is the same as the two above.<br>"
   ]
  },
  {
   "cell_type": "markdown",
   "metadata": {},
   "source": [
    "<br>\n",
    "Such properties of polynomials are enough to drive any beginning algebra student crazy.  Because of the bizarre properties of polynomials over general rings, we mainly \n",
    "focus out attention to polynomial rings <em>K</em>[<em>x</em>], where <em>K</em> is an integral domain or field.  We will discover in Chapter 12 the exact conditions \n",
    "for which every polynomial in <em>K</em>[<em>x</em>] will have a unique factorization. <br><br>\n",
    "\n",
    "In order to find new integral domains and fields, we will use a simple property that will classify all rings.<br><br>\n",
    "\n",
    "DEFINITION 11.2<br>\n",
    "\n",
    "Let <em>R</em> be a ring. We define the <em>characteristic</em> of <em>R</em> to be the smallest positive number <em>n</em> such that <em>n x</em> = 0 \n",
    "for all elements <em>x</em> of <em>R</em>.  If no such positive number exists, we say the ring has <em>characteristic zero</em>. <br><br>\n",
    "\n",
    "For integral domains or fields, the characteristic plays an extremely important role, as the next proposition illustrates.\n",
    "\n",
    "<p />\n",
    "<a name=\"prop112ret\" id=\"prop112ret\"></a>\n",
    "PROPOSITION 11.2<br>\n",
    "\n",
    "Let <em>R</em> be a nontrivial ring with no zero-divisors. If the characteristic is 0, then for <em>n</em> an integer and <em>x</em> a nonzero element \n",
    "of <em>R</em>, <em>n x</em> = 0 only if <em>n</em> = 0. If the characteristic is positive then it is a prime number <em>p</em>, and for \n",
    "nonzero <em>x</em>, <em>n x</em> = 0 if, and only if, <em>n</em> is a multiple of <em>p</em>.<br><br>\n",
    "\n",
    "<a href=\"#prop112\">Click here for the proof.</a>\n",
    "\n",
    "<p />\n",
    "Characteristics are important because they give us a way of finding domains and fields in <em>SageMath</em>.  We begin by telling <em>SageMath</em> the characteristic <em>p</em> \n",
    "of the ring we want to define with the command <strong>InitDomain</strong>(<em>p</em>).  Because of Proposition 11.2, we see that <em>p</em> must either be 0 or a \n",
    "prime number.  This command does three things. First, it tells <em>SageMath</em> that the ring to be defined is commutative.  <em>SageMath</em> also defines the identity element \n",
    "to be 1.  Finally, <em>SageMath</em> assumes that the ring to be defined has no zero-divisors, and may latter report an error if zero divisors are found.<br><br>\n",
    "\n",
    "For example, let us find a new ring with characteristic 3.  We begin with the command<br>"
   ]
  },
  {
   "cell_type": "code",
   "execution_count": 0,
   "metadata": {},
   "outputs": [],
   "source": [
    "InitDomain(3)"
   ]
  },
  {
   "cell_type": "markdown",
   "metadata": {},
   "source": [
    "<br>\n",
    "This actually defines the field <em>Z</em><sub>3</sub>, as we can see with the command<br>"
   ]
  },
  {
   "cell_type": "code",
   "execution_count": 0,
   "metadata": {},
   "outputs": [],
   "source": [
    "Z3 = ListField(); Z3"
   ]
  },
  {
   "cell_type": "markdown",
   "metadata": {},
   "source": [
    "We can create polynomials over this new domain by the <strong>AddFieldVar</strong> command.<br>"
   ]
  },
  {
   "cell_type": "code",
   "execution_count": 0,
   "metadata": {},
   "outputs": [],
   "source": [
    "AddFieldVar(\"i\")"
   ]
  },
  {
   "cell_type": "markdown",
   "metadata": {},
   "source": [
    "<br>\n",
    "Now we can do computations in the polynomial ring <em>Z</em><sub>3</sub>[<em>i</em>]:<br>"
   ]
  },
  {
   "cell_type": "code",
   "execution_count": 0,
   "metadata": {},
   "outputs": [],
   "source": [
    "2*i + 5*i"
   ]
  },
  {
   "cell_type": "code",
   "execution_count": 0,
   "metadata": {},
   "outputs": [],
   "source": [
    "(2*i + 1)^2"
   ]
  },
  {
   "cell_type": "markdown",
   "metadata": {},
   "source": [
    "<br>\n",
    "Let us try imitating the complex numbers, and tell <em>SageMath</em> that <em>i</em><sup>2</sup> = &minus;1.<br>"
   ]
  },
  {
   "cell_type": "code",
   "execution_count": 0,
   "metadata": {},
   "outputs": [],
   "source": [
    "Define(i^2, -1)"
   ]
  },
  {
   "cell_type": "markdown",
   "metadata": {},
   "source": [
    "<br>\n",
    "This now defines a new ring!  We will use the command <strong>ListField</strong> to see the new ring.<br>"
   ]
  },
  {
   "cell_type": "code",
   "execution_count": 0,
   "metadata": {},
   "outputs": [],
   "source": [
    "K = ListField(); K"
   ]
  },
  {
   "cell_type": "markdown",
   "metadata": {},
   "source": [
    "<br>\n",
    "This gives us a ring with nine elements. Let us look at the addition and multiplication tables.<br>"
   ]
  },
  {
   "cell_type": "code",
   "execution_count": 0,
   "metadata": {},
   "outputs": [],
   "source": [
    "AddTable(K)"
   ]
  },
  {
   "cell_type": "code",
   "execution_count": 0,
   "metadata": {},
   "outputs": [],
   "source": [
    "MultTable(K)"
   ]
  },
  {
   "cell_type": "markdown",
   "metadata": {},
   "source": [
    "<br>\n",
    "The multiplication table shows that there are no zero divisors. By Corollary 9.1, <em>K</em> is a field.  (You might have guessed this, since we used \n",
    "the <strong>ListField</strong> command.)  We could call <em>K</em> the field \n",
    "of &quot;complex numbers modulo 3&quot;.<br><br>\n",
    "\n",
    "What if we tried to define complex numbers modulo 5?<br>"
   ]
  },
  {
   "cell_type": "code",
   "execution_count": 0,
   "metadata": {},
   "outputs": [],
   "source": [
    "InitDomain(5)"
   ]
  },
  {
   "cell_type": "code",
   "execution_count": 0,
   "metadata": {},
   "outputs": [],
   "source": [
    "AddFieldVar(\"i\")"
   ]
  },
  {
   "cell_type": "code",
   "execution_count": 0,
   "metadata": {},
   "outputs": [],
   "source": [
    "Define(i^2, -1)"
   ]
  },
  {
   "cell_type": "markdown",
   "metadata": {},
   "source": [
    "<br>\n",
    "<em>SageMath</em> complains about a modulus that is not irreducible.  The problem is that the polynomial <em>x</em><sup>2</sup> + 1 is <em>not</em> irreducible \n",
    "in <em>Z</em><sub>5</sub>[<em>x</em>].  If we tried to define this as a ring,<br>"
   ]
  },
  {
   "cell_type": "code",
   "execution_count": 0,
   "metadata": {},
   "outputs": [],
   "source": [
    "InitRing()\n",
    "AddRingVar(\"e\", \"i\")\n",
    "Define(5*e, 0); Define(5*i, 0)\n",
    "Define(e^2, e); Define(e*i, i)\n",
    "Define(i*e, i); Define(i^2, -e)\n",
    "K = ListRing(); K"
   ]
  },
  {
   "cell_type": "markdown",
   "metadata": {},
   "source": [
    "<br>\n",
    "we find that there are zero divisors.<br>"
   ]
  },
  {
   "cell_type": "code",
   "execution_count": 0,
   "metadata": {},
   "outputs": [],
   "source": [
    "MultTable(K)"
   ]
  },
  {
   "cell_type": "markdown",
   "metadata": {},
   "source": [
    "<br>\n",
    "EXPERIMENT:<br>\n",
    "\n",
    "Try defining a ring using <strong>InitDomain(5)</strong>, but have <em>i</em><sup>2</sup> be some integer other than &minus;1.  Does this new ring have zero \n",
    "divisors?  Is this a field?<br>"
   ]
  },
  {
   "cell_type": "markdown",
   "metadata": {},
   "source": [
    "<br>\n",
    "<em>SageMath</em> can now work with polynomials over an integral domain or field.  We can add an additional parameter for the <strong>InitDomain</strong> command that will \n",
    "tell <em>SageMath</em> the name of the polynomial variable, usually <strong>\"x\"</strong>.  For example, with the command<br>"
   ]
  },
  {
   "cell_type": "code",
   "execution_count": 0,
   "metadata": {},
   "outputs": [],
   "source": [
    "InitDomain(3, \"x\")"
   ]
  },
  {
   "cell_type": "markdown",
   "metadata": {},
   "source": [
    "<br>\n",
    "we can now form polynomials in <em>Z</em><sub>3</sub>[<em>x</em>]:<br>"
   ]
  },
  {
   "cell_type": "code",
   "execution_count": 0,
   "metadata": {},
   "outputs": [],
   "source": [
    "(x + 2)^2"
   ]
  },
  {
   "cell_type": "code",
   "execution_count": 0,
   "metadata": {},
   "outputs": [],
   "source": [
    "factor(x^2 + 2)"
   ]
  },
  {
   "cell_type": "code",
   "execution_count": 0,
   "metadata": {},
   "outputs": [],
   "source": [
    "factor(x^2 + 1)"
   ]
  },
  {
   "cell_type": "markdown",
   "metadata": {},
   "source": [
    "<br>\n",
    "If we continue to expand the field to \"complex numbers modulo 3\",<br>"
   ]
  },
  {
   "cell_type": "code",
   "execution_count": 0,
   "metadata": {},
   "outputs": [],
   "source": [
    "AddFieldVar(\"i\")\n",
    "Define(i^2, -1)"
   ]
  },
  {
   "cell_type": "markdown",
   "metadata": {},
   "source": [
    "<br>\n",
    "the variable <em>x</em> automatically promotes to a variable of the larger field.  Thus, we can form polynomials like<br>"
   ]
  },
  {
   "cell_type": "code",
   "execution_count": 0,
   "metadata": {},
   "outputs": [],
   "source": [
    "y = (1 + i)*x + 2; y"
   ]
  },
  {
   "cell_type": "code",
   "execution_count": 0,
   "metadata": {},
   "outputs": [],
   "source": [
    "z = (2 + i)*x^2 + 2*i*x + 1 + 2*i; z"
   ]
  },
  {
   "cell_type": "markdown",
   "metadata": {},
   "source": [
    "<br>\n",
    "We can form products as we would with standard polynomials.<br>"
   ]
  },
  {
   "cell_type": "code",
   "execution_count": 0,
   "metadata": {},
   "outputs": [],
   "source": [
    "y^2"
   ]
  },
  {
   "cell_type": "code",
   "execution_count": 0,
   "metadata": {},
   "outputs": [],
   "source": [
    "y*z"
   ]
  },
  {
   "cell_type": "markdown",
   "metadata": {},
   "source": [
    "<br>\n",
    "<em>SageMath</em> can factor polynomials defined over any finite field.  In the next chapter we will prove that such factorizations are unique. (We will also see an example \n",
    "of an integral domain, not a field, for which factorizations are not unique.)  If <em>SageMath</em> tries to factor <em>x</em><sup>2</sup> + 1 in the standard way \n",
    "(using the ring &#8484;),<br>"
   ]
  },
  {
   "cell_type": "code",
   "execution_count": 0,
   "metadata": {},
   "outputs": [],
   "source": [
    "var(\"X\")\n",
    "factor(X^2 + 1)"
   ]
  },
  {
   "cell_type": "markdown",
   "metadata": {},
   "source": [
    "<br>\n",
    "it finds the polynomial is irreducible.  But if we factor the polynomial over the field of \"complex numbers modulo 3\",<br>"
   ]
  },
  {
   "cell_type": "code",
   "execution_count": 0,
   "metadata": {},
   "outputs": [],
   "source": [
    "factor(x^2 + 1)"
   ]
  },
  {
   "cell_type": "markdown",
   "metadata": {},
   "source": [
    "<br>\n",
    "we find that it does factor.<br><br>\n",
    "\n",
    "EXPERIMENT:<br>\n",
    "\n",
    "Try looking at other quadratic polynomials which do not factor over the integers. Do they factor using the \"complex numbers modulo 3\"? What about cubic \n",
    "polynomials?<br>"
   ]
  },
  {
   "cell_type": "markdown",
   "metadata": {},
   "source": [
    "<br>\n",
    "The polynomial rings defined over integral domains give us some good examples of integral domains.  In the next chapter we will find other ways of forming integral \n",
    "domains, some of which have some unusual properties.  But even these are based on polynomial rings.  So polynomials are the basic building blocks that are used for \n",
    "forming new integral domains and fields.<br><br>\n",
    "\n",
    "<a name=\"sec112\" id=\"sec112\"></a>\n",
    "<h1>The Field of Quotients</h1>\n",
    "\n",
    "<br>\n",
    "In the last section, we found a way to form integral domains by imitating the familiar polynomials from high school algebra.  In this section we will show how we can form \n",
    "a field from an integral domain.  In fact we will imitate mathematics from grade school&mdash;the fractions.<br><br>\n",
    "\n",
    "We can view a fraction as one integer divided by another.  Thus, the properties of the rational numbers stem entirely on the properties of the integers, &#8484;.  \n",
    "Although the integers have some special properties, some of which we will discover later in this chapter, perhaps the most important property of the integers is that it \n",
    "is a simple example of an integral domain.  This raises the question: Can we form fractions out of any integral domain?  The answer is &quot;yes&quot;, but before we \n",
    "can proceed, let us review the basic definitions of addition, multiplication, and equality of the rational numbers &#8474;.<br><br>\n",
    "\n",
    "First of all, there is a restriction that we put on the rational number <sup><em>p</em></sup>&frasl;<sub><em>q</em></sub>: that <em>q</em> cannot be 0. \n",
    "It is reasonable to expect that we will have to make a similar restriction for general integral domains.<br><br>\n",
    "\n",
    "We can have <em>SageMath</em> show us how two rational numbers are added:<br>"
   ]
  },
  {
   "cell_type": "code",
   "execution_count": 0,
   "metadata": {},
   "outputs": [],
   "source": [
    "var('x y u v')\n",
    "Together(x/y + u/v)"
   ]
  },
  {
   "cell_type": "markdown",
   "metadata": {},
   "source": [
    "<br>\n",
    "Since nether <em>y</em> nor <em>v</em> are 0, the denominator of the sum is not zero, so this is a rational number.  Similarly, the product<br>"
   ]
  },
  {
   "cell_type": "code",
   "execution_count": 0,
   "metadata": {},
   "outputs": [],
   "source": [
    "Together(x/y * u/v)"
   ]
  },
  {
   "cell_type": "markdown",
   "metadata": {},
   "source": [
    "<br>\n",
    "is a rational number. However, there is a twist in how we view two rational numbers as being <em>equal</em>.  Since fourth grade, we view\n",
    "<p style='text-align: center;'><sup>2</sup>&frasl;<sub>4</sub> = <sup>3</sup>&frasl;<sub>6</sub>,</p>\n",
    "even though these are two different fractions.  Both the numerators and denominators are different.  What we really mean is that these two fractions \n",
    "are <em>equivalent</em>, and in fact we define\n",
    "<p style='text-align: center;'><sup><em>x</em></sup>&frasl;<sub><em>y</em></sub> &equiv; \n",
    "<sup><em>u</em></sup>&frasl;<sub><em>v</em></sub>&emsp;if, and only if,&emsp;<em>x</em>&middot;<em>v</em> = <em>u</em>&middot;<em>y</em>.</p>\n",
    "\n",
    "<br>\n",
    "This forms an equivalence relation on the set of fractions <sup><em>x</em></sup>&frasl;<sub><em>y</em></sub>. We have already seen equivalence relations while working \n",
    "with cosets of a group.  What we call a rational number is really a set of fractions of the form <sup><em>x</em></sup>&frasl;<sub><em>y</em></sub> which are all \n",
    "equivalent.  In other words, <sup>1</sup>&frasl;<sub>2</sub> really represents a <em>set</em> of fractions\n",
    "<p style='text-align: center;'>{<sup>1</sup>&frasl;<sub>2</sub>, <sup>-1</sup>&frasl;<sub>-2</sub>, <sup>2</sup>&frasl;<sub>4</sub>, <sup>-2</sup>&frasl;<sub>-4</sub>,\n",
    "<sup>3</sup>&frasl;<sub>6</sub>, <sup>-3</sup>&frasl;<sub>-6</sub>, &hellip;}</p>\n",
    "with each element of this set equivalent to any other.  Since <sup>2</sup>&frasl;<sub>4</sub> and <sup>3</sup>&frasl;<sub>6</sub> are both in this set, we consider them \n",
    "to be <em>equal</em> to <sup>1</sup>&frasl;<sub>2</sub>.<br><br>\n",
    "\n",
    "We can define a similar equivalence relation for any integral domain <em>K</em>.<br><br>\n",
    "\n",
    "DEFINITION 11.3<br>\n",
    "Let <em>K</em> be an integral domain, and let <em>P</em> denote the set of all ordered pairs (<em>x</em>, <em>y</em>) of elements of <em>K</em>, with <em>y</em> \n",
    "nonzero:\n",
    "<p style='text-align: center;'><em>P</em> = { (<em>x</em>, <em>y</em>) | <em>x</em>, <em>y</em> &isin; <em>K</em>&ensp;and&ensp;<em>y</em> &ne; 0 }.</p>\n",
    "We define a relation on <em>P</em> by\n",
    "<p style='text-align: center;'>(<em>x</em>, <em>y</em>) &equiv; (<em>u</em>, <em>v</em>)&emsp;if&ensp;<em>x</em>&middot;<em>v</em> = <em>y</em>&middot;<em>u</em>.</p>\n",
    "The first step is to show that this relation is an equivalence relation.\n",
    "\n",
    "<p />\n",
    "<a name=\"lem112ret\" id=\"lem112ret\"></a>\n",
    "LEMMA 11.2<br>The above relation is an equivalence relation on <em>P</em>.<br><br>\n",
    "\n",
    "<a href=\"#lem112\">Click here for the proof.</a>\n",
    "\n",
    "<p />\n",
    "This equivalence relation becomes the key for defining our field of quotients, as the next definition shows.<br><br>\n",
    "\n",
    "DEFINITION 11.4<br>\n",
    "Let <em>K</em> be an integral domain, let <em>P</em> denote the set\n",
    "<p style='text-align: center;'><em>P</em> = { (<em>x</em>, <em>y</em>) | <em>x</em>, <em>y</em> &isin; <em>K</em>&ensp;and&ensp;<em>y</em> &ne; 0 },</p>\n",
    "and let the equivalence relation on <em>P</em> be\n",
    "<p style='text-align: center;'>(<em>x</em>, <em>y</em>) &equiv; (<em>u</em>, <em>v</em>)&emsp;if&ensp;<em>x</em>&middot;<em>v</em> = <em>y</em>&middot;<em>u</em>.</p>\n",
    "For each (<em>x</em>, <em>y</em>) in <em>P</em>, let <span style=\"font-size:24px\">(</span><sup><em>x</em></sup>&frasl;<sub><em>y</em></sub><span \n",
    "style=\"font-size:24px\">)</span> denote the equivalence class of <em>P</em> that contains (<em>x</em>, <em>y</em>). Let <em>Q</em> denote the set of all equivalence classes \n",
    "<span style=\"font-size:24px\">(</span><sup><em>a</em></sup>&frasl;<sub><em>b</em></sub><span style=\"font-size:24px\">)</span>.\n",
    "The set <em>Q</em> is called the <em>set of quotients for K</em>.<br><br>\n",
    "\n",
    "This definition allows us to replace an equivalence of two expressions with an equality. We now have that\n",
    "<p style='text-align: center;'><span style=\"font-size:24px\">(</span><sup><em>x</em></sup>&frasl;<sub><em>y</em></sub><span style=\"font-size:24px\">)</span> = \n",
    "<span style=\"font-size:24px\">(</span><sup><em>u</em></sup>&frasl;<sub><em>v</em></sub><span style=\"font-size:24px\">)</span>&emsp;if, and only \n",
    "if,&ensp;<em>x</em>&middot;<em>v</em> = <em>u</em>&middot;<em>y</em>.</p>\n",
    "For example, \n",
    "<span style=\"font-size:24px\">(</span><sup><em>x</em>&middot;<em>z</em></sup>&frasl;<sub><em>y</em>&middot;<em>z</em></sub><span style=\"font-size:24px\">)</span> = \n",
    "<span style=\"font-size:24px\">(</span><sup><em>x</em></sup>&frasl;<sub><em>y</em></sub><span style=\"font-size:24px\">)</span> \n",
    "for any nonzero <em>z</em>, since <em>x</em>&middot;<em>z</em>&middot;<em>y</em> = <em>y</em>&middot;<em>z</em>&middot;<em>x</em>.<br><br>\n",
    "\n",
    "The next step is to define addition and multiplication on our set of quotients <em>Q</em>. Once again, we will use the rational numbers to guide us in the definition.\n",
    "\n",
    "<p />\n",
    "<a name=\"lem113ret\" id=\"lem113ret\"></a>\n",
    "LEMMA 11.3<br>\n",
    "Let <em>K</em> be an integral domain, and let <em>Q</em> be the set of quotients for <em>K</em>. The addition and multiplication of two equivalence classed in \n",
    "<em>Q</em>, defined by\n",
    "<p style='text-align: center;'><span style=\"font-size:24px\">(</span><sup><em>x</em></sup>&frasl;<sub><em>y</em></sub><span style=\"font-size:24px\">)</span> + \n",
    "<span style=\"font-size:24px\">(</span><sup><em>u</em></sup>&frasl;<sub><em>v</em></sub><span style=\"font-size:24px\">)</span> = \n",
    "<span style=\"font-size:24px\">(</span><sup><em>x</em>&middot;<em>v</em> + <em>u</em>&middot;<em>y</em></sup>&frasl;<sub><em>y</em>&middot;<em>v</em></sub><span \n",
    "style=\"font-size:24px\">)</span></p>\n",
    "and\n",
    "<p style='text-align: center;'><span style=\"font-size:24px\">(</span><sup><em>x</em></sup>&frasl;<sub><em>y</em></sub><span style=\"font-size:24px\">)</span>&middot;<span \n",
    "style=\"font-size:24px\">(</span><sup><em>u</em></sup>&frasl;<sub><em>v</em></sub><span style=\"font-size:24px\">)</span> = \n",
    "<span style=\"font-size:24px\">(</span><sup><em>x</em>&middot;<em>u</em></sup>&frasl;<sub><em>y</em>&middot;<em>v</em></sub><span style=\"font-size:24px\">)</span></p>\n",
    "are both well defined operations on <em>Q</em>. That is, the sum and product do not depend on the choice of the representative elements <nobr>(<em>x</em>, <em>y</em>)</nobr> and \n",
    "(<em>u</em>, <em>v</em>) of the equivalence classes.<br><br>\n",
    "\n",
    "<a href=\"#lem113\">Click here for the proof.</a>\n",
    "\n",
    "<p />\n",
    "Now that we have defined addition and multiplication on the sets of equivalent classes <em>Q</em>, we are ready to show that <em>Q</em> is in fact a <em>field</em>.\n",
    "\n",
    "<p />\n",
    "<a name=\"theor111ret\" id=\"theor111ret\"></a>\n",
    "THEOREM 11.1:The Field of Quotients Theorem<br>\n",
    "\n",
    "Let <em>K</em> be an integral domain, and let <em>Q</em> be the set of quotients for <em>K</em>. Then <em>Q</em> forms a field using the above definitions of addition \n",
    "and multiplication. The field <em>Q</em> is called <em>the field of quotients for K</em>.<br><br>\n",
    "\n",
    "<a href=\"#theor111\">Click here for the proof.</a>\n",
    "\n",
    "<p />\n",
    "Notice that in the construction of the field <em>Q</em>, we never used the identity element of <em>K</em>.  Hence, if we started with a commutative ring without zero \n",
    "divisors instead of an integral domain, the construction would still produce a field.  We can mention this as a corollary.\n",
    "\n",
    "<p />\n",
    "COROLLARY 11.1<br>\n",
    "Let <em>K</em> be any commutative ring with no zero divisors.  Then the set of quotients <em>Q</em> defined above forms a field.\n",
    "\n",
    "<p />\n",
    "Although the field of quotients was designed from the way we formed rational numbers from the set of integers, we can apply the field of quotients to any other \n",
    "integral domain. The only other integral domains that we have worked with so far are the polynomial rings from the last section.  What happens if we form a \n",
    "field of quotients for the polynomial ring <em>K</em>[<em>x</em>]? <br><br>\n",
    "\n",
    "Let us first consider the most familiar polynomial ring &#8484;[<em>x</em>]&mdash;the polynomials with integer coefficients.  An element in the field of quotients would \n",
    "be of the form <sup><em>p</em>(<em>x</em>)</sup>&frasl;<sub><em>q</em>(<em>x</em>)</sub>, where <em>p</em>(<em>x</em>) and <em>q</em>(<em>x</em>) are polynomials with \n",
    "integer coefficients. But we consider two such fractions\n",
    "<p style='text-align: center;'>\n",
    "<sup><em>p</em>(<em>x</em>)</sup>&frasl;<sub><em>q</em>(<em>x</em>)</sub>&ensp;and&ensp;<sup><em>r</em>(<em>x</em>)</sup>&frasl;<sub><em>s</em>(<em>x</em>)</sub></p>\n",
    "to be equivalent if <em>p</em>(<em>x</em>)&middot;<em>s</em>(<em>x</em>) = <em>r</em>(<em>x</em>)&middot;<em>q</em>(<em>x</em>). Thus, if there are any common factors \n",
    "between <em>p</em>(<em>x</em>) and <em>q</em>(<em>x</em>), we can cancel them out to produce a simpler, equivalent fraction. <br><br>\n",
    "\n",
    "For example, the fractions<br>"
   ]
  },
  {
   "cell_type": "code",
   "execution_count": 0,
   "metadata": {},
   "outputs": [],
   "source": [
    "var(\"x\")\n",
    "A = (3*x^2 + 5*x -2)/(2*x^2 + 7*x + 6); A"
   ]
  },
  {
   "cell_type": "markdown",
   "metadata": {},
   "source": [
    "<br>\n",
    "and<br>"
   ]
  },
  {
   "cell_type": "code",
   "execution_count": 0,
   "metadata": {},
   "outputs": [],
   "source": [
    "B = (3*x^2 - 4*x + 1)/(2*x^2 + x - 3); B"
   ]
  },
  {
   "cell_type": "markdown",
   "metadata": {},
   "source": [
    "<br>\n",
    "can be seen to be equivalent, since<br>"
   ]
  },
  {
   "cell_type": "code",
   "execution_count": 0,
   "metadata": {},
   "outputs": [],
   "source": [
    "expand((3*x^2 + 5*x - 2) * (2*x^2 + x - 3))"
   ]
  },
  {
   "cell_type": "markdown",
   "metadata": {},
   "source": [
    "<br>\n",
    "and<br>"
   ]
  },
  {
   "cell_type": "code",
   "execution_count": 0,
   "metadata": {},
   "outputs": [],
   "source": [
    "expand((3*x^2 - 4*x + 1) * (2*x^2 + 7*x + 6))"
   ]
  },
  {
   "cell_type": "markdown",
   "metadata": {},
   "source": [
    "<br>\n",
    "are the same.<br><br>\n",
    "\n",
    "EXPERIMENT:<br>\n",
    "Can you find a simpler polynomial that is equivalent to <em>A</em> and <em>B</em>?<br>"
   ]
  },
  {
   "cell_type": "markdown",
   "metadata": {},
   "source": [
    "<br>\n",
    "We call the field of quotients for the polynomials &#8484;[<em>x</em>] the <em>field of rational functions in x</em>, denoted &#8484;(<em>x</em>). <br><br>\n",
    "\n",
    "Here two other ways to verify that the two polynomials are equivalent:<br>"
   ]
  },
  {
   "cell_type": "code",
   "execution_count": 0,
   "metadata": {},
   "outputs": [],
   "source": [
    "Together(A - B)"
   ]
  },
  {
   "cell_type": "code",
   "execution_count": 0,
   "metadata": {},
   "outputs": [],
   "source": [
    "Together(A/B)"
   ]
  },
  {
   "cell_type": "markdown",
   "metadata": {},
   "source": [
    "<br>\n",
    "The first command obviously shows that <em>A</em> and <em>B</em> are equal.  The second command shows that the quotient of the two polynomials is the identity element, \n",
    "hence <em>A</em> and <em>B</em> must represent the same element in the field. <br><br>\n",
    "\n",
    "It should be mentioned that a rational function, in this context, is not a function! The rational functions <em>A</em> and <em>B</em> are merely <em>elements</em> \n",
    "of &#8484;(<em>x</em>), which may in turn be arguments for some homomorphism.  To say that &quot;<em>A</em> is undefined when <em>x</em> = &minus;2&quot; or \n",
    "&quot;<em>B</em> is undefined at <em>x</em> = 1&quot; is meaningless, since <em>x</em> is not a variable for which numbers can be plugged in.  Rather, <em>x</em> is merely \n",
    "a symbol that is used as a place holder.  This is why we can say that <em>A</em> and <em>B</em> are truly equal, even though the &quot;graphs&quot; would disagree at \n",
    "two points.<br><br>\n",
    "\n",
    "We can form rational functions from any integral domain <em>K</em>.  This produces the field <em>K</em>(<em>x</em>), \n",
    "the <em>rational functions in x over K</em>.<br><br>\n",
    "\n",
    "EXAMPLE:<br>\n",
    "Using the field of order 9 that was discovered in the last section,<br>"
   ]
  },
  {
   "cell_type": "code",
   "execution_count": 0,
   "metadata": {},
   "outputs": [],
   "source": [
    "InitDomain(3, \"x\")\n",
    "AddFieldVar(\"i\")\n",
    "Define(i^2, -1)"
   ]
  },
  {
   "cell_type": "markdown",
   "metadata": {},
   "source": [
    "<br>\n",
    "simplify the following rational function.<br>"
   ]
  },
  {
   "cell_type": "code",
   "execution_count": 0,
   "metadata": {},
   "outputs": [],
   "source": [
    "A = (i*x^2 + x^2 + 2*x*i + 2*x + 2)/(x^2 + i*x + 1)"
   ]
  },
  {
   "cell_type": "markdown",
   "metadata": {},
   "source": [
    "<br>\n",
    "Can <em>SageMath</em> factor this over a finite field <em>K</em>? Let us see.<br>"
   ]
  },
  {
   "cell_type": "code",
   "execution_count": 0,
   "metadata": {},
   "outputs": [],
   "source": [
    "A"
   ]
  },
  {
   "cell_type": "markdown",
   "metadata": {},
   "source": [
    "We see that <em>SageMath</em> automatically simplifies the rational function for us.  However, if we consider the simplier looking rational function<br>"
   ]
  },
  {
   "cell_type": "code",
   "execution_count": 0,
   "metadata": {},
   "outputs": [],
   "source": [
    "B = (2*x - i)/(x - i*x + i); B"
   ]
  },
  {
   "cell_type": "markdown",
   "metadata": {},
   "source": [
    "<br>\n",
    "we find that they are equal<br>"
   ]
  },
  {
   "cell_type": "code",
   "execution_count": 0,
   "metadata": {},
   "outputs": [],
   "source": [
    "B - A"
   ]
  },
  {
   "cell_type": "markdown",
   "metadata": {},
   "source": [
    "<br>\n",
    "<em>SageMath</em> shows us that these two expressions are the same rational function in <em>K</em>(<em>x</em>)! <br><br>\n",
    "\n",
    "As you can see from this experiment, the definition of the quotient field does not depend whether elements in the integral domain can be factored uniquely.  \n",
    "However, unique factorization is an important property that we will study in depth in chapter 12. We will learn that the polynomial \n",
    "ring <em>K</em>[<em>x</em>] used in the above example really <em>does</em> have a type of unique factorization, after we have studied the true definition of what a \n",
    "unique factorization is.  But before we go into this, let us look closely at some of the more familiar fields: the rational numbers, the real numbers, and the \n",
    "complex numbers. These fields will be the basis for defining many other fields, so it is natural to learn the properties of these fields before going on to study \n",
    "more complicated fields.<br><br>\n",
    "\n",
    "<a name=\"sec113\" id=\"sec113\"></a>\n",
    "<h1>Complex Numbers</h1>\n",
    "\n",
    "<br>\n",
    "In this section we will explore the field of complex numbers. Although we will develop this field algebraically, the results of this section have applications in \n",
    "many different fields, including differential equations.<br><br>\n",
    "\n",
    "We are somewhat familiar with complex numbers from algebra.  These are numbers of the form <em>a</em> + <em>b i</em> where <em>i</em> represents the &quot;square \n",
    "root of negative one.&quot;  <em>SageMath</em> can perform all algebraic operations in complex numbers as easily as it can with real numbers.<br>"
   ]
  },
  {
   "cell_type": "code",
   "execution_count": 0,
   "metadata": {},
   "outputs": [],
   "source": [
    "(2 + 3*I) + (4 - I)"
   ]
  },
  {
   "cell_type": "code",
   "execution_count": 0,
   "metadata": {},
   "outputs": [],
   "source": [
    "(2 + 3*I)*(4 - I)"
   ]
  },
  {
   "cell_type": "code",
   "execution_count": 0,
   "metadata": {},
   "outputs": [],
   "source": [
    "(2 + 3*I)/(4 - I)"
   ]
  },
  {
   "cell_type": "markdown",
   "metadata": {},
   "source": [
    "<br>\n",
    "However, in this definition it is not at all clear where the &quot;<em>i</em>&thinsp;&quot; came from. This gives the complex numbers a rather mysterious quality that is \n",
    "compounded by their common misnomer, &quot;imaginary numbers.&quot;<br><br>\n",
    "\n",
    "We would like to define the complex numbers in a way that is more realistic.  Instead of considering quantities of the form (<em>a</em> + <em>b i</em>), we will \n",
    "consider ordered pairs (<em>a</em>, <em>b</em>).  This identifies the complex numbers with points in the plane, which makes them easier to visualize.<br><br>\n",
    "\n",
    "Let us declare the following properties for ordered pairs of real numbers:<br><br>\n",
    "<table border=0 cellspacing=0 cellpadding=0 width=\"100%\" align=center class=\"equation\">\n",
    "  <tr>\n",
    "    <td nowrap >1)</td>\n",
    "    <td></td>\n",
    "    <td nowrap>(<em>a</em>, <em>b</em>) = (<em>c</em>, <em>d</em>) if, and only if, <em>a</em> = <em>c</em> and <em>b</em> = <em>d</em>.</td>\n",
    "    <td></td>\n",
    "  </tr>\n",
    "</table>\n",
    "<br>\n",
    "<table border=0 cellspacing=0 cellpadding=0 width=\"100%\" align=center class=\"equation\">\n",
    "  <tr>\n",
    "    <td nowrap >2)</td>\n",
    "    <td></td>\n",
    "    <td nowrap>(<em>a</em>, <em>b</em>) + (<em>c</em>, <em>d</em>) = (<em>a</em> + <em>c</em>, <em>b</em> + <em>d</em>).</td>\n",
    "    <td></td>\n",
    "  </tr>\n",
    "</table>\n",
    "<br>\n",
    "<table border=0 cellspacing=0 cellpadding=0 width=\"100%\" align=center class=\"equation\">\n",
    "  <tr>\n",
    "    <td nowrap >3)</td>\n",
    "    <td></td>\n",
    "    <td nowrap>(<em>a</em>, <em>b</em>)&middot;(<em>c</em>, <em>d</em>) = (<em>a</em>&middot;<em>c</em> &minus; <em>b</em>&middot;<em>d</em>, <em>a</em>&middot;<em>d</em> + \n",
    "<em>b</em>&middot;<em>c</em>).</td>\n",
    "    <td></td>\n",
    "  </tr>\n",
    "</table>\n",
    "<br>\n",
    "We define &#8450; to be the set of all ordered pairs of real numbers.  Using these three properties, it is not hard to prove the following:\n",
    "\n",
    "<p />\n",
    "<a name=\"prop113ret\" id=\"prop113ret\"></a>\n",
    "PROPOSITION 11.3<br>\n",
    "\n",
    "The set &#8450; forms a field, called the <em>field of complex numbers</em>. This field contains a subfield isomorphic to the real numbers.<br><br>\n",
    "\n",
    "<a href=\"#prop113\">Click here for the proof.</a>\n",
    "\n",
    "<p />\n",
    "The purpose of constructing the complex numbers was to produce a field for which we can take the square root of negative one. We can now show that we have succeeded in \n",
    "doing this.\n",
    "\n",
    "<p />\n",
    "<a name=\"lem114ret\" id=\"lem114ret\"></a>\n",
    "LEMMA 11.4<br>\n",
    "\n",
    "There are exactly two solutions to the equation <em>x</em><sup>2</sup> = (&minus;1, 0) in the field &#8450;, given by (0, &plusmn;1).<br><br>\n",
    "\n",
    "<a href=\"#lem114\">Click here for the proof.</a>\n",
    "\n",
    "<p />\n",
    "By defining the complex numbers as ordered pairs, we have taken some of the mystery out of the complex numbers.  Lemma 11.4 shows that the square root of negative one \n",
    "comes as a natural consequence of the way we defined the product.<br><br>\n",
    "\n",
    "We can now convert ordered pairs to the customary notation by defining <em>i</em> = (0,1), and identifying the identity element (1,0) with 1. Then any complex \n",
    "number (<em>a</em>, <em>b</em>) can be written\n",
    "<p style='text-align: center;'>(<em>a</em>, <em>b</em>) = (<em>a</em>, 0) + (0, <em>b</em>) = <em>a</em>&middot;(1, 0) + <em>b</em>&middot; (0, 1) = \n",
    "<em>a</em> + <em>b</em> <em>i</em>.</p>\n",
    "We can rewrite the rules for addition and multiplication in &#8450; as follows:\n",
    "<p style='text-align: center;'>(<em>a</em> + <em>b i</em>) + (<em>c</em> + <em>d i</em>) = (<em>a</em> + <em>c</em>) + (<em>b</em> + <em>d</em>) <em>i</em>.<br><br>\n",
    "(<em>a</em> + <em>b i</em>)&middot;(<em>c</em> + <em>d i</em>) = (<em>a</em>&middot;<em>c</em> &minus; <em>b</em>&middot;<em>d</em>) + \n",
    "(<em>b</em>&middot;<em>c</em> + <em>a</em>&middot;<em>d</em>) <em>i</em>.</p>\n",
    "In working with groups, we found that the group automorphisms revealed many of the important properties of the group.  This will also be true for rings.  Let us extend \n",
    "the group automorphisms to apply to rings.<br><br>\n",
    "\n",
    "DEFINITION 11.5<br>\n",
    "A <em>ring automorphism</em> is a one-to-one and onto ring homomorphism that maps a ring to itself.\n",
    "\n",
    "<p />\n",
    "<a name=\"lem115ret\" id=\"lem115ret\"></a>\n",
    "LEMMA 11.5<br>The set of all ring automorphisms forms a group.<br><br>\n",
    "\n",
    "<a href=\"#lem115\">Click here for the proof.</a>\n",
    "\n",
    "<p />\n",
    "The natural question that arises is determining all of the group of ring automorphisms of &#8450;. <br>\n",
    "This is in fact a difficult question to answer in general, but if we only consider the automorphisms that <br>\n",
    "send each real number to itself, the question becomes easy to answer.\n",
    "<p />\n",
    "<a name=\"prop114ret\" id=\"prop114ret\"></a>\n",
    "PROPOSITION 11.4<br>\n",
    "Besides the identity automorphism, there is another automorphism on &#8450;, given by\n",
    "<p style='text-align: center;'><em>&#981;</em>(<em>a</em> + <em>b i</em>) = <em>a</em> &minus; <em>b i</em>.</p>\n",
    "In fact, these are the only automorphisms for which <em>&#981;</em>(<em>x</em>) = <em>x</em> for all real numbers <em>x</em>.<br><br>\n",
    "\n",
    "<a href=\"#prop114\">Click here for the proof.</a>\n",
    "\n",
    "<p />\n",
    "The automorphism found in Proposition 11.4 is called the <em>conjugate</em>. The conjugate of <em>z</em> is generally denoted by \n",
    "<font style=\"text-decoration:overline\"><em>z</em></font>. That is, if <em>z</em> = <em>a</em> + <em>b i</em>, then\n",
    "<p style='text-align: center;'><font style=\"text-decoration:overline\"><em>z</em></font> = <em>&#981;</em>(<em>z</em>) = <em>a</em> &minus; <em>b i</em>.</p>\n",
    "We call an element of &#8450; to be <em>real</em> if <font style=\"text-decoration:overline\"><em>z</em></font> = <em>z</em>. \n",
    "Clearly the real elements of &#8450; are \n",
    "<p style='text-align: center;'>{ <em>x</em> + 0 <em>i</em> | <em>x</em> &isin; &#8477; }.</p>\n",
    "These elements are, of course, the image of the mapping found in Proposition 11.3 of the reals into &#8450;.<br><br>\n",
    "\n",
    "The conjugate automorphism is defined in <em>SageMath</em> as<br>"
   ]
  },
  {
   "cell_type": "code",
   "execution_count": null,
   "metadata": {},
   "outputs": [],
   "source": [
    "var('z')\n",
    "conjugate(z)"
   ]
  },
  {
   "cell_type": "markdown",
   "metadata": {},
   "source": [
    "<br>\n",
    "so the conjugate of 3 + 4<em>i</em> is given by:<br>"
   ]
  },
  {
   "cell_type": "code",
   "execution_count": 0,
   "metadata": {},
   "outputs": [],
   "source": [
    "conjugate(3 + 4*I)"
   ]
  },
  {
   "cell_type": "markdown",
   "metadata": {},
   "source": [
    "<br>\n",
    "EXPERIMENT:<br>\n",
    "Try multiplying an element by its conjugate.<br>"
   ]
  },
  {
   "cell_type": "code",
   "execution_count": 0,
   "metadata": {},
   "outputs": [],
   "source": [
    "(3 + 4*I) * conjugate(3 + 4*I)"
   ]
  },
  {
   "cell_type": "markdown",
   "metadata": {},
   "source": [
    "<br>\n",
    "Try this with several different elements of &#8450;. What do you observe?<br>"
   ]
  },
  {
   "cell_type": "markdown",
   "metadata": {},
   "source": [
    "<br>\n",
    "It is an easy computation to prove that the observation found by this experiment holds for all complex numbers:\n",
    "<p style='text-align: center;'><em>z</em>&middot;<font style=\"text-decoration:overline\"><em>z</em></font> = \n",
    "(<em>a</em> + <em>b i</em>)&middot;(<em>a</em> &minus; <em>b i</em>) =\n",
    "<em>a</em><sup>2</sup> + <em>a</em>&middot;<em>b</em>&middot;<em>i</em> &minus; <em>a</em>&middot;<em>b</em>&middot;<em>i</em> &minus; \n",
    "<em>b</em><sup>2</sup>&middot;<em>i</em><sup>2</sup> = <em>a</em><sup>2</sup> + <em>b</em><sup>2</sup>.</p>\n",
    "Not only is <em>z</em>&middot;<font style=\"text-decoration:overline\"><em>z</em></font> always a real number, but it is also non-negative.  Moreover, there is a \n",
    "geometric significance to this formula <em>a</em><sup>2</sup> + <em>b</em><sup>2</sup>. By the Pythagorean theorem, this is the square of the distance from the point \n",
    "(<em>a</em>, <em>b</em>) to the origin. Thus, it makes sense to give a special name to the square root \n",
    "of <em>z</em>&middot;<font style=\"text-decoration:overline\"><em>z</em></font>.<br><br>\n",
    "\n",
    "DEFINITION 11.6<br>\n",
    "We say the <em>absolute value</em> of a complex number <em>z</em> = <em>a</em> + <em>b i</em> is\n",
    "<table align=\"center\" border=\"0\" cellspacing=\"0\" cellpadding=\"0\">\n",
    "  <tr>\n",
    "    <td></td>\n",
    "    <td align=\"center\" valign=\"bottom\">&emsp;<font style=\"text-decoration:underline\">&emsp;&emsp;&ensp;</font></td>\n",
    "    <td></td>\n",
    "  </tr>\n",
    "  <tr>\n",
    "    <td>|<em>z</em>| =&ensp;</td>\n",
    "    <td align=\"center\" valign=\"top\">&radic; <em>z</em> &middot; <font style=\"text-decoration:overline\"><em>z</em></font></td>\n",
    "    <td>.</td>\n",
    "  </tr>\n",
    "</table>\n",
    "<br>\n",
    "Since <em>z</em>&middot;<font style=\"text-decoration:overline\"><em>z</em></font> is non-negative real number for all elements of &#8450;, |<em>z</em>| is well defined and \n",
    "is non-negative.  The geometric interpretation of |<em>z</em>| is the distance from <nobr>(<em>a</em>, <em>b</em>)</nobr> to the origin. In <em>SageMath</em>, the \n",
    "function <span style='font-weight: bold;'>abs(z)</span> gives the absolute value for both real and complex numbers.<br>"
   ]
  },
  {
   "cell_type": "code",
   "execution_count": 0,
   "metadata": {},
   "outputs": [],
   "source": [
    "abs(3 + 4*I)"
   ]
  },
  {
   "cell_type": "markdown",
   "metadata": {},
   "source": [
    "<br>\n",
    "The familiar property for the absolute value of real numbers holds for complex numbers as well.\n",
    "\n",
    "<p />\n",
    "<a name=\"prop115ret\" id=\"prop115ret\"></a>\n",
    "PROPOSITION 11.5<br>\n",
    "\n",
    "For any two elements <em>x</em> and <em>y</em> in &#8450;, |<em>x</em>&middot;<em>y</em>| = |<em>x</em>|&middot;|<em>y</em>|.<br><br>\n",
    "\n",
    "<a href=\"#prop115\">Click here for the proof.</a>\n",
    "\n",
    "<p />\n",
    "Since there is a geometric interpretation of the absolute value, this proposition suggests that there is also a geometric interpretation to the product of two \n",
    "complex numbers.<br><br>\n",
    " \n",
    "From polar coordinates it is known that any point in the plane can be located by knowing its distance <em>r</em> from the origin, and its angle <em>&theta;</em> from \n",
    "the positive <em>x</em>-axis. Execute the following command to see a picture.<br>"
   ]
  },
  {
   "cell_type": "code",
   "execution_count": 0,
   "metadata": {},
   "outputs": [],
   "source": [
    "PolarPlot()"
   ]
  },
  {
   "cell_type": "markdown",
   "metadata": {},
   "source": [
    "<br>\n",
    "Since <em>r</em> is the absolute value of (<em>x</em> + <em>y i</em>), perhaps the angle <em>&theta;</em> also is significant to the complex number. By using trigonometry \n",
    "in the above figure, we have that\n",
    "<p style='text-align: center;'><em>x</em> = <em>r</em> cos <em>&theta;</em>,&emsp;and&emsp;<em>y</em> = <em>r</em> sin <em>&theta;</em>.</p>\n",
    "Thus, \n",
    "<p style='text-align: center;'><em>x</em> + <em>y i</em> = <em>r</em>(cos <em>&theta;</em> + <em>i</em> sin <em>&theta;</em>).</p>\n",
    "This form is called the <em>polar form</em> of the complex number <em>x</em> + <em>y i</em>. We have already seen that <em>r</em> is the absolute value \n",
    "of <em>x</em> + <em>y i</em>.  The angle <em>&theta;</em> is called the <em>argument</em> of <em>x</em> + <em>y i</em>.  We can find the argument of a complex number \n",
    "in <em>SageMath</em> with the command <span style='font-weight: bold;'>arg(z)</span>.<br>"
   ]
  },
  {
   "cell_type": "code",
   "execution_count": 0,
   "metadata": {},
   "outputs": [],
   "source": [
    "arg(3 + 4*I)"
   ]
  },
  {
   "cell_type": "markdown",
   "metadata": {},
   "source": [
    "<br>\n",
    "This angle is approximately<br>"
   ]
  },
  {
   "cell_type": "code",
   "execution_count": 0,
   "metadata": {},
   "outputs": [],
   "source": [
    "N(_)"
   ]
  },
  {
   "cell_type": "markdown",
   "metadata": {},
   "source": [
    "<br>\n",
    "<em>SageMath</em> puts the answer in radians, and we will soon understand why radians should always be used in expressing the angle <em>&theta;</em>. <br><br>\n",
    "\n",
    "Although the absolute value of a complex number is unique, the argument is not uniquely determined. This is because for every angle <em>&theta;</em>, we consider the angles\n",
    "<p style='text-align: center;'>&hellip;, <em>&theta;</em> &minus; 6 <em>&pi;</em>, <em>&theta;</em> &minus; 4 <em>&pi;</em>, <em>&theta;</em> &minus; 2 <em>&pi;</em>, \n",
    "<em>&theta;</em>, <em>&theta;</em> + 2 <em>&pi;</em>, <em>&theta;</em> + 4 <em>&pi;</em>, <em>&theta;</em> + 6 <em>&pi;</em>, &hellip;.</p>\n",
    "All of these angles have the same sine and cosine, and hence are interchangeable in the polar coordinate system.  We call these angles <em>coterminal</em>.  The set of \n",
    "angles coterminal to <em>&theta;</em> can be written\n",
    "<p style='text-align: center;'>{<em>&theta;</em> + 2 <em>&pi;</em> <em>n</em> | <em>n</em> &isin; &#8484;}.</p>\n",
    "<em>SageMath</em> always picks <em>&theta;</em> to be between &minus;<em>&pi;</em> and <em>&pi;</em>, but there are times when we need to consider the angles coterminal \n",
    "to <em>&theta;</em> as well.<br><br>\n",
    "\n",
    "For example, let us use <em>SageMath</em> to help us find the polar form of &minus;&radic;<font style=\"text-decoration:overline\">3</font> &minus; <em>i</em>.\n",
    "The absolute value is given by<br>"
   ]
  },
  {
   "cell_type": "code",
   "execution_count": 0,
   "metadata": {},
   "outputs": [],
   "source": [
    "abs(-sqrt(3) - I)"
   ]
  },
  {
   "cell_type": "code",
   "execution_count": 0,
   "metadata": {},
   "outputs": [],
   "source": [
    "simplify(_)"
   ]
  },
  {
   "cell_type": "markdown",
   "metadata": {},
   "source": [
    "<br>\n",
    "while the argument is given by<br>"
   ]
  },
  {
   "cell_type": "code",
   "execution_count": 0,
   "metadata": {},
   "outputs": [],
   "source": [
    "arg(-sqrt(3) - I)"
   ]
  },
  {
   "cell_type": "code",
   "execution_count": 0,
   "metadata": {},
   "outputs": [],
   "source": [
    "simplify(_)"
   ]
  },
  {
   "cell_type": "markdown",
   "metadata": {},
   "source": [
    "<br> \n",
    "So <em>SageMath</em> has converted the point (&minus;&radic;<font style=\"text-decoration:overline\">3</font>, &minus;1) into polar coordinates, and found that\n",
    "<p style='text-align: center;'>&minus;&radic;<font style=\"text-decoration:overline\">3</font> &minus; <em>i</em> = \n",
    "2 <span style=\"font-size:24px\">(</span>&minus; <sup>&radic;<font style=\"text-decoration:overline\">3</font></sup>&frasl;<sub>2</sub> &minus; \n",
    "<sup><em>i</em></sup>&frasl;<sub>2</sub><span style=\"font-size:24px\">)</span> = \n",
    "2 <span style=\"font-size:24px\">(</span> cos<span style=\"font-size:24px\">(</span>&minus;<sup>5<em>&pi;</em></sup>&frasl;<sub>6</sub><span style=\"font-size:24px\">)</span> + \n",
    "<em>i</em> sin<span style=\"font-size:24px\">(</span>&minus;<sup>5<em>&pi;</em></sup>&frasl;<sub>6</sub><span style=\"font-size:24px\">) )</span>.</p>\n",
    "However, we could have used any coterminal angle instead of the one <em>SageMath</em> gave us.  Thus, the following are also polar forms \n",
    "of &minus;&radic;<font style=\"text-decoration:overline\">3</font> &minus; <em>i</em>:\n",
    "<p style='text-align: center;'>2 \n",
    "<span style=\"font-size:24px\">(</span> cos<span style=\"font-size:24px\">(</span><sup>7<em>&pi;</em></sup>&frasl;<sub>6</sub><span style=\"font-size:24px\">)</span> + \n",
    "<em>i</em> sin<span style=\"font-size:24px\">(</span><sup>7<em>&pi;</em></sup>&frasl;<sub>6</sub><span style=\"font-size:24px\">) )</span>, &emsp;\n",
    "2 <span style=\"font-size:24px\">(</span> cos<span style=\"font-size:24px\">(</span><sup>19<em>&pi;</em></sup>&frasl;<sub>6</sub><span style=\"font-size:24px\">)</span> + \n",
    "<em>i</em> sin<span style=\"font-size:24px\">(</span><sup>19<em>&pi;</em></sup>&frasl;<sub>6</sub><span style=\"font-size:24px\">) )</span>, &hellip;.</p>\n",
    "There actually will be an infinite number of such expressions.<br><br>\n",
    "\n",
    "The usefulness of the polar form of a complex number is hinted at by the next lemma. This lemma makes use of the trigonometric identities\n",
    "<p style='text-align: center;'>cos(<em>A</em> + <em>B</em>) = cos(<em>A</em>) cos(<em>B</em>) &middot; sin(<em>A</em>) sin(<em>B</em>),&emsp;and&emsp;sin(<em>A</em> + \n",
    "<em>B</em>) = sin(<em>A</em>) cos(<em>B</em>) + cos(<em>A</em>) sin(<em>B</em>).</p>\n",
    "\n",
    "<p />\n",
    "<a name=\"lem116ret\" id=\"lem116ret\"></a>\n",
    "LEMMA 11.6<br>\n",
    "If \n",
    "<p style='text-align: center;'><em>z</em><sub>1</sub> = \n",
    "<em>r</em><sub>1</sub>( cos <em>&theta;</em><sub>1</sub> + <em>i</em> sin <em>&theta;</em><sub>1</sub>)&emsp;and&emsp;<em>z</em><sub>2</sub> = \n",
    "<em>r</em><sub>2</sub>( cos <em>&theta;</em><sub>2</sub> + <em>i</em> sin <em>&theta;</em><sub>2</sub>),</p>\n",
    "then \n",
    "<p style='text-align: center;'><em>z</em><sub>1</sub>&middot;<em>z</em><sub>2</sub> = \n",
    "<em>r</em><sub>1</sub>&middot;<em>r</em><sub>2</sub>( cos(<em>&theta;</em><sub>1</sub> + <em>&theta;</em><sub>2</sub>) + <em>i</em> sin(<em>&theta;</em><sub>1</sub> + \n",
    "<em>&theta;</em><sub>2</sub>) ).</p>\n",
    "So the argument of the product is the sum of the arguments.<br><br>\n",
    "\n",
    "<a href=\"#lem116\">Click here for the proof.</a>\n",
    "\n",
    "<p />\n",
    "We can now use induction to prove the following important theorem:\n",
    "\n",
    "<p />\n",
    "<a name=\"theor112ret\" id=\"theor112ret\"></a>\n",
    "THEOREM 11.2: De Moivre's Theorem<br>\n",
    "\n",
    "If <em>n</em> is an integer, and\n",
    "<p style='text-align: center;'><em>z</em> = <em>r</em> ( cos <em>&theta;</em> + <em>i</em> sin <em>&theta;</em> )</p>\n",
    "is a nonzero complex number in polar form, then \n",
    "<p style='text-align: center;'><em>z<sup>n</sup></em> = <em>r<sup>n</sup></em> ( cos(<em>n &theta;</em>) + <em>i</em> sin(<em>n &theta;</em>) ).</p>\n",
    "\n",
    "<a href=\"#theor112\">Click here for the proof.</a>\n",
    "\n",
    "<p />\n",
    "De Moivre's Theorem (11.2) allows us to quickly raise a complex number to an integer power.<br><br>\n",
    "\n",
    "EXAMPLE:<br>\n",
    "Compute (&minus;&radic;<font style=\"text-decoration:overline\">3</font> &minus; <em>i</em>)<sup>5</sup>.<br><br>\n",
    "\n",
    "Since\n",
    "<table align=\"center\" border=\"0\" cellspacing=\"0\" cellpadding=\"0\">\n",
    "  <tr>\n",
    "    <td></td>\n",
    "    <td align=\"left\" valign=\"bottom\">&ensp;<font style=\"text-decoration:underline\">&emsp;&emsp;&emsp;&emsp;&emsp;&emsp;</font></td>\n",
    "    <td></td>\n",
    "  </tr>\n",
    "  <tr>\n",
    "    <td><em>r</em> =&ensp;</td>\n",
    "    <td align=\"left\" valign=\"top\">&radic; (&minus;&radic;<font style=\"text-decoration:overline\">3</font>)&sup2; + (&minus;1)&sup2;</td>\n",
    "    <td>&ensp;= 2,</td>\n",
    "  </tr>\n",
    "</table>\n",
    "and <em>&theta;</em> = tan<sup>-1</sup>((&minus;1)/(&minus;&radic;<font style=\"text-decoration:overline\">3</font>)) &minus; <em>&pi;</em> = &minus;5<em>&pi;</em>/6, then\n",
    "\n",
    "<p style='text-align: center;'>(&minus;&radic;<font style=\"text-decoration:overline\">3</font> &minus; <em>i</em>)<sup>5</sup> = \n",
    "2<sup>5</sup><span style=\"font-size:24px\">(</span> \n",
    "cos<span style=\"font-size:24px\">(</span>&minus;<sup>25<em>&pi;</em></sup>&frasl;<sub>6</sub><span style=\"font-size:24px\">)</span> + \n",
    "<em>i</em> sin<span style=\"font-size:24px\">(</span>&minus;<sup>25<em>&pi;</em></sup>&frasl;<sub>6</sub><span style=\"font-size:24px\">) )</span> = \n",
    "32<span style=\"font-size:24px\">(</span><sup>&radic;<font style=\"text-decoration:overline\">3</font></sup>&frasl;<sub>2</sub> &minus; \n",
    "<sup><em>i</em></sup>&frasl;<sub>2</sub><span style=\"font-size:24px\">)</span> = 16 &radic;<font style=\"text-decoration:overline\">3</font> &minus; 16 <em>i</em>.</p>\n",
    "We can check this result with <em>SageMath</em>:<br>"
   ]
  },
  {
   "cell_type": "code",
   "execution_count": 0,
   "metadata": {},
   "outputs": [],
   "source": [
    "expand( (-sqrt(3) - I)^5 )"
   ]
  },
  {
   "cell_type": "markdown",
   "metadata": {},
   "source": [
    "<br><br>\n",
    "EXAMPLE:<br>\n",
    "Compute <span style=\"font-size:24px\">(</span><sup>&radic;<font style=\"text-decoration:overline\">2</font></sup>&frasl;<sub>2</sub> &minus; \n",
    "<sup>&radic;<font style=\"text-decoration:overline\">2</font></sup>&frasl;<sub>2</sub> <em>i</em><span style=\"font-size:24px\">)</span><sup>27</sup>.<br><br>\n",
    "\n",
    "<p style='text-align: center;'><span style=\"font-size:24px\">(</span><sup>&radic;<font style=\"text-decoration:overline\">2</font></sup>&frasl;<sub>2</sub> &minus; \n",
    "<sup>&radic;<font style=\"text-decoration:overline\">2</font></sup>&frasl;<sub>2</sub> <em>i</em><span style=\"font-size:24px\">)</span><sup>27</sup> =\n",
    "<span style=\"font-size:24px\">(</span> 1 <span style=\"font-size:24px\">(</span> \n",
    "cos<span style=\"font-size:24px\">(</span>&minus;<sup><em>&pi;</em></sup>&frasl;<sub>4</sub><span style=\"font-size:24px\">)</span> + \n",
    "<em>i</em> sin<span style=\"font-size:24px\">(</span>&minus;<sup><em>&pi;</em></sup>&frasl;<sub>4</sub><span style=\"font-size:24px\">) ) )</span><sup>27</sup> =\n",
    "1<sup>27</sup><span style=\"font-size:24px\">(</span> \n",
    "cos<span style=\"font-size:24px\">(</span>&minus;<sup>27<em>&pi;</em></sup>&frasl;<sub>4</sub><span style=\"font-size:24px\">)</span> + \n",
    "<em>i</em> sin<span style=\"font-size:24px\">(</span>&minus;<sup>27<em>&pi;</em></sup>&frasl;<sub>4</sub><span style=\"font-size:24px\">) )</span> = \n",
    "&minus; <sup>&radic;<font style=\"text-decoration:overline\">2</font></sup>&frasl;<sub>2</sub> &minus; \n",
    "<sup>&radic;<font style=\"text-decoration:overline\">2</font></sup>&frasl;<sub>2</sub> <em>i</em>.</p>\n",
    "<br>\n",
    "This can also be verified using <em>SageMath</em>:<br>"
   ]
  },
  {
   "cell_type": "code",
   "execution_count": 0,
   "metadata": {},
   "outputs": [],
   "source": [
    "expand( (sqrt(2)/2 - I*sqrt(2)/2)^27 )"
   ]
  },
  {
   "cell_type": "markdown",
   "metadata": {},
   "source": [
    "<br>\n",
    "We can also use De Moivre's theorem to find the <em>n</em><sup>th</sup> root of 1.  We first define\n",
    "<p style='text-align: center;'><em>&omega;<sub>n</sub></em> = \n",
    "cos<span style=\"font-size:24px\">(</span><sup>2<em>&pi;</em></sup>&frasl;<sub><em>n</em></sub><span style=\"font-size:24px\">)</span> + \n",
    "<em>i</em> sin<span style=\"font-size:24px\">(</span><sup>2<em>&pi;</em></sup>&frasl;<sub><em>n</em></sub><span style=\"font-size:24px\">)</span>.</p>\n",
    "For example, <em>&omega;</em><sub>1</sub> = 1, <em>&omega;</em><sub>2</sub> = &minus;1, <em>&omega;</em><sub>3</sub> = \n",
    "(&minus;1 + <em>i</em>&radic;<font style=\"text-decoration:overline\">3</font>)/2, and <em>&omega;</em><sub>4</sub> = <em>i</em>.\n",
    "From DeMoivre's theorem (11.2), \n",
    "<p style='text-align: center;'>(<em>&omega;<sub>n</sub></em>)<sup><em>n</em></sup> = cos(2<em>&pi;</em>) + <em>i</em> sin(2<em>&pi;</em>) = 1.</p>\n",
    "So <em>&omega;<sub>n</sub></em> is a <em>n</em><sup>th</sup> root of 1.  In fact, all <em>n</em><sup>th</sup> roots of 1 are given by the numbers <em>&omega;<sub>n</sub></em>, \n",
    "<em>&omega;<sub>n</sub></em><sup>2</sup>, <em>&omega;<sub>n</sub></em><sup>3</sup>, &hellip; up to <em>&omega;<sub>n</sub><sup>n</sup></em> = 1.<br><br>\n",
    "\n",
    "EXAMPLE:<br>\n",
    "The eighth root of unity, <em>&omega;</em><sub>8</sub>, is given by \n",
    "<p style='text-align: center;'><em>&omega;</em><sub>8</sub> = <span style=\"font-size:24px\">(</span><sup>1</sup>&frasl;<sub>2</sub> + \n",
    "<sup><em>i</em></sup>&frasl;<sub>2</sub><span style=\"font-size:24px\">)</span>&radic;<font style=\"text-decoration:overline\">2</font>.</p>\n",
    "We can enter this into <em>SageMath</em> with the command<br>"
   ]
  },
  {
   "cell_type": "code",
   "execution_count": 0,
   "metadata": {},
   "outputs": [],
   "source": [
    "w8 = (1/2 + I/2)*sqrt(2); w8"
   ]
  },
  {
   "cell_type": "markdown",
   "metadata": {},
   "source": [
    "<br>\n",
    "Then<br>"
   ]
  },
  {
   "cell_type": "code",
   "execution_count": 0,
   "metadata": {},
   "outputs": [],
   "source": [
    "w8*w8"
   ]
  },
  {
   "cell_type": "markdown",
   "metadata": {},
   "source": [
    "<br>\n",
    "simplifies to just <em>i</em>.<br><br>\n",
    "\n",
    "We can now consider the group generated by <em>&omega;</em><sub>8</sub>:<br>"
   ]
  },
  {
   "cell_type": "code",
   "execution_count": 0,
   "metadata": {},
   "outputs": [],
   "source": [
    "G = Group(w8); G"
   ]
  },
  {
   "cell_type": "markdown",
   "metadata": {},
   "source": [
    "<br>\n",
    "This gives the eight roots of unity, and shows that these elements form a group. In fact, the <em>n</em><sup>th</sup> roots of unity will form a cyclic group \n",
    "isomorphic to <em>Z<sub>8</sub></em>.<br><br>\n",
    "\n",
    "Let us rearrange the elements of <em>G</em><br>"
   ]
  },
  {
   "cell_type": "code",
   "execution_count": 0,
   "metadata": {},
   "outputs": [],
   "source": [
    "G = [I, (1/2 + I/2)*sqrt(2), 1, (1/2 - I/2)*sqrt(2), -I, (-1/2 - I/2)*sqrt(2), -1, (-1/2 + I/2)*sqrt(2)]"
   ]
  },
  {
   "cell_type": "markdown",
   "metadata": {},
   "source": [
    "<br>\n",
    "so that the elements appear in the circle graph as they do in the complex plane. For example, the circle graph which multiplies every element \n",
    "by <em>&omega;</em><sub>8</sub> is given by<br>"
   ]
  },
  {
   "cell_type": "code",
   "execution_count": 0,
   "metadata": {},
   "outputs": [],
   "source": [
    "CircleGraph(G, Mult(w8))"
   ]
  },
  {
   "cell_type": "markdown",
   "metadata": {},
   "source": [
    "<br>\n",
    "We are mainly interested in those elements of this subgroup that are generators.<br><br>\n",
    "\n",
    "DEFINITION 11.7:<br>\n",
    "A complex number <em>z</em> is called a <em>primitive</em> <em>n</em><sup>th</sup> root of unity if the powers of <em>z</em> produce all <em>n</em> solutions to the \n",
    "equation <em>x<sup>n</sup></em> = 1.<br><br>\n",
    "\n",
    "It is clear that <em>&omega;<sub>n</sub></em> is a primitive <em>n</em><sup>th</sup> root of unity, but also (<em>&omega;<sub>n</sub></em>)<sup><em>k</em></sup> is \n",
    "an <em>n</em><sup>th</sup> root of unity if <em>k</em> and <em>n</em> are coprime. <br><br>\n",
    "\n",
    "EXPERIMENT:<br>\n",
    "By trial and error, determine which elements of <em>G</em> are primitive eighth roots of unity. Note that <em>&omega;</em><sub>8</sub><sup>2</sup> \n",
    "is <em>not</em> is primitive eighth root, since the circle graph<br>"
   ]
  },
  {
   "cell_type": "code",
   "execution_count": 0,
   "metadata": {},
   "outputs": [],
   "source": [
    "CircleGraph(G, Mult(w8^2))"
   ]
  },
  {
   "cell_type": "markdown",
   "metadata": {},
   "source": [
    "<br>\n",
    "shows that <em>&omega;</em><sub>8</sub><sup>2</sup> does not generate the group. Replace the 2 in the above example until all primitive eighth roots are found.<br>"
   ]
  },
  {
   "cell_type": "markdown",
   "metadata": {},
   "source": [
    "<br>\n",
    "EXAMPLE:<br>\n",
    "One twelfth root of unity is given by\n",
    "<p style='text-align: center;'><em>&omega;</em><sub>12</sub> = <sup>&radic;<font style=\"text-decoration:overline\">3</font></sup>&frasl;<sub>2</sub> + \n",
    "<sup><em>i</em></sup>&frasl;<sub>2</sub>.</p>\n",
    "Form a circle graphs of the twelfth roots of unity.<br>"
   ]
  },
  {
   "cell_type": "code",
   "execution_count": 0,
   "metadata": {},
   "outputs": [],
   "source": [
    "w12 = sqrt(3)/2 + I/2\n",
    "H = [I, 1/2 + I*sqrt(3)/2, I/2 + sqrt(3)/2, 1, -I/2 + sqrt(3)/2, 1/2 - I*sqrt(3)/2, -I, -1/2 - I*sqrt(3)/2, \n",
    "     -I/2 - sqrt(3)/2, -1, I/2 - sqrt(3)/2, -1/2 + I*sqrt(3)/2]"
   ]
  },
  {
   "cell_type": "code",
   "execution_count": 0,
   "metadata": {},
   "outputs": [],
   "source": [
    "CircleGraph(H, Mult(w12^3))"
   ]
  },
  {
   "cell_type": "markdown",
   "metadata": {},
   "source": [
    "<br>\n",
    "This graph shows that <em>&omega;</em><sub>12</sub><sup>3</sup> = <em>i</em>, and hence this is not a primitive twelve root of unity. But it is not hard to find \n",
    "primitive twelve roots from this circle graph.<br><br>\n",
    "\n",
    "EXPERIMENT:<br>\n",
    "Try changing the power in the last command to find all primitive twelfth roots of unity.<br>"
   ]
  },
  {
   "cell_type": "markdown",
   "metadata": {},
   "source": [
    "<br>\n",
    "Thus, De Moivre's Theorem (11.2) gives us a very fast means of raising complex numbers to integer powers. It is not difficult to imagine that this formula could be used \n",
    "to raise a complex number to any real number as well.  But what if we want to consider raising a number to a <em>complex</em> power? Could we somehow use De Moivre's \n",
    "Theorem (11.2) to help us find, for example, 2<sup><em>i</em></sup>?<br><br>\n",
    "\n",
    "First, we need to clarify exactly what we mean by raising an element to the power of an element. Since this is not a standard field operation, it is not surprising to \n",
    "learn that in most fields, raising an element to the power of an element is absurd. However, since the complex numbers contain a copy of the real numbers, such a \n",
    "concept seems plausible. If we examine how we take powers in the real number system we will discover that we utilize the exponential function <em>e<sup>x</sup></em> \n",
    "to compute quantities such as 2<sup>&radic;<font style=\"text-decoration:overline\">2</font></sup>. We use the fact that\n",
    "<p style='text-align: center;'>2 = <em>e</em><sup>ln 2</sup>,&emsp;so&emsp;2<sup>&radic;<font style=\"text-decoration:overline\">2</font></sup> =\n",
    "(<em>e</em><sup>ln 2</sup>)<sup>&radic;<font style=\"text-decoration:overline\">2</font></sup> = \n",
    "<em>e</em><sup>(ln 2)&radic;<font style=\"text-decoration:overline\">2</font></sup>,</p>\n",
    "which is approximately<br>"
   ]
  },
  {
   "cell_type": "code",
   "execution_count": 0,
   "metadata": {},
   "outputs": [],
   "source": [
    "N(E^(sqrt(2)*log(2)))"
   ]
  },
  {
   "cell_type": "markdown",
   "metadata": {},
   "source": [
    "<br>\n",
    "It is clear that if we know how to take the exponential function of a complex number, we will be able to raise any positive number to a complex power.<br><br>\n",
    "\n",
    "The key algebraic property of the exponential function is that\n",
    "<p style='text-align: center;'><em>e</em><sup><em>x</em>+<em>y</em></sup> = <em>e<sup>x</sup></em>&middot;<em>e<sup>y</sup></em>&emsp;for all&ensp;<em>x</em>, \n",
    "<em>y</em> &isin; &#8477;.</p>\n",
    "This indicates that the exponential function is a <em>group</em> homomorphism mapping the additive group of real numbers to the multiplicative group of real numbers. \n",
    "The reason we can consider raising an element of the real numbers to the power of an element stems from the existence of a group homomorphism between the additive \n",
    "structure and the multiplicative structure. <br><br>\n",
    "\n",
    "Using this observation about the real numbers, let us rephrase the question. Can we use De Moivre's theorem (11.2) to extend the exponential function into a \n",
    "group homomorphism from the additive structure of &#8450; (denoted &#8450;<sup>+</sup>) to the multiplicative structure &#8450;<sup>&ast;</sup>, thereby allowing us to \n",
    "compute expressions such as 2<sup><em>i</em></sup>? <br><br>\n",
    "\n",
    "If such a group homomorphism exists, then\n",
    "<p style='text-align: center;'><em>e</em><sup><em>a</em>+<em>b i</em></sup> = <em>e<sup>a</sup></em>&middot;(<em>e<sup>i</sup></em>)<sup><em>b</em></sup></p>\n",
    "so using De Moivre's theorem we can compute the exponential of any complex number (<em>a</em> + <em>b i</em>) where <em>b</em> is an integer, provided we know the value \n",
    "of <em>e<sup>i</sup></em>.  Can <em>SageMath</em> give us a hint as to what <em>e<sup>i</sup></em> should be? Let's try it.<br>"
   ]
  },
  {
   "cell_type": "code",
   "execution_count": 0,
   "metadata": {},
   "outputs": [],
   "source": [
    "E^I"
   ]
  },
  {
   "cell_type": "markdown",
   "metadata": {},
   "source": [
    "<br>\n",
    "That didn't help much. Let us try looking at the approximation.<br>"
   ]
  },
  {
   "cell_type": "code",
   "execution_count": 0,
   "metadata": {},
   "outputs": [],
   "source": [
    "N(E^I)"
   ]
  },
  {
   "cell_type": "markdown",
   "metadata": {},
   "source": [
    "<br>\n",
    "This at least tells us that <em>e<sup>i</sup></em> is a complex number, but the decimals don't look familiar.  What we are really interested in is the absolute value \n",
    "and the argument.<br><br>\n",
    "\n",
    "EXPERIMENT:<br>\n",
    "Using <em>SageMath</em>, try to determine the <em>exact</em> value for the absolute value and the argument of the number <em>e<sup>i</sup></em>.<br>"
   ]
  },
  {
   "cell_type": "markdown",
   "metadata": {},
   "source": [
    "<br>\n",
    "Although the absolute value and argument of <em>e<sup>i</sup></em> seem simple enough, there is no way to algebraically <em>prove</em> that these values are correct. \n",
    "The reason is simple enough: there are <em>many</em> ways to extend the exponential function to become a group homomorphism \n",
    "from &#8450;<sup>+</sup> to &#8450;<sup>&ast;</sup>. So typically an additional property of the homomorphism is imposed, such as the new function must have the derivative \n",
    "equal to itself. However, such additional properties are not algebraic: they all involve calculus in some way. In fact we cannot determine the value \n",
    "of <em>e<sup>i</sup></em> without calculus. Problems 11.21 through 11.23 show three ways of using calculus to determining the value of <em>e<sup>i</sup></em>.<br><br>\n",
    "\n",
    "For now, let us just use our observations from the experiment and assume that\n",
    "<p style='text-align: center;'><em>e<sup>i</sup></em> = cos( 1 radian ) + <em>i</em> sin( 1 radian ).</p>\n",
    "From this, we have by De Moivre's theorem (11.2) that\n",
    "<p style='text-align: center;'><em>e</em><sup><em>a</em>+<em>b i</em></sup> = <em>e<sup>a</sup></em>&middot;(<em>e<sup>i</sup></em>)<sup><em>b</em></sup> = \n",
    "<em>e<sup>a</sup></em>&middot;1<sup><em>b</em></sup>&middot;( cos (<em>b</em>&middot;1) + <em>i</em> sin(<em>b</em>&middot;1) ) = \n",
    "<em>e<sup>a</sup></em>&middot;( cos <em>b</em> + <em>i</em> sin <em>b</em> )</p>\n",
    "whenever <em>b</em> is an integer. It makes sense to define this as the exponential function for all complex numbers.  Notice that radian measure must be used in \n",
    "this formula!\n",
    "\n",
    "<p />\n",
    "<a name=\"prop116ret\" id=\"prop116ret\"></a>\n",
    "PROPOSITION 11.6<br>\n",
    "For <em>z</em> = <em>a</em> + <em>b i</em>, the function\n",
    "<p style='text-align: center;'><em>&fnof;</em>(<em>z</em>) = <em>e<sup>a</sup></em>&middot;( cos <em>b</em> + <em>i</em> sin <em>b</em> )</p>\n",
    "defines a group homomorphism from &#8450;<sup>+</sup> to &#8450;<sup>&ast;</sup>, which is an extension of the standard exponential function.  \n",
    "This function is called the <em>complex exponential function</em>, and is also denoted <em>e<sup>z</sup></em>.<br><br>\n",
    "\n",
    "<a href=\"#prop116\">Click here for the proof.</a>\n",
    "\n",
    "<p />\n",
    "This allows us another way of expressing <em>&omega;<sub>n</sub></em>.  Notice that\n",
    "<p style='text-align: center;'><em>e</em><sup>2<em>&pi;i</em>/<em>n</em></sup> = \n",
    "cos<span style=\"font-size:24px\">(</span><sup>2<em>&pi;</em></sup>&frasl;<sub><em>n</em></sub><span style=\"font-size:24px\">)</span> + \n",
    "<em>i</em> sin<span style=\"font-size:24px\">(</span><sup>2<em>&pi;</em></sup>&frasl;<sub><em>n</em></sub><span style=\"font-size:24px\">)</span> = <em>&omega;<sub>n</sub></em>.</p>\n",
    "So we now have a more succinct way of defining the <em>n</em><sup>th</sup> root of 1.<br><br>\n",
    "\n",
    "The real exponential function is one-to-one, but is not onto since there is no number for which <em>e<sup>x</sup></em> = &minus;1.  However, the complex exponential \n",
    "function <em>is</em> onto, since for every nonzero complex number in polar form, \n",
    "<p style='text-align: center;'><em>z</em> = <em>r</em>( cos <em>&theta;</em> + <em>i</em> sin <em>&theta;</em> ),</p>\n",
    "there is a complex number whose exponential is <em>z</em>, namely ln(<em>r</em>) + <em>i &theta;</em>. This can be seen by observing that\n",
    "<p style='text-align: center;'><em>e</em><sup>(ln <em>r</em>+<em>i &theta;</em>)</sup> = \n",
    "<em>e</em><sup>ln <em>r</em></sup>( cos <em>&theta;</em> + <em>i</em> sin <em>&theta;</em> ) = \n",
    "<em>r</em>( cos <em>&theta;</em> + <em>i</em> sin <em>&theta;</em> ) = <em>z</em>.</p>\n",
    "The drawback of the complex exponential function is that it is <em>not</em> one-to-one! Note that<br>"
   ]
  },
  {
   "cell_type": "code",
   "execution_count": 0,
   "metadata": {},
   "outputs": [],
   "source": [
    "E^(2*pi*I)"
   ]
  },
  {
   "cell_type": "markdown",
   "metadata": {},
   "source": [
    "<br>\n",
    "gives the same result as <em>e</em><sup>0</sup>. This suggests that we should look at the kernel of the group homomorphism, that is, the set of \n",
    "all <em>z</em> = <em>x</em> + <em>i y</em> such that\n",
    "<p style='text-align: center;'><em>e<sup>z</sup></em> = <em>e</em><sup><em>x</em>+<em>y i</em></sup> = 1.</p>\n",
    "It is apparent that <em>x</em> must be 1, cos(<em>y</em>) = 1, and sin(<em>y</em>) = 0.  Thus, the kernel of the complex exponential function is the set\n",
    "<p style='text-align: center;'><em>N</em> = {2 <em>k &pi; i</em> | <em>k</em> &isin; &#8484; }.</p>\n",
    "<br>This is, of course, a normal subgroup of the additive group &#8450;<sup>+</sup>.   We can denote this set by <em>N</em> = <em>&fnof;</em><sup>&minus;1</sup>(1).  We can \n",
    "similarly define the inverse exponential for any nonzero number.<br><br>\n",
    "  \n",
    "DEFINITION 11.8<br>\n",
    "For any nonzero complex number <em>z</em>, we define the <em>complex logarithm</em> of <em>z</em>, denoted log(<em>z</em>), to be the set of elements <em>x</em> such \n",
    "that <em>e<sup>x</sup></em> = <em>z</em>.<br><br>\n",
    "  \n",
    "Notice that we use the function ln(<em>x</em>) to denote the <em>real</em> logarithm, while we use log(<em>z</em>) to denote the complex logarithm.<br><br>\n",
    "  \n",
    "We have already observed that when <em>z</em> is written in polar form,\n",
    "<p style='text-align: center;'><em>z</em> = <em>r</em>( cos <em>&theta;</em> + <em>i</em> sin <em>&theta;</em> ),</p>\n",
    "that one value of <em>x</em> which satisfies the equation is <em>x</em> = ln(<em>r</em>) + <em>&theta; i</em>. We also know \n",
    "that <em>&fnof;</em><sup>&minus;1</sup>(<em>z</em>) will be a coset of the kernel of <em>&fnof;</em>.  Thus, we have\n",
    "<p style='text-align: center;'>log(<em>z</em>) = ln(<em>r</em>) + <em>&theta; i</em> + <em>N</em>.</p>\n",
    "For example, log(&minus;1) is the set\n",
    "<p style='text-align: center;'>{ <em>&pi; i</em> + 2 <em>k &pi; i</em> | <em>k</em> &isin; &#8484; } = \n",
    "{&hellip;, &minus;5 <em>&pi; i</em>, &minus;3 <em>&pi; i</em>, &minus;<em>&pi; i</em>, <em>&pi; i</em>, 3 <em>&pi; i</em>, 5 <em>&pi; i</em>, &hellip;}.</p>\n",
    "The <em>SageMath</em> <strong>log</strong> function works for complex numbers,<br>"
   ]
  },
  {
   "cell_type": "code",
   "execution_count": 0,
   "metadata": {},
   "outputs": [],
   "source": [
    "log(I)"
   ]
  },
  {
   "cell_type": "markdown",
   "metadata": {},
   "source": [
    "<br>\n",
    "but only gives one element of the set.  Thus, we must add the kernel <em>N</em> to this result to obtain the set given by log(<em>z</em>).<br><br>\n",
    "\n",
    "It is informative to see the graphs of the complex exponential and complex logarithm. Even though these graphs are really surfaces in four dimensions, we can look at \n",
    "the real part and the complex part of the functions separately, giving us two three dimensional graphs. For example, the real part of the exponential function is \n",
    "given by:<br>"
   ]
  },
  {
   "cell_type": "code",
   "execution_count": 0,
   "metadata": {},
   "outputs": [],
   "source": [
    "var(\"x y\")"
   ]
  },
  {
   "cell_type": "code",
   "execution_count": 0,
   "metadata": {},
   "outputs": [],
   "source": [
    "plot3d(E^x*cos(y), (x,-2,2), (y,-6,6))"
   ]
  },
  {
   "cell_type": "markdown",
   "metadata": {},
   "source": [
    "<br>\n",
    "The graph of the imaginary part is very similar.<br>"
   ]
  },
  {
   "cell_type": "code",
   "execution_count": 0,
   "metadata": {},
   "outputs": [],
   "source": [
    "plot3d(E^x*sin(y), (x,-2,2), (y,-6,6))"
   ]
  },
  {
   "cell_type": "markdown",
   "metadata": {},
   "source": [
    "<br>\n",
    "The real part of the logarithm function does not depend on which number of the set we pick.  Therefore we can draw a graph of the real part of the logarithm function.<br>"
   ]
  },
  {
   "cell_type": "code",
   "execution_count": 0,
   "metadata": {},
   "outputs": [],
   "source": [
    "var(\"t r\")"
   ]
  },
  {
   "cell_type": "code",
   "execution_count": 0,
   "metadata": {},
   "outputs": [],
   "source": [
    "parametric_plot3d([r*cos(t), r*sin(t), log(r)], (t, -pi, pi), (r, .01, 3))"
   ]
  },
  {
   "cell_type": "markdown",
   "metadata": {},
   "source": [
    "<br>\n",
    "This surface looks like a tornado funnel.  Even though there are many values for the imaginary part of the logarithm function, we could consider graphing all possible \n",
    "values at once. The result looks like the following graph.<br>"
   ]
  },
  {
   "cell_type": "code",
   "execution_count": 0,
   "metadata": {},
   "outputs": [],
   "source": [
    "parametric_plot3d([r*cos(t), r*sin(t), t], (t, -3*pi, 3*pi), (r, 0, 10), plot_points = [75,5])"
   ]
  },
  {
   "cell_type": "markdown",
   "metadata": {},
   "source": [
    "<br>\n",
    "This graph looks like a multi-level parking garage. Notice that for any ordered pair (<em>x</em>, <em>y</em>), there will be an infinite number of points for \n",
    "<em>z</em>. Yet one can travel on this surface from any point to any other point.  The different &quot;levels&quot; of the parking garage correspond to different \n",
    "values of the logarithm. <br><br>\n",
    "\n",
    "Once the logarithm is defined, we can actually define raising any complex number to any complex power!  We simply use the laws of exponents and say that\n",
    "<p style='text-align: center;'><em>x<sup>z</sup></em> = (<em>e</em><sup>log(<em>x</em>)</sup>)<sup><em>z</em></sup> = \n",
    "<em>e</em><sup><em>z</em>&middot;log(<em>x</em>)</sup>.</p>\n",
    "Notice that this gives a <em>set</em> of numbers, not just a single number. In other words, we are to take the set log(<em>x</em>), multiply each element by <em>z</em>, \n",
    "and take the exponential of this collection to get a collection of answers.  Although there will at times be an infinite number of elements in the \n",
    "set <em>x<sup>z</sup></em>, this will not always be so.<br><br>\n",
    "\n",
    "EXPERIMENT:<br><br>\n",
    "Use <em>SageMath</em> to find some of the elements of the set (8 <em>i</em>)<sup>1/3</sup>.  Consider 5 different values for the logarithm. You may have to \n",
    "use <strong>N(_)</strong> to see an approximation of your answers.  What do you observe about the solutions?<br>"
   ]
  },
  {
   "cell_type": "markdown",
   "metadata": {},
   "source": [
    "<br>\n",
    "The duplications observed in this experiment are not a coincidence.  Whenever <em>z</em> is a real, rational number, there will only be a finite number of possible \n",
    "values for <em>x<sup>z</sup></em>.  This is seen by the next proposition.\n",
    "\n",
    "<p />\n",
    "<a name=\"prop117ret\" id=\"prop117ret\"></a>\n",
    "PROPOSITION 11.7<br>\n",
    "For each integer <em>n</em> &gt; 0, and any nonzero complex number <em>z</em>, then there are exactly <em>n</em> values for <em>z</em><sup>1/<em>n</em></sup>.  Thus, \n",
    "there are exactly <em>n</em> solutions for <em>x</em> to the equation <em>x<sup>n</sup></em> = <em>z</em>.<br><br>\n",
    "\n",
    "<a href=\"#prop117\">Click here for the proof.</a>\n",
    "\n",
    "<p />\n",
    "This last proposition is very useful for finding square roots and cube roots of complex numbers. This turns out to have some important applications in finding the \n",
    "roots of real polynomials!  In fact, complex numbers and the functions we have defined in this section have many applications in the real world. The complex \n",
    "exponential function was fundamental to the invention of the short wave radio. The complex logarithm can be used in solving real valued differential equations. \n",
    "So even though these numbers are labeled &quot;imaginary,&quot; they are by no means just a figment of someone's imagination.<br><br>\n",
    "\n",
    "<a name=\"sec114\" id=\"sec114\"></a>\n",
    "<h1>Ordered Commutative Rings</h1>\n",
    "\n",
    "<br>\n",
    "The integers, the rational numbers, and the real numbers all have one property that most rings do not have&mdash;these three rings have an <em>ordering</em>. That is, \n",
    "given two different elements in the ring, we say that one of them is greater than the other.  Most rings do not have such an ordering, but we will find that some rings \n",
    "can be ordered in more than one way!  The ordering of a ring can give us new insight into the structure of the ring.<br><br>\n",
    "\n",
    "We begin by making a formal definition of an ordered ring <em>R</em>.  If there is a way to tell whether one element is greater than another, we should be able to \n",
    "distinguish those elements that are greater than zero, called the <em>positive elements</em> <em>P</em>. The main properties of positive numbers that we want to mimic \n",
    "is that the sum and product of two positive numbers yields positive numbers.  Thus we have the following definition.<br><br>\n",
    "\n",
    "DEFINITION 11.9<br>\n",
    "A commutative ring <em>R</em> is <em>ordered</em> if there exists a set <em>P</em> such that the three properties hold:<br><br>\n",
    "\n",
    "1) <em>P</em> is closed under addition.<br><br>\n",
    "\n",
    "2) <em>P</em> is closed under multiplication.<br><br>\n",
    "\n",
    "3) For each <em>x</em> in <em>R</em>, one and only one of the following statements is true:\n",
    "<p style='text-align: center;'><em>x</em> &isin; <em>P</em>,&emsp;<em>x</em> = 0,&ensp;or&ensp;&minus;<em>x</em> &isin; <em>P</em>.</p>\n",
    "The third property is sometimes called the <em>law of trichotomy</em>.  With this law, we can define what it means for one element to be greater than another.<br><br>\n",
    "\n",
    "DEFINITION 11.10<br>\n",
    "We say that <em>x</em> is greater than <em>y</em>, denoted <em>x</em> &gt; <em>y</em>, if <em>x</em> &minus; <em>y</em> &isin; <em>P</em>.\n",
    "Likewise, we say that <em>x</em> is smaller than <em>y</em>, denoted <em>x</em> &lt; <em>y</em>, if <em>y</em> &minus; <em>x</em> &isin; <em>P</em>.<br><br>\n",
    "\n",
    "By the law of trichotomy, either\n",
    "<p style='text-align: center;'><em>x</em> &gt; <em>y</em>,&emsp;<em>x</em> &lt; <em>y</em>,&ensp;or&ensp;<em>x</em> = <em>y</em>.</p>\n",
    "This notation keeps us from having to constantly refer to the set <em>P</em>. Instead of writing <em>x</em> &isin; <em>P</em>, we can merely \n",
    "write <em>x</em> &gt; 0.<br><br>\n",
    "\n",
    "We begin by proving some simple properties of the &quot;greater than&quot; sign.\n",
    "\n",
    "<p />\n",
    "<a name=\"lem117ret\" id=\"lem117ret\"></a>\n",
    "LEMMA 11.7<br>\n",
    "If <em>x</em>, <em>y</em>, and <em>z</em> are elements in an ordered ring, then we have the following three properties:<br><br>\n",
    "\n",
    "1) If <em>x</em> &gt; <em>y</em>, then <em>x</em> + <em>z</em> &gt; <em>y</em> + <em>z</em>.<br><br>\n",
    "\n",
    "2) If <em>x</em> &gt; <em>y</em> and <em>z</em> &gt; 0, then <em>x</em>&middot;<em>z</em> &gt; <em>y</em>&middot;<em>z</em>.<br><br>\n",
    "\n",
    "3) If <em>x</em> &gt; <em>y</em> and <em>y</em> &gt; <em>z</em>, then <em>x</em> &gt; <em>z</em>.<br><br>\n",
    "\n",
    "<a href=\"#lem117\">Click here for the proof.</a>\n",
    "\n",
    "<p />\n",
    "Given a ring that has an ordering, one of the great challenges is determining the set of positive elements <em>P</em>.  Are there any elements of an ordered ring that we \n",
    "know <em>must</em> be in <em>P</em>?  Yes, there are at least some elements given by the next proposition.\n",
    "\n",
    "<p />\n",
    "<a name=\"prop118ret\" id=\"prop118ret\"></a>\n",
    "PROPOSITION 11.8<br>\n",
    "For any nonzero element <em>x</em> in an ordered ring, <em>x</em><sup>2</sup> is in <em>P</em>.<br><br>\n",
    "\n",
    "<a href=\"#prop118\">Click here for the proof.</a>\n",
    "\n",
    "<p />\n",
    "An immediate consequence of this is that if the ring has an identity <em>e</em>, then <em>e</em> &gt; 0, since <em>e</em> = <em>e</em><sup>2</sup>.  We can prove even \n",
    "more.\n",
    "\n",
    "<p />\n",
    "<a name=\"cor112ret\" id=\"cor112ret\"></a>\n",
    "COROLLARY 11.2<br>\n",
    "If <em>R</em> is an ordered ring with multiplicative identity 1, and <em>n</em> is any positive integer, then <em>n</em>&middot;1 is in <em>P</em>.  In particular, \n",
    "the characteristic of <em>R</em> must be 0.<br><br>\n",
    "\n",
    "<a href=\"#cor112\">Click here for the proof.</a>\n",
    "\n",
    "<p />\n",
    "The standard examples of ordered rings are the integers, the rationals, and the real numbers.  It should be noted that the complex numbers do <em>not</em> form an \n",
    "ordered ring, since <em>i</em><sup>2</sup> = &minus;1 < 0, and by Proposition 11.8, any square must be positive.<br><br>\n",
    "\n",
    "EXAMPLE<br>\n",
    "Consider the set\n",
    "<p style='text-align: center;'><em>S</em> = {<em>x</em> + <em>y</em>&radic;<font style=\"text-decoration:overline\">2</font> | <em>x</em>, <em>y</em> &isin; &#8484;}.</p>\n",
    "We saw in &sect;10.1 that this is a subring of &#8477;.  We will call this ring &#8484;[&radic;<font style=\"text-decoration:overline\">2</font>], the ring formed by adjoining the square root of 2 to &#8484;.  Find a non-standard ordering on this ring.<br><br>\n",
    "\n",
    "We can verify that the product of two elements of <em>S</em>,<br>"
   ]
  },
  {
   "cell_type": "code",
   "execution_count": 0,
   "metadata": {},
   "outputs": [],
   "source": [
    "var(\"x1 x2 y1 y2\")\n",
    "expand( (x1 + y1*sqrt(2))*(x2 + y2*sqrt(2)) )"
   ]
  },
  {
   "cell_type": "markdown",
   "metadata": {},
   "source": [
    "<br>\n",
    "yields a number of the same form.  By Proposition 0.5, this ring has no zero divisors, so this is an integral domain.<br><br>\n",
    "\n",
    "Since all elements of &#8484;[&radic;<font style=\"text-decoration:overline\">2</font>] are real, we could use the standard ordering, letting <em>P</em> consist of all \n",
    "numbers that, when viewed as a real number, are positive. But we could order these numbers in a non-standard way!  By Corollary 11.2, the positive integers must be \n",
    "in <em>P</em>, but there is no way of proving that the square root of 2 is in <em>P</em>.  (There is no number \n",
    "in &#8484;[&radic;<font style=\"text-decoration:overline\">2</font>] whose square is &radic;<font style=\"text-decoration:overline\">2</font>.)  Thus, there is nothing \n",
    "preventing us from stating that &radic;<font style=\"text-decoration:overline\">2</font> is negative, and \n",
    "therefore &minus;&radic;<font style=\"text-decoration:overline\">2</font> would be in <em>P</em>!  The rest of the elements would be identified as either positive or \n",
    "negative accordingly.<br><br>\n",
    "\n",
    "For example, 1 + &radic;<font style=\"text-decoration:overline\">2</font> would be negative, since\n",
    "<p style='text-align: center;'>(1 + &radic;<font style=\"text-decoration:overline\">2</font>)&middot;(1 &minus; \n",
    "&radic;<font style=\"text-decoration:overline\">2</font>) = &minus;1 < 0,</p>\n",
    "and 1 &minus; &radic;<font style=\"text-decoration:overline\">2</font> is the sum of two positive numbers, so this term is positive.<br><br>\n",
    "\n",
    "EXPERIMENT:<br>\n",
    "If &radic;<font style=\"text-decoration:overline\">2</font> &lt; 0, is 3 + 2&radic;<font style=\"text-decoration:overline\">2</font> positive or negative? <br>\n",
    "(Hint: multiply by the &quot;conjugate&quot; as we did in the last example.)<br>"
   ]
  },
  {
   "cell_type": "markdown",
   "metadata": {},
   "source": [
    "<br>\n",
    "To see what is really going on in this example, it is helpful to look at the ring automorphisms, which were introduced in the last section.The automorphism of \n",
    "particular interest is as follows:\n",
    "<p style='text-align: center;'><em>&fnof;</em> : &#8484;[&radic;<font style=\"text-decoration:overline\">2</font>] &rarr; \n",
    "&#8484;[&radic;<font style=\"text-decoration:overline\">2</font>],</p>\n",
    "<p style='text-align: center;'><em>&fnof;</em>(<em>x</em> + <em>y</em>&radic;<font style=\"text-decoration:overline\">2</font>) = \n",
    "<em>x</em> &minus; <em>y</em>&radic;<font style=\"text-decoration:overline\">2</font>.</p>\n",
    "This automorphism can be defined in <em>SageMath</em>.  Since <em>SageMath</em> already knows that sqrt(2) &middot; sqrt(2) = 2, we do not need to tell <em>SageMath</em> anything to define the ring &#8484;[&radic;<font style=\"text-decoration:overline\">2</font>]!<br><br>\n",
    "\n",
    "We now can define the homomorphism.  Since this is a field homomorphism on an infinite set of objects, the format is slightly different.<br>"
   ]
  },
  {
   "cell_type": "code",
   "execution_count": 0,
   "metadata": {},
   "outputs": [],
   "source": [
    "InitDomain(0)\n",
    "F = FieldHomo()\n",
    "HomoDef(F, sqrt(2), -sqrt(2))"
   ]
  },
  {
   "cell_type": "markdown",
   "metadata": {},
   "source": [
    "<br>\n",
    "We do not have to indicate the domain and \n",
    "target, since the domain will be the currently defined field, which in this case is a subset of the real numbers.  \n",
    "The command <strong>InitDomain(0)</strong> merely clears out any previous fields that have been defined, such as \n",
    "the \"complex numbers modulo 3\".<br><br>\n",
    "\n",
    "Since <em>F</em>(1) must be 1, this is all we \n",
    "need to define the homomorphism.  We can check that this is a homomorphism with the command<br>"
   ]
  },
  {
   "cell_type": "code",
   "execution_count": 0,
   "metadata": {},
   "outputs": [],
   "source": [
    "CheckHomo(F)"
   ]
  },
  {
   "cell_type": "markdown",
   "metadata": {},
   "source": [
    "<br>\n",
    "We can try this homomorphism out on different numbers.<br>"
   ]
  },
  {
   "cell_type": "code",
   "execution_count": 0,
   "metadata": {},
   "outputs": [],
   "source": [
    "F(2 + 3*sqrt(2))"
   ]
  },
  {
   "cell_type": "markdown",
   "metadata": {},
   "source": [
    "<br>\n",
    "\n",
    "What is the relationship between this homomorphism and the unusual ordering that we gave the ring &#8484;[&radic;<font style=\"text-decoration:overline\">2</font>]?  If we \n",
    "let <em>P</em> denote the set of positive elements using the &quot;standard&quot; ordering, and let <em>P</em>&prime; be the set of \n",
    "positive elements under the unusual ordering we saw above, then\n",
    "<p style='text-align: center;'><em>P</em>&prime; = <em>&fnof;</em>(<em>P</em>).</p>\n",
    "In fact, for any automorphism <em>&#981;</em> on an ordered ring, we can construct an alternative way to order the ring by \n",
    "using <em>&#981;</em><em>(</em><em>P</em><em>)</em> instead of <em>P</em> for the set of positive elements.<br><br>While we are working with the integral \n",
    "domain &#8484;[&radic;<font style=\"text-decoration:overline\">2</font>] we might mention what happens if we consider the field of quotients of this ring. Certainly this \n",
    "must include all numbers of the form\n",
    "<p style='text-align: center;'><em>x</em> + <em>y</em>&radic;<font style=\"text-decoration:overline\">2</font>,&emsp;<em>x</em>, <em>y</em> &isin; &#8474;</p>\n",
    "But are there other elements?  We need to check that all non-zero elements of this form have a multiplicative \n",
    "inverse.  For example, is<br>"
   ]
  },
  {
   "cell_type": "code",
   "execution_count": 0,
   "metadata": {},
   "outputs": [],
   "source": [
    "1/(1 + sqrt(2) )"
   ]
  },
  {
   "cell_type": "markdown",
   "metadata": {},
   "source": [
    "<br>\n",
    "of this form?  The <strong>Together</strong> command will also rationalize the denominator, so we find that<br>"
   ]
  },
  {
   "cell_type": "code",
   "execution_count": 0,
   "metadata": {},
   "outputs": [],
   "source": [
    "Together(1/(1 + sqrt(2)))"
   ]
  },
  {
   "cell_type": "markdown",
   "metadata": {},
   "source": [
    "<br>\n",
    "produces a number of the correct form.  In fact, by defining two variables <em>a</em> and <em>b</em>, we can find how to take the inverse \n",
    "of <em>a</em> + <em>b</em>&radic;<font style=\"text-decoration:overline\">2</font>, by multiplying by <em>a</em> &minus; \n",
    "<em>b</em>&radic;<font style=\"text-decoration:overline\">2</font>.<br>"
   ]
  },
  {
   "cell_type": "code",
   "execution_count": 0,
   "metadata": {},
   "outputs": [],
   "source": [
    "var(\"a b\")\n",
    "expand((a + b*sqrt(2))*(a - b*sqrt(2)))"
   ]
  },
  {
   "cell_type": "markdown",
   "metadata": {},
   "source": [
    "<br>\n",
    "Since this will be rational whenever <em>a</em> and <em>b</em> are rational, we see that\n",
    "\n",
    "<br><br>\n",
    "<table align=\"center\" border=\"0\" cellspacing=\"0\" cellpadding=\"0\">\n",
    "  <tr>\n",
    "    <td align=\"center\"><font style=\"text-decoration:underline\">&emsp;&ensp;1&ensp;&emsp;</font></td>\n",
    "    <td rowspan = \"2\" align=\"center\">&ensp;=&ensp;</td>\n",
    "    <td align=\"center\"><em>a</em> &minus; <em>b</em>&radic;<font style=\"text-decoration:overline\">2</font></td>\n",
    "    <td rowspan = \"2\" align=\"center\">.</td>\n",
    "  </tr>\n",
    "  <tr>\n",
    "    <td align=\"center\"><em>a</em> + <em>b</em>&radic;<font style=\"text-decoration:overline\">2</font></td>\n",
    "    <td align=\"center\"><font style=\"text-decoration:overline\"><em>a</em>&sup2; &minus; 2<em>b</em>&sup2;</font></td>\n",
    "  </tr>\n",
    "</table> \n",
    "<br>\n",
    "By Proposition 0.5, the denominator will not be zero for rational <em>a</em> and <em>b</em>, so this is a field.\n",
    "We will call this field &#8474;[&radic;<font style=\"text-decoration:overline\">2</font>].<br><br>\n",
    "\n",
    "Now that &#8474;[&radic;<font style=\"text-decoration:overline\">2</font>] is defined in <em>SageMath</em>, the automorphism <em>&fnof;</em> extends to an automorphism on the \n",
    "field &#8474;[&radic;<font style=\"text-decoration:overline\">2</font>].  Thus, the unusual ordering that we gave \n",
    "to &#8484;[&radic;<font style=\"text-decoration:overline\">2</font>] should also extend to the field of quotients.  In fact this generally happens, as seen in the \n",
    "next proposition.\n",
    "\n",
    "<p />\n",
    "<a name=\"prop119ret\" id=\"prop119ret\"></a>\n",
    "PROPOSITION 11.9<br>\n",
    "\n",
    "Let <em>R</em> be an ordered integral domain, with <em>P</em> the set of positive elements.  Then if <em>Q</em> is the field of quotients on <em>R</em>, then the \n",
    "ordering on <em>R</em> can be extended in a unique way to an ordering on <em>Q</em>.  That is, there is a unique set <em>P</em>&thinsp;&prime; that forms an ordering on \n",
    "<em>Q</em>, with\n",
    "<p style='text-align: center;'><em>p</em> &isin; \n",
    "<em>P</em>&emsp;&#10233;&emsp;<span style=\"font-size:24px\">(</span><sup><em>p</em></sup>&frasl;<sub>1</sub><span style=\"font-size:24px\">)</span> &isin; \n",
    "<em>P</em>&thinsp;&prime;</p>\n",
    "\n",
    "<a href=\"#prop119\">Click here for the proof.</a>\n",
    "\n",
    "<p />\n",
    "EXAMPLE:<br>\n",
    "What if we had considered &#8484;[&#8731;<font style=\"text-decoration:overline\">2</font>] instead of &#8484;[&radic;<font style=\"text-decoration:overline\">2</font>]? We \n",
    "can write &#8731;<font style=\"text-decoration:overline\">2</font> as 2<sup>(1/3)</sup> in <em>SageMath</em>, and try the <strong>Together</strong> command to see what \n",
    "happens.<br>"
   ]
  },
  {
   "cell_type": "code",
   "execution_count": 0,
   "metadata": {},
   "outputs": [],
   "source": [
    "Together(1/(1 + 2^(1/3)))"
   ]
  },
  {
   "cell_type": "markdown",
   "metadata": {},
   "source": [
    "<br>\n",
    "<em>SageMath</em> was able to rationalize the denominator, but the result involved 2<sup>(2/3)</sup>.  No wonder, since\n",
    "<p style='text-align: center;'>2<sup>(1/3)</sup>&middot;2<sup>(1/3)</sup> = 2<sup>(2/3)</sup>,</p>\n",
    "which yields a term we didn't consider.  Thus, we have to include all numbers of the form\n",
    "<p style='text-align: center;'><em>x</em> + <em>y</em> &#8731;<font style=\"text-decoration:overline\">2</font> + \n",
    "<em>z</em> &#8731;<font style=\"text-decoration:overline\">4</font> &isin; &#8484;[&#8731;<font style=\"text-decoration:overline\">2</font>].</p>\n",
    "In <em>SageMath</em>, we would enter this as:<br>"
   ]
  },
  {
   "cell_type": "code",
   "execution_count": 0,
   "metadata": {},
   "outputs": [],
   "source": [
    "var(\"x y z\")\n",
    "x + y*2^(1/3) + z*2^(2/3)"
   ]
  },
  {
   "cell_type": "markdown",
   "metadata": {},
   "source": [
    "<br>\n",
    "We can check if such expressions are now closed under multiplication:<br>"
   ]
  },
  {
   "cell_type": "code",
   "execution_count": 0,
   "metadata": {},
   "outputs": [],
   "source": [
    "var(\"x1 x2 y1 y2 z1 z2\")\n",
    "expand( (x1 + y1*2^(1/3) + z1*2^(2/3))*(x2 + y2*2^(1/3) + z2*2^(2/3)) )"
   ]
  },
  {
   "cell_type": "markdown",
   "metadata": {},
   "source": [
    "<br>\n",
    "This is a mess, but it is clear that the product is in &#8484;[&#8731;<font style=\"text-decoration:overline\">2</font>]. Let us see if we can take inverses.<br>"
   ]
  },
  {
   "cell_type": "code",
   "execution_count": 0,
   "metadata": {},
   "outputs": [],
   "source": [
    "Together(1/(1 + 2^(1/3) - 3*2^(2/3)))"
   ]
  },
  {
   "cell_type": "markdown",
   "metadata": {},
   "source": [
    "<br>\n",
    "It seems like we can take inverses, but it is harder to prove that we can always rationalize the donominator.  Notice that<br>"
   ]
  },
  {
   "cell_type": "code",
   "execution_count": 0,
   "metadata": {},
   "outputs": [],
   "source": [
    "var(\"a b c\")\n",
    "expand((a + b*2^(1/3) + c*2^(2/3))*(a^2 - 2*b*c + (2*c^2 - a*b)*2^(1/3) + (b^2 - a*c)*2^(2/3)))"
   ]
  },
  {
   "cell_type": "markdown",
   "metadata": {},
   "source": [
    "<br>\n",
    "will produce a rational number.  Thus,\n",
    "<br><br>\n",
    "<table align=\"center\" border=\"0\" cellspacing=\"0\" cellpadding=\"0\">\n",
    "  <tr>\n",
    "    <td align=\"center\"><font style=\"text-decoration:underline\">&ensp;&emsp;&emsp;&emsp;1&emsp;&emsp;&emsp;&ensp;</font></td>\n",
    "    <td rowspan = \"2\" align=\"center\">&ensp;=&ensp;</td>\n",
    "    <td align=\"center\"><em>a</em>&sup2; &minus; 2 <em>b c</em> + (2 <em>c</em>&sup2; &minus; <em>a b</em>)&#8731;<font style=\"text-decoration:overline\">2</font> + \n",
    "    (<em>b</em>&sup2; &minus; <em>a c</em>)&#8731;<font style=\"text-decoration:overline\">4</font></td>\n",
    "    <td rowspan = \"2\" align=\"center\">.</td>\n",
    "  </tr>\n",
    "  <tr>\n",
    "    <td align=\"center\"><em>a</em> + <em>b</em>&#8731;<font style=\"text-decoration:overline\">2</font> + <em>c</em>&#8731;<font style=\"text-decoration:overline\">4</font></td>\n",
    "    <td align=\"center\"><font style=\"text-decoration:overline\">&ensp;&emsp;&emsp;&emsp;&emsp;<em>a</em>&sup3; + 2 <em>b</em>&sup3; + 4 <em>c</em>&sup3; &minus; \n",
    "    6 <em>a b c</em>&emsp;&emsp;&emsp;&emsp;&ensp;</font></td>\n",
    "  </tr>\n",
    "</table>  \n",
    "<br>\n",
    "It takes a bit more work to show that the denominator will never be zero when <em>a</em>, <em>b</em>, and <em>c</em> are rational (see Problem 15.)  Once this has been proven, we see that &#8474;[&#8731;<font style=\"text-decoration:overline\">2</font>] is a field.\n",
    "\n",
    "<br><br>\n",
    "Does this field have an unusual ordering, as the field &#8474;[&radic;<font style=\"text-decoration:overline\">2</font>] did?  Note that in this field, \n",
    "<p style='text-align: center;'>2 &#8731;<font style=\"text-decoration:overline\">2</font> = (&#8731;<font style=\"text-decoration:overline\">4</font>)<sup>2</sup> > 0.</p>\n",
    "So by Proposition 11.8, the cube root of 2 must be positive.  Likewise, 2<sup>(2/3)</sup> must be positive, since it is a perfect square. It seems that there is \n",
    "little chance for finding an unusual ordering for this field. To eliminate this chance altogether, note that\n",
    "<p style='text-align: center;'>(4 &#8731;<font style=\"text-decoration:overline\">2</font> &minus; 5)(16 &#8731;<font style=\"text-decoration:overline\">4</font> + \n",
    "20 &#8731;<font style=\"text-decoration:overline\">2</font> + 25) = 128 &minus; 125 = 3 > 0.</p>\n",
    "Hence, we have that 4 &#8731;<font style=\"text-decoration:overline\">2</font> &minus; 5 must be positive, even though numerically it is very close to 0.<br><br>\n",
    "\n",
    "The reason there is only one way to order this field stems from the fact that there is only one automorphism on this field&mdash;the trivial one. For \n",
    "if <em>&fnof;</em> is an automorphism of &#8474;[&#8731;<font style=\"text-decoration:overline\">2</font>], then \n",
    "<em>&fnof;</em>(&#8731;<font style=\"text-decoration:overline\">2</font>) must be a number whose cube is 2.  But there is only one such <em>real</em> number, and all \n",
    "elements in this field are real.  Thus,\n",
    "<p style='text-align: center;'><em>&fnof;</em>(&#8731;<font style=\"text-decoration:overline\">2</font>) = &#8731;<font style=\"text-decoration:overline\">2</font>,</p>\n",
    "and therefore <em>&fnof;</em>(<em>x</em>) = <em>x</em> for all <em>x</em> in the field.<br><br>\n",
    "\n",
    "EXAMPLE:<br>\n",
    "Consider the set\n",
    "<p style='text-align: center;'><em>S</em> = <span style=\"font-size:24px\">{</span><em>x</em> + <em>y</em> cos<span style=\"font-size:24px\">(</span><sup><em>&pi;</em></sup>&frasl;<sub>9</sub><span \n",
    "style=\"font-size:24px\">)</span> + <em>z</em> cos<span style=\"font-size:24px\">(</span><sup>2<em>&pi;</em></sup>&frasl;<sub>9</sub><span style=\"font-size:24px\">) |</span> \n",
    "<em>x</em>, <em>y</em>, <em>z</em> &isin; &#8474;<span style=\"font-size:24px\">}</span>.</p>\n",
    "Find several possible ways of defining an ordering on this field.<br><br>\n",
    "\n",
    "To multiply two such numbers together, we need to use some trigometric identities:\n",
    "<p style='text-align: center;'>cos<sup>2</sup>(<em>x</em>) = <sup>1</sup>&frasl;<sub>2</sub>( 1 + cos(2<em>x</em>) ),</p>\n",
    "<p style='text-align: center;'>cos(<em>x</em>)&middot;cos(<em>y</em>) = \n",
    "<sup>1</sup>&frasl;<sub>2</sub>( cos(<em>x</em> + <em>y</em>) + cos(<em>x</em> &minus; <em>y</em>) ),&emsp;and</p>\n",
    "<p style='text-align: center;'>cos<span \n",
    "style=\"font-size:24px\">(</span><sup>4<em>&pi;</em></sup>&frasl;<sub>9</sub><span style=\"font-size:24px\">)</span> = \n",
    "cos<span style=\"font-size:24px\">(</span><sup><em>&pi;</em></sup>&frasl;<sub>9</sub><span style=\"font-size:24px\">)</span> &minus; \n",
    "cos<span style=\"font-size:24px\">(</span><sup>2<em>&pi;</em></sup>&frasl;<sub>9</sub><span style=\"font-size:24px\">)</span>.</p>\n",
    "\n",
    "EXPERIMENT:<br>\n",
    "Can you derive the last trig identity from the other two?<br>"
   ]
  },
  {
   "cell_type": "markdown",
   "metadata": {},
   "source": [
    "<br>\n",
    "<em>SageMath</em> is already familiar with these trigonometric identities. In fact, the command <strong>TrigReduce</strong> will utilize the above identities to simplify \n",
    "a trigonomic expression.  Thus, we can see that the product of two elements of <em>S</em> as follows:<br>"
   ]
  },
  {
   "cell_type": "code",
   "execution_count": 0,
   "metadata": {},
   "outputs": [],
   "source": [
    "var(\"x1 x2 y1 y2 z1 z2\")\n",
    "TrigReduce( (x1 + y1*cos(pi/9) + z1*cos(2*pi/9) )*(x2 + y2*cos(pi/9) + z2*cos(2*pi/9) ) )"
   ]
  },
  {
   "cell_type": "markdown",
   "metadata": {},
   "source": [
    "<br>\n",
    "As messy as this is, one can see that it is an element of <em>S</em>, so <em>S</em> is closed under multiplication.  In fact, the set <em>S</em> is a field, but it is very \n",
    "difficult to show this.<br><br>\n",
    "\n",
    "Since the elements of this field are all real there is a natural ordering of the elements of <em>S</em>.  Are there other ways to order this field?  We want to look \n",
    "for automorphisms on the field <em>S</em>. But consider the following:<br>"
   ]
  },
  {
   "cell_type": "code",
   "execution_count": 0,
   "metadata": {},
   "outputs": [],
   "source": [
    "InitDomain(0)\n",
    "F = FieldHomo()"
   ]
  },
  {
   "cell_type": "code",
   "execution_count": 0,
   "metadata": {},
   "outputs": [],
   "source": [
    "HomoDef(F, cos(pi/9), - cos(2*pi/9) )\n",
    "HomoDef(F, cos(2*pi/9), cos(pi/9) - cos(2*pi/9) )"
   ]
  },
  {
   "cell_type": "markdown",
   "metadata": {},
   "source": [
    "<br>\n",
    "Is this an automorphism? Let's check.<br>"
   ]
  },
  {
   "cell_type": "code",
   "execution_count": 0,
   "metadata": {},
   "outputs": [],
   "source": [
    "CheckHomo(F)"
   ]
  },
  {
   "cell_type": "markdown",
   "metadata": {},
   "source": [
    "<br>\n",
    "Apparently it is! Furthermore, we could consider the homomorphism <em>&fnof;</em>&thinsp;<sup>2</sup>(<em>x</em>) = <em>&fnof;</em>(<em>&fnof;</em>(<em>x</em>)):<br>"
   ]
  },
  {
   "cell_type": "code",
   "execution_count": 0,
   "metadata": {},
   "outputs": [],
   "source": [
    "F(F(cos(pi/9)))"
   ]
  },
  {
   "cell_type": "code",
   "execution_count": 0,
   "metadata": {},
   "outputs": [],
   "source": [
    "F(F(cos(2*pi/9)))"
   ]
  },
  {
   "cell_type": "markdown",
   "metadata": {},
   "source": [
    "<br>\n",
    "This shows that <em>&fnof;</em>&thinsp;<sup>2</sup> is even another automorphism on <em>S</em>.<br><br>\n",
    "\n",
    "EXPERIMENT:<br>\n",
    "If we considered the automorphism <em>&fnof;</em>&thinsp;<sup>3</sup>(<em>x</em>) = <em>&fnof;</em>(<em>&fnof;</em>(<em>&fnof;</em>(<em>x</em>))), would we get yet \n",
    "another automorphism?<br>"
   ]
  },
  {
   "cell_type": "markdown",
   "metadata": {},
   "source": [
    "<br>\n",
    "Are there any automorphisms on the field <em>S</em> besides these?  We can show that there are not.  We will take advantage of the trig identity\n",
    "<p style='text-align: center;'>cos(3 <em>x</em>) = 4 cos<sup>3</sup><em>x</em> &minus; 3 cos <em>x</em></p>\n",
    "from which we get\n",
    "<p style='text-align: center;'><sup>1</sup>&frasl;<sub>2</sub> = cos<span style=\"font-size:24px\">(</span><sup>3<em>&pi;</em></sup>&frasl;<sub>9</sub><span \n",
    "style=\"font-size:24px\">)</span> = 4 cos<sup>3</sup><span style=\"font-size:24px\">(</span><sup><em>&pi;</em></sup>&frasl;<sub>9</sub><span \n",
    "style=\"font-size:24px\">)</span> &minus; 3 cos<span style=\"font-size:24px\">(</span><sup><em>&pi;</em></sup>&frasl;<sub>9</sub><span style=\"font-size:24px\">)</span>.</p>\n",
    "Thus, cos<span style=\"font-size:24px\">(</span><sup><em>&pi;</em></sup>&frasl;<sub>9</sub><span style=\"font-size:24px\">)</span> satisfies the polynomial equation\n",
    "<p style='text-align: center;'>4 <em>x</em><sup>3</sup> &minus; 3 <em>x</em> = <sup>1</sup>&frasl;<sub>2</sub>.</p>\n",
    "Because <em>&fnof;</em> is an automorphism, we have to have <em>&fnof;</em><span style=\"font-size:24px\">(</span>cos<span \n",
    "style=\"font-size:24px\">(</span><sup><em>&pi;</em></sup>&frasl;<sub>9</sub><span style=\"font-size:24px\">) )</span> satisfying the same polynomial equation.  But there are \n",
    "only three roots to a cubic equation, and so there are only three possible values for <em>&fnof;</em><span style=\"font-size:24px\">(</span>cos<span \n",
    "style=\"font-size:24px\">(</span><sup><em>&pi;</em></sup>&frasl;<sub>9</sub><span style=\"font-size:24px\">) )</span>.  Each of these three solutions produces a \n",
    "unique automorphism on <em>S</em>, since\n",
    "<p style='text-align: center;'><em>&fnof;</em><span style=\"font-size:24px\">(</span>cos<span \n",
    "style=\"font-size:24px\">(</span><sup>2<em>&pi;</em></sup>&frasl;<sub>9</sub><span style=\"font-size:24px\">) )</span> = <em>&fnof;</em><span \n",
    "style=\"font-size:24px\">(</span>2 cos<sup>2</sup><span \n",
    "style=\"font-size:24px\">(</span><sup><em>&pi;</em></sup>&frasl;<sub>9</sub><span style=\"font-size:24px\">)</span> &minus; 1<span style=\"font-size:24px\">)</span> = \n",
    "2 <em>&fnof;</em><span style=\"font-size:24px\">(</span>cos<span \n",
    "style=\"font-size:24px\">(</span><sup>2<em>&pi;</em></sup>&frasl;<sub>9</sub><span style=\"font-size:24px\">) )</span><sup>2</sup> &minus; 1.</p>\n",
    "By Lemma 11.5, we see that the group of automorphisms of this ring must be isomorphic to <em>Z</em><sub>3</sub>. \n",
    "In fact, we can compute<br>"
   ]
  },
  {
   "cell_type": "code",
   "execution_count": 0,
   "metadata": {},
   "outputs": [],
   "source": [
    "F(F(F(cos(pi/9))))"
   ]
  },
  {
   "cell_type": "code",
   "execution_count": 0,
   "metadata": {},
   "outputs": [],
   "source": [
    "F(F(F(cos(2*pi/9))))"
   ]
  },
  {
   "cell_type": "markdown",
   "metadata": {},
   "source": [
    "<br>\n",
    "and see that <em>&fnof;</em>(<em>&fnof;</em>(<em>&fnof;</em>(<em>x</em>))) = <em>x</em> for all <em>x</em>.\n",
    "\n",
    "The three automorphisms give us three ways to define \n",
    "an ordering on the field <em>S</em>:<br><br>\n",
    "\n",
    "1) <em>a</em> &gt;<sub>1</sub> <em>b</em> if <em>a</em> is larger than <em>b</em> as real numbers.<br><br>\n",
    "\n",
    "2) <em>a</em> &gt;<sub>2</sub> <em>b</em> if <em>&fnof;</em>(<em>a</em>) &gt;<sub>1</sub> <em>&fnof;</em>(<em>b</em>).<br><br>\n",
    "\n",
    "3) <em>a</em> &gt;<sub>3</sub> <em>b</em> if <em>&fnof;</em>(<em>&fnof;</em>(<em>a</em>)) &gt;<sub>1</sub> <em>&fnof;</em>(<em>&fnof;</em>(<em>b</em>)).<br><br>\n",
    "\n",
    "EXPERIMENT:<br>\n",
    "Consider the numbers<br>"
   ]
  },
  {
   "cell_type": "code",
   "execution_count": 0,
   "metadata": {},
   "outputs": [],
   "source": [
    "A = 1 - 2*cos(pi/9); A"
   ]
  },
  {
   "cell_type": "code",
   "execution_count": 0,
   "metadata": {},
   "outputs": [],
   "source": [
    "B = 1 + 3*cos(2*pi/9); B"
   ]
  },
  {
   "cell_type": "markdown",
   "metadata": {},
   "source": [
    "<br>\n",
    "Are these numbers positive or negative in the three ordering systems?  Can you find a irrational number in <em>S</em> which is positive regardless of which ordering \n",
    "is used?<br>"
   ]
  },
  {
   "cell_type": "markdown",
   "metadata": {},
   "source": [
    "<br>\n",
    "We can actually use the automorphisms to prove that <em>S</em> is a field.  If we let\n",
    "<br>"
   ]
  },
  {
   "cell_type": "code",
   "execution_count": 0,
   "metadata": {},
   "outputs": [],
   "source": [
    "var(\"a b c\")\n",
    "x = a + b*cos(pi/9) + c*cos(2*pi/9); x"
   ]
  },
  {
   "cell_type": "markdown",
   "metadata": {},
   "source": [
    "<br>\n",
    "we can consider what happens if we multiply the three automorphisms together.<br>"
   ]
  },
  {
   "cell_type": "code",
   "execution_count": 0,
   "metadata": {},
   "outputs": [],
   "source": [
    "TrigReduce(x*F(x)*F(F(x)))"
   ]
  },
  {
   "cell_type": "markdown",
   "metadata": {},
   "source": [
    "<br>\n",
    "We discover that this product will be a rational number!  See Problem 17 for an explanation.  With this, we can see that<br><br>\n",
    "<table align=\"center\" border=\"0\" cellspacing=\"0\" cellpadding=\"0\">\n",
    "  <tr>\n",
    "    <td align=\"center\"><font style=\"text-decoration:underline\">1</font></td>\n",
    "    <td rowspan = \"2\" align=\"center\">&ensp;=&ensp;</td>\n",
    "    <td align=\"center\"><font style=\"text-decoration:underline\">&emsp;&emsp;&emsp;&emsp;&emsp;&emsp;&emsp;&emsp;&emsp;&emsp;8 \n",
    "<em>&fnof;</em>(<em>x</em>)&middot;<em>&fnof;</em>(<em>&fnof;</em>(<em>x</em>))&emsp;&emsp;&emsp;&emsp;&emsp;&emsp;&emsp;&emsp;&emsp;&emsp;</font></td>\n",
    "    <td rowspan = \"2\" align=\"center\">&ensp;.</td>\n",
    "  </tr>\n",
    "  <tr>\n",
    "    <td align=\"center\"><em>x</em></td>\n",
    "    <td align=\"center\">8<em>a</em>&sup3; &minus; 6<em>ab</em>&sup2; + <em>b</em>&sup3; &minus; 6<em>abc</em> + \n",
    "6<em>b</em>&sup2;<em>c</em> &minus; 6<em>ac</em>&sup2; + 3<em>bc</em>&sup2; &minus; <em>c</em>&sup3;</td>\n",
    "  </tr>\n",
    "</table> \n",
    "<br>\n",
    "Since we can compute<br>"
   ]
  },
  {
   "cell_type": "code",
   "execution_count": 0,
   "metadata": {},
   "outputs": [],
   "source": [
    "TrigReduce(8*F(x)*F(F(x)))"
   ]
  },
  {
   "cell_type": "markdown",
   "metadata": {},
   "source": [
    "<br>\n",
    "we find that<br><br>\n",
    "<table align=\"center\" border=\"0\" cellspacing=\"0\" cellpadding=\"0\">\n",
    "  <tr>\n",
    "    <td align=\"center\"><font style=\"text-decoration:underline\">1</font></td>\n",
    "    <td rowspan = \"2\" align=\"center\">&ensp;=&ensp;</td>\n",
    "    <td align=\"center\"><font style=\"text-decoration:underline\">(8<em>a</em>&sup2; &minus; 2<em>b</em>&sup2; &minus; \n",
    "2<em>bc</em> &minus; 2<em>c</em>&sup2;) + (8<em>ab</em> + 8<em>bc</em> + 4<em>c</em>&sup2;) cos(<em>&pi;</em>/9) + \n",
    "(4<em>b</em>&sup2; &minus; 8<em>ac</em> &minus; 4 <em>c</em>&sup2;) cos(2<em>&pi;</em>/9)</font></td>\n",
    "    <td rowspan = \"2\" align=\"center\">&ensp;.</td>\n",
    "  </tr>\n",
    "  <tr>\n",
    "    <td align=\"center\"><em>x</em></td>\n",
    "    <td align=\"center\">8<em>a</em>&sup3; &minus; 6<em>ab</em>&sup2; + <em>b</em>&sup3; &minus; 6<em>abc</em> + \n",
    "6<em>b</em>&sup2;<em>c</em> &minus; 6<em>ac</em>&sup2; + 3<em>bc</em>&sup2; &minus; <em>c</em>&sup3;</td>\n",
    "  </tr>\n",
    "</table> \n",
    "<br>\n",
    "\n",
    "We have seen that some fields may have many ways of assigning an order to the elements, while others have only 1.  The key \n",
    "is the number of ring automorphisms.  These ring automorphisms will play a major role in the following chapters."
   ]
  },
  {
   "cell_type": "markdown",
   "metadata": {},
   "source": [
    "<br><br><br><br><br><br><br><br><br><br><br><br><br><br><br><br><br><br><br><br><br><br><br><br><br><br><br><br><br><br><br><br><br><br><br><br><br><br><br><br><br><br>\n",
    "\n",
    "<h1>Proofs:</h1>\n",
    "\n",
    "<a name=\"lem111\" id=\"lem111\"></a>\n",
    "\n",
    "Proof of Lemma 11.1:<br><br>\n",
    "\n",
    "Let <em>A</em> be a polynomial of degree <em>m</em>,\n",
    "<p style='text-align: center;'><em>A</em> = <em>a</em><sub>0</sub> + <em>a</em><sub>1</sub> <em>x</em> + <em>a</em><sub>2</sub> <em>x</em><sup>2</sup> + \n",
    "<em>a</em><sub>3</sub> <em>x</em><sup>3</sup> + &#8943; + <em>a<sub>m</sub></em> <em>x<sup>m</sup></em></p>\n",
    "and <em>B</em> be a polynomial of degree <em>n</em>,\n",
    "<p style='text-align: center;'><em>B</em> = <em>b</em><sub>0</sub> + <em>b</em><sub>1</sub> <em>x</em> + <em>b</em><sub>2</sub> <em>x</em><sup>2</sup> + \n",
    "<em>b</em><sub>3</sub> <em>x</em><sup>3</sup> + &#8943; + <em>b<sub>n</sub></em> <em>x<sup>n</sup></em>.</p>\n",
    "Here, <em>a<sub>m</sub></em> and <em>b<sub>n</sub></em> are nonzero elements of <em>K</em>. The product is determined by\n",
    "<br><br>\n",
    "<table align=\"center\" border=\"0\" cellspacing=\"0\" cellpadding=\"0\">\n",
    "  <tr>\n",
    "    <td></td>\n",
    "    <td align=\"center\">&ensp;&ensp;&infin;&ensp;&ensp;</td>\n",
    "    <td align=\"center\">&ensp;&ensp;&infin;&ensp;&ensp;</td>\n",
    "    <td></td>\n",
    "  </tr>\n",
    "  <tr>\n",
    "    <td align=\"right\"><em>A</em>&middot;<em>B</em> =</td>\n",
    "    <td align=\"center\" valign=\"bottom\">&thinsp;<font face=\"Times New Roman, Times, serif\" size=\"+4\">&sum;</font>&thinsp;</td>\n",
    "    <td align=\"center\" valign=\"bottom\">&thinsp;<font face=\"Times New Roman, Times, serif\" size=\"+4\">&sum;</font>&thinsp;</td>\n",
    "    <td ><em>a<sub>i</sub></em>&middot;<em>b<sub>j</sub></em> <em>x</em><sup><em>i</em>+<em>j</em></sup>.</td>\n",
    "  </tr>\n",
    "  <tr>\n",
    "    <td></td>\n",
    "    <td align=\"center\" valign=\"top\">&ensp;<em>i</em>=0&ensp;</td>\n",
    "    <td align=\"center\" valign=\"top\">&ensp;<em>j</em>=0&ensp;</td>\n",
    "    <td></td>\n",
    "  </tr>\n",
    "</table>\n",
    "<br>\n",
    "Note that <em>a<sub>i</sub></em> and <em>b<sub>j</sub></em> are zero for <em>i</em> &gt; <em>m</em> and <em>j</em> &gt; <em>n</em>. \n",
    "If <em>i</em> + <em>j</em> &gt; <em>m</em> + <em>n</em>, either <em>i</em> &gt; <em>m</em> or <em>j</em> <em>&gt;</em> <em>n</em>, and in either \n",
    "case <em>a<sub>i</sub></em>&middot;<em>b<sub>j</sub></em> = 0.   Thus, there are no nonzero terms in <em>A</em>&middot;<em>B</em> with coefficients larger \n",
    "than <em>m</em> + <em>n</em>.<br><br> \n",
    "\n",
    "However, if <em>i</em> + <em>j</em> = <em>m</em> + <em>n</em>, the only nonzero term would be the one coming from <em>i</em> = <em>m</em> and <em>j</em> = <em>n</em>, \n",
    "giving\n",
    "<p style='text-align: center;'><em>a<sub>m</sub></em>&middot;<em>b<sub>n</sub></em> <em>x</em><sup><em>m</em>+<em>n</em></sup>.</p>\n",
    "Since there are no zero divisors in <em>K</em>, <em>a<sub>m</sub></em>&middot;<em>b<sub>n</sub></em> is nonzero, so <em>A</em>&middot;<em>B</em> is a polynomial of \n",
    "degree <em>m</em> + <em>n</em>.<br><br>\n",
    "\n",
    "Next we turn our attention to <em>A</em> + <em>B</em>. We may assume without loss of generality that <em>m</em> is no more than <em>n</em>. Then the sum of <em>A</em> \n",
    "and <em>B</em> can be expressed as\n",
    "<p style='text-align: center;'>(<em>a</em><sub>0</sub> + <em>b</em><sub>0</sub>) + (<em>a</em><sub>1</sub> + <em>b</em><sub>1</sub>) <em>x</em> + \n",
    "(<em>a</em><sub>2</sub> + <em>b</em><sub>2</sub>) <em>x</em><sup>2</sup> + &#8943; + (<em>a<sub>m</sub></em> + <em>b<sub>m</sub></em>) <em>x<sup>m</sup></em> + \n",
    "<em>b</em><sub><em>m</em>+1</sub> <em>x</em><sup><em>m</em>+1</sup> + &#8943; + <em>b<sub>n</sub></em> <em>x<sup>n</sup></em>.</p>\n",
    "If <em>m</em> &lt; <em>n</em>, this clearly is a polynomial with degree <em>n</em>.  Even if <em>m</em> = <em>n</em>, this still gives a polynomial whose degree cannot \n",
    "be more than <em>n</em>.<br><br>\n",
    " \n",
    "<a href=\"#lem111ret\">Return to text</a>"
   ]
  },
  {
   "cell_type": "markdown",
   "metadata": {},
   "source": [
    "<br><br><br><br><br><br><br><br><br><br><br><br><br><br><br><br><br><br><br><br><br><br><br><br><br><br><br><br><br><br><br><br><br><br><br><br><br><br><br><br><br><br>\n",
    " \n",
    "<a name=\"prop111\" id=\"prop111\"></a>\n",
    "\n",
    "Proof of Proposition 11.1:<br><br>\n",
    " \n",
    "We have seen that <em>K</em>[<em>x</em>] is closed under addition and multiplication.  By the commutativity of <em>K</em>, addition and multiplication are \n",
    "obviously commutative.  It is also clear that the zero polynomial acts as the additive identity in <em>K</em>[<em>x</em>].  Also, the additive inverse of \n",
    "<p style='text-align: center;'><em>A</em> = <em>a</em><sub>0</sub> + <em>a</em><sub>1</sub> <em>x</em> + <em>a</em><sub>2</sub> <em>x</em><sup>2</sup> + \n",
    "<em>a</em><sub>3</sub> <em>x</em><sup>3</sup> + &#8943;</p>\n",
    "is given by\n",
    "<p style='text-align: center;'>&minus;<em>A</em> = (&minus;<em>a</em><sub>0</sub>) + (&minus;<em>a</em><sub>1</sub>) <em>x</em> + \n",
    "(&minus;<em>a</em><sub>2</sub>) <em>x</em><sup>2</sup> + (&minus;<em>a</em><sub>3</sub>) <em>x</em><sup>3</sup> + &#8943;</p>\n",
    "since the sum of these two polynomials is\n",
    "<p style='text-align: center;'><em>A</em> + (&minus;<em>A</em>) = 0 + 0 <em>x</em> + 0 <em>x</em><sup>2</sup> + 0 <em>x</em><sup>3</sup> + &#8943; = 0.</p>\n",
    "<br>\n",
    "The polynomial with <em>b</em><sub>0</sub> = 1, and <em>b<sub>j</sub></em> = 0 for all positive <em>j</em>,\n",
    "<p style='text-align: center;'><em>I</em> = 1 + 0 <em>x</em> + 0 <em>x</em><sup>2</sup> + 0 <em>x</em><sup>3</sup> + &#8943;,</p>\n",
    "acts as the multiplicative identity, since\n",
    "<table align=\"center\" border=\"0\" cellspacing=\"0\" cellpadding=\"0\">\n",
    "  <tr>\n",
    "    <td></td>\n",
    "    <td align=\"center\">&ensp;&ensp;&infin;&ensp;&ensp;</td>\n",
    "    <td align=\"center\">&ensp;&ensp;&infin;&ensp;&ensp;</td>\n",
    "    <td></td>\n",
    "    <td align=\"center\">&ensp;&ensp;&infin;&ensp;&ensp;</td>\n",
    "    <td></td>\n",
    "  </tr>\n",
    "  <tr>\n",
    "    <td align=\"right\"><em>I</em>&middot;<em>A</em> = <em>A</em>&middot;<em>I</em> = </td>\n",
    "    <td align=\"center\" valign=\"bottom\">&thinsp;<font face=\"Times New Roman, Times, serif\" size=\"+4\">&sum;</font>&thinsp;</td>\n",
    "    <td align=\"center\" valign=\"bottom\">&thinsp;<font face=\"Times New Roman, Times, serif\" size=\"+4\">&sum;</font>&thinsp;</td>\n",
    "    <td ><em>a<sub>i</sub></em>&middot;<em>b<sub>j</sub></em> <em>x</em><sup><em>i</em>+<em>j</em></sup> = </td>\n",
    "    <td align=\"center\" valign=\"bottom\">&thinsp;<font face=\"Times New Roman, Times, serif\" size=\"+4\">&sum;</font>&thinsp;</td>\n",
    "    <td><em>a<sub>i</sub></em>&middot; 1 <em>x<sup>i</sup></em> = <em>A</em>.</td>\n",
    "  </tr>\n",
    "  <tr>\n",
    "    <td></td>\n",
    "    <td align=\"center\" valign=\"top\">&ensp;<em>i</em>=0&ensp;</td>\n",
    "    <td align=\"center\" valign=\"top\">&ensp;<em>j</em>=0&ensp;</td>\n",
    "    <td></td>\n",
    "    <td align=\"center\" valign=\"top\"><em>i</em>=0</td>\n",
    "    <td></td>    \n",
    "  </tr>\n",
    "</table>\n",
    "<br>\n",
    "To check associativity of addition and multiplication, we need three polynomials\n",
    "<br><br>\n",
    "<table align = \"center\" border=\"0\">\n",
    "  <tr>\n",
    "    <td><em>A</em> = <em>a</em><sub>0</sub> + <em>a</em><sub>1</sub> <em>x</em> + <em>a</em><sub>2</sub> <em>x</em><sup>2</sup> + \n",
    "<em>a</em><sub>3</sub> <em>x</em><sup>3</sup> + &#8943;,</td>\n",
    "    <td></td>\n",
    "  </tr>\n",
    "  <tr>\n",
    "    <td><em>B</em> = <em>b</em><sub>0</sub> + <em>b</em><sub>1</sub> <em>x</em> + <em>b</em><sub>2</sub> <em>x</em><sup>2</sup> + \n",
    "<em>b</em><sub>3</sub> <em>x</em><sup>3</sup> + &#8943;,</td>\n",
    "    <td>and</td>\n",
    "  </tr>\n",
    "  <tr>\n",
    "    <td><em>C</em> = <em>c</em><sub>0</sub> + <em>c</em><sub>1</sub> <em>x</em> + <em>c</em><sub>2</sub> <em>x</em><sup>2</sup> + \n",
    "<em>c</em><sub>3</sub> <em>x</em><sup>3</sup> + &#8943;.</td>\n",
    "    <td></td>\n",
    "  </tr>\n",
    "</table>\n",
    "\n",
    "Then\n",
    "<p style='text-align: center;'>(<em>A</em> + <em>B</em>) + <em>C</em> = (<em>a</em><sub>0</sub> + <em>b</em><sub>0</sub>) + <em>c</em><sub>0</sub> + \n",
    "((<em>a</em><sub>1</sub> + <em>b</em><sub>1</sub>) + <em>c</em><sub>1</sub>) <em>x</em> + \n",
    "((<em>a</em><sub>2</sub> + <em>b</em><sub>2</sub>) + <em>c</em><sub>2</sub>) <em>x</em><sup>2</sup> + &#8943;<br> =\n",
    "<em>a</em><sub>0</sub> + (<em>b</em><sub>0</sub> + <em>c</em><sub>0</sub>) + \n",
    "(<em>a</em><sub>1</sub> + (<em>b</em><sub>1</sub> + <em>c</em><sub>1</sub>)) <em>x</em> + \n",
    "(<em>a</em><sub>2</sub> + (<em>b</em><sub>2</sub> + <em>c</em><sub>2</sub>)) <em>x</em><sup>2</sup> + &#8943; = <em>A</em> + (<em>B</em> + <em>C</em>).</p>\n",
    "Also,\n",
    "<table align=\"center\"  border=\"0\" cellspacing=\"0\" cellpadding=\"0\">\n",
    "  <tr>\n",
    "    <td></td>\n",
    "    <td align=\"center\">&#9115;</td>\n",
    "    <td align=\"center\" valign=\"bottom\">&ensp;&ensp;&infin;&ensp;&ensp;</td>\n",
    "    <td align=\"center\" valign=\"bottom\">&ensp;&ensp;&infin;&ensp;&ensp;</td>\n",
    "    <td></td>\n",
    "    <td align=\"center\">&#9118;</td>\n",
    "    <td></td>\n",
    "    <td align=\"center\" valign=\"bottom\">&ensp;&ensp;&infin;&ensp;&ensp;</td>\n",
    "    <td align=\"center\" valign=\"bottom\">&ensp;&ensp;&infin;&ensp;&ensp;</td>\n",
    "    <td align=\"center\" valign=\"bottom\">&ensp;&ensp;&infin;&ensp;&ensp;</td>\n",
    "    <td></td>\n",
    "    <td align=\"center\" valign=\"bottom\">&ensp;&ensp;&infin;&ensp;&ensp;</td>\n",
    "    <td align=\"center\" valign=\"bottom\">&ensp;&ensp;&infin;&ensp;&ensp;</td>\n",
    "    <td align=\"center\" valign=\"bottom\">&ensp;&ensp;&infin;&ensp;&ensp;</td>\n",
    "    <td></td>\n",
    "  </tr>\n",
    "  <tr>\n",
    "    <td></td>\n",
    "    <td align=\"center\">&#9116;</td>\n",
    "    <td rowspan = \"3\" align=\"center\"><font face=\"Times New Roman, Times, serif\" size=\"+4\">&sum;</font></td>\n",
    "    <td rowspan = \"3\" align=\"center\"><font face=\"Times New Roman, Times, serif\" size=\"+4\">&sum;</font></td>\n",
    "    <td></td>\n",
    "    <td align=\"center\">&#9119;</td>\n",
    "    <td></td>\n",
    "    <td rowspan = \"3\" align=\"center\"><font face=\"Times New Roman, Times, serif\" size=\"+4\">&sum;</font></td>\n",
    "    <td rowspan = \"3\" align=\"center\"><font face=\"Times New Roman, Times, serif\" size=\"+4\">&sum;</font></td>\n",
    "    <td rowspan = \"3\" align=\"center\"><font face=\"Times New Roman, Times, serif\" size=\"+4\">&sum;</font></td>\n",
    "    <td></td>\n",
    "    <td rowspan = \"3\" align=\"center\"><font face=\"Times New Roman, Times, serif\" size=\"+4\">&sum;</font></td>\n",
    "    <td rowspan = \"3\" align=\"center\"><font face=\"Times New Roman, Times, serif\" size=\"+4\">&sum;</font></td>\n",
    "    <td rowspan = \"3\" align=\"center\"><font face=\"Times New Roman, Times, serif\" size=\"+4\">&sum;</font></td>\n",
    "    <td></td>\n",
    "  </tr>\n",
    "  <tr>\n",
    "    <td align=\"right\"><em>A</em>&middot;(<em>B</em>&middot;<em>C</em>) = <em>A</em>&middot;</td>\n",
    "    <td align=\"center\">&#9116;</td>\n",
    "    <td><em>b<sub>j</sub></em>&middot;<em>c<sub>k</sub></em> <em>x</em><sup><em>j</em>+<em>k</em></sup></td>\n",
    "    <td align=\"center\">&#9119;</td>\n",
    "    <td>&ensp;=</td>\n",
    "    <td><em>a<sub>i</sub></em>&middot;(<em>b<sub>j</sub></em>&middot;<em>c<sub>k</sub></em>) <em>x</em><sup><em>i</em>+<em>j</em>+<em>k</em></sup> = </td>\n",
    "    <td align=\"left\">(<em>a<sub>i</sub></em>&middot;<em>b<sub>j</sub></em>)&middot;<em>c<sub>k</sub></em> <em>x</em><sup><em>i</em>+<em>j</em>+<em>k</em></sup> = (<em>A</em>&middot;<em>B</em>)&middot;<em>C</em>.</td>\n",
    "  </tr>\n",
    "  <tr>\n",
    "    <td></td>\n",
    "    <td align=\"center\">&#9116;</td>\n",
    "    <td></td>\n",
    "    <td align=\"center\">&#9119;</td>\n",
    "    <td></td>\n",
    "    <td></td>\n",
    "    <td></td>\n",
    "  </tr>\n",
    "  <tr>\n",
    "    <td></td>\n",
    "    <td align=\"center\">&#9117;</td>\n",
    "    <td align=\"center\" valign=\"top\">&ensp;<em>j</em>=0&ensp;</td>\n",
    "    <td align=\"center\" valign=\"top\">&ensp;<em>k</em>=0&ensp;</td>\n",
    "    <td></td>\n",
    "    <td align=\"center\">&#9120;</td> \n",
    "    <td></td>\n",
    "    <td align=\"center\" valign=\"top\">&ensp;<em>i</em>=0&ensp;</td>\n",
    "    <td align=\"center\" valign=\"top\">&ensp;<em>j</em>=0&ensp;</td>\n",
    "    <td align=\"center\" valign=\"top\">&ensp;<em>k</em>=0&ensp;</td>\n",
    "    <td></td>\n",
    "    <td align=\"center\" valign=\"top\">&ensp;<em>i</em>=0&ensp;</td>\n",
    "    <td align=\"center\" valign=\"top\">&ensp;<em>j</em>=0&ensp;</td>\n",
    "    <td align=\"center\" valign=\"top\">&ensp;<em>k</em>=0&ensp;</td> \n",
    "    <td></td>   \n",
    "  </tr>\n",
    "</table>\n",
    "\n",
    "<br>\n",
    "The two distributive laws are also easy to verify using the summation notation.\n",
    "<br><br>\n",
    "<table align=\"center\"  border=\"0\" cellspacing=\"0\" cellpadding=\"0\">\n",
    "  <tr>\n",
    "    <td></td>\n",
    "    <td align=\"center\">&#9115;</td>\n",
    "    <td align=\"center\" valign=\"bottom\">&ensp;&ensp;&infin;&ensp;&ensp;</td>\n",
    "    <td></td>\n",
    "    <td align=\"center\">&#9118;</td>\n",
    "    <td></td>\n",
    "    <td align=\"center\" valign=\"bottom\">&ensp;&ensp;&infin;&ensp;&ensp;</td>\n",
    "    <td align=\"center\" valign=\"bottom\">&ensp;&ensp;&infin;&ensp;&ensp;</td>\n",
    "    <td></td>\n",
    "    <td align=\"center\" valign=\"bottom\">&ensp;&ensp;&infin;&ensp;&ensp;</td>\n",
    "    <td align=\"center\" valign=\"bottom\">&ensp;&ensp;&infin;&ensp;&ensp;</td>\n",
    "    <td></td>\n",
    "  </tr>\n",
    "  <tr>\n",
    "    <td></td>\n",
    "    <td align=\"center\">&#9119;</td>\n",
    "    <td rowspan = \"3\" align=\"center\"><font face=\"Times New Roman, Times, serif\" size=\"+4\">&sum;</font></td>\n",
    "    <td></td>\n",
    "    <td align=\"center\">&#9119;</td>\n",
    "    <td></td>\n",
    "    <td rowspan = \"3\" align=\"center\"><font face=\"Times New Roman, Times, serif\" size=\"+4\">&sum;</font></td>\n",
    "    <td rowspan = \"3\" align=\"center\"><font face=\"Times New Roman, Times, serif\" size=\"+4\">&sum;</font></td>\n",
    "    <td></td>\n",
    "    <td rowspan = \"3\" align=\"center\"><font face=\"Times New Roman, Times, serif\" size=\"+4\">&sum;</font></td>\n",
    "    <td rowspan = \"3\" align=\"center\"><font face=\"Times New Roman, Times, serif\" size=\"+4\">&sum;</font></td>\n",
    "    <td></td>    \n",
    "  </tr>\n",
    "  <tr>\n",
    "    <td align=\"right\"><em>A</em>&middot;(<em>B</em> + <em>C</em>) = <em>A</em>&middot;</td>\n",
    "    <td align=\"center\">&#9116;</td>\n",
    "    <td>(<em>b<sub>j</sub></em> + <em>c<sub>j</sub></em>) <em>x<sup>j</sup></em></td>\n",
    "    <td align=\"center\">&#9116;</td>\n",
    "    <td>&ensp;=</td>\n",
    "    <td><em>a<sub>i</sub></em>&middot;(<em>b<sub>j</sub></em> + <em>c<sub>j</sub></em>) <em>x</em><sup><em>i</em>+<em>j</em></sup> = </td>\n",
    "    <td align=\"left\">(<em>a<sub>i</sub></em>&middot;<em>b<sub>j</sub></em> + <em>a<sub>i</sub></em>&middot;<em>c<sub>j</sub></em>) <em>x</em><sup><em>i</em>+<em>j</em></sup></td>\n",
    "  </tr>\n",
    "  <tr>\n",
    "    <td></td>\n",
    "    <td align=\"center\">&#9116;</td>\n",
    "    <td></td>\n",
    "    <td align=\"center\">&#9119;</td>\n",
    "    <td></td>\n",
    "    <td></td>\n",
    "    <td></td>\n",
    "  </tr>\n",
    "  <tr>\n",
    "    <td></td>\n",
    "    <td align=\"center\">&#9117;</td>\n",
    "    <td align=\"center\" valign=\"top\">&ensp;<em>j</em>=0&ensp;</td>\n",
    "    <td></td>\n",
    "    <td align=\"center\">&#9120;</td> \n",
    "    <td></td>\n",
    "    <td align=\"center\" valign=\"top\">&ensp;<em>i</em>=0&ensp;</td>\n",
    "    <td align=\"center\" valign=\"top\">&ensp;<em>j</em>=0&ensp;</td>\n",
    "    <td></td>\n",
    "    <td align=\"center\" valign=\"top\">&ensp;<em>i</em>=0&ensp;</td>\n",
    "    <td align=\"center\" valign=\"top\">&ensp;<em>j</em>=0&ensp;</td>\n",
    "    <td></td>        \n",
    "  </tr>\n",
    "</table>\n",
    "<table align=\"center\"  border=\"0\" cellspacing=\"0\" cellpadding=\"0\">\n",
    "  <tr>\n",
    "\t<td></td>\n",
    "    <td align=\"center\" valign=\"bottom\">&ensp;&ensp;&infin;&ensp;&ensp;</td>\n",
    "    <td align=\"center\" valign=\"bottom\">&ensp;&ensp;&infin;&ensp;&ensp;</td>\n",
    "    <td></td>\n",
    "    <td align=\"center\" valign=\"bottom\">&ensp;&ensp;&infin;&ensp;&ensp;</td>\n",
    "    <td align=\"center\" valign=\"bottom\">&ensp;&ensp;&infin;&ensp;&ensp;</td>\n",
    "    <td></td>\n",
    "  </tr>\n",
    "  <tr>\n",
    "\t<td>=</td>  \n",
    "\t<td align=\"center\"><font face=\"Times New Roman, Times, serif\" size=\"+4\">&sum;</font></td>\n",
    "    <td align=\"center\"><font face=\"Times New Roman, Times, serif\" size=\"+4\">&sum;</font></td>\n",
    "    <td><em>a<sub>i</sub></em>&middot;<em>b<sub>j</sub></em> <em>x</em><sup><em>i</em>+<em>j</em></sup> + </td>\n",
    "    <td align=\"center\"><font face=\"Times New Roman, Times, serif\" size=\"+4\">&sum;</font></td>\n",
    "    <td align=\"center\"><font face=\"Times New Roman, Times, serif\" size=\"+4\">&sum;</font></td>\n",
    "    <td align=\"center\"><em>a<sub>i</sub></em>&middot;<em>c<sub>j</sub></em> <em>x</em><sup><em>i</em>+<em>j</em></sup>= <em>A</em>&middot;<em>B</em> + <em>A</em>&middot;<em>C</em>.</td>\n",
    "  </tr>\n",
    "  <tr>\n",
    "    <td></td>   \n",
    "    <td align=\"center\" valign=\"top\">&ensp;<em>i</em>=0&ensp;</td>\n",
    "    <td align=\"center\" valign=\"top\">&ensp;<em>j</em>=0&ensp;</td>\n",
    "    <td></td>\n",
    "    <td align=\"center\" valign=\"top\">&ensp;<em>i</em>=0&ensp;</td>\n",
    "    <td align=\"center\" valign=\"top\">&ensp;<em>j</em>=0&ensp;</td>\n",
    "    <td></td>   \t  \n",
    "  </tr>\n",
    "</table>\n",
    "\n",
    "<br>\n",
    "We can use the fact that multiplication is commutative to show that (<em>A</em> + <em>B</em>)&middot;<em>C</em> = \n",
    "<em>A</em>&middot;<em>C</em> + <em>B</em>&middot;<em>C</em>. Thus, <em>K</em>[<em>x</em>] is a commutative ring with identity.<br><br>\n",
    "\n",
    "Next, let us show that <em>K</em>[<em>x</em>] has no zero divisors. Suppose that <em>A</em>&middot;<em>B</em> = 0, with both <em>A</em> and <em>B</em> being nonzero \n",
    "polynomials.  Say that <em>A</em> has degree <em>m</em> and <em>B</em> has degree <em>n</em>.  Then by Lemma 11.1 <em>A</em>&middot;<em>B</em> has \n",
    "degree <em>m</em> + <em>n</em>, which is impossible if either <em>m</em> or <em>n</em> were positive.  But if <em>A</em> and <em>B</em> are constant polynomials, \n",
    "then <nobr><em>a</em><sub>0</sub>&middot;<em>b</em><sub>0</sub> = 0,</nobr> which would indicate that either <em>a</em><sub>0</sub> or <em>b</em><sub>0</sub> is 0, since <em>K</em> \n",
    "has no zero divisors. Thus, either <em>A</em> or <em>B</em> would have to be 0, so we have that <em>K</em>[<em>x</em>] has no zero divisors.<br><br>\n",
    "\n",
    "Finally, let us show that <em>K</em>[<em>x</em>] is not a field by showing that the polynomial (1 + <em>x</em>) is not invertible.  Suppose that there was a \n",
    "polynomial <em>A</em> such that <nobr><em>A</em>&middot;(1 + <em>x</em>) = 1.</nobr>  Then <em>A</em> is not 0, so suppose <em>A</em> has degree <em>m</em>.  Then by Lemma 11.1, we \n",
    "have <em>m</em> + 1 = 0, telling us <em>m</em> = &minus;1, which is impossible. Thus, (1 + <em>x</em>) has no inverse in <em>K</em>[<em>x</em>], and therefore \n",
    "<em>K</em>[<em>x</em>] is an integral domain.<br><br> \n",
    " \n",
    "<a href=\"#prop111ret\">Return to text</a>"
   ]
  },
  {
   "cell_type": "markdown",
   "metadata": {},
   "source": [
    "<br><br><br><br><br><br><br><br><br><br><br><br><br><br><br><br><br><br><br><br><br><br><br><br><br><br><br><br><br><br><br><br><br><br><br><br><br><br><br><br><br><br>\n",
    " \n",
    "<a name=\"prop112\" id=\"prop112\"></a>\n",
    "\n",
    "Proof of Proposition 11.2:<br><br> \n",
    " \n",
    "Suppose that <em>n x</em> = 0 for some nonzero <em>x</em> in <em>R</em>.  Then for any other nonzero element <em>y</em> of <em>R</em>, \n",
    "<p style='text-align: center;'>0 = (<em>n x</em>)&middot;<em>y</em> = <em>n</em> (<em>x</em>&middot;<em>y</em>) = \n",
    "<em>x</em>&middot;(<em>n y</em>).</p>\n",
    "<br>But <em>x</em> is nonzero, and the ring has no zero-divisors, so we have <em>n y</em> = 0.  This argument works in both ways, so\n",
    "<br><br> \n",
    "<table border=0 cellspacing=0 cellpadding=0 width=\"100%\" align=center class=\"equation\">\n",
    "  <tr>\n",
    "    <td nowrap >(*)</td>\n",
    "    <td></td>\n",
    "    <td nowrap><em>n x</em> = 0&emsp;&#10234;&emsp;<em>n y</em> = \n",
    "0&emsp;if&emsp;<em>x</em> &ne; 0 and <em>y</em> &ne; 0.</td>\n",
    "    <td></td>\n",
    "  </tr>\n",
    "</table>\n",
    "<br>\n",
    "If <em>n</em> was not zero, then |<em>n</em>| would be a positive number such that <em>n x</em> = 0 for all <em>x</em> in the ring.  Hence, if the ring \n",
    "has characteristic 0, then <em>n x</em> = 0 implies that either <em>x</em> = 0 or <em>n</em> = 0.<br><br>\n",
    "  \n",
    "Now suppose that the ring has positive characteristic, and let <em>x</em> be any nonzero element of <em>R</em>.  Let <em>p</em> be the smallest positive integer for \n",
    "which <em>p x</em> = 0. If <em>p</em> is not prime, then <em>p a</em>&middot;<em>b</em>, with 0 &lt; <em>a</em> &lt; <em>p</em> and \n",
    "0 &lt; <em>b</em> &lt; <em>p</em>. But then\n",
    "</p>\n",
    "<p style='text-align: center;'>(<em>a x</em>)&middot;(<em>b x</em>) = (<em>a b</em>)&middot;(<em>x</em><sup>2</sup>) = \n",
    "(<em>p x</em>)&middot;<em>x</em> = 0&middot;<em>x</em> = 0.</p>\n",
    "Since the ring has no zero divisors, either <em>a x</em> = 0 or <em>b x</em> = 0.  But this contradicts the fact that <em>p</em> was \n",
    "the <em>smallest</em> number such that <em>p x</em> = 0. Thus, <em>p</em> is prime. By (*) we have that <em>p y</em> = 0 \n",
    "for <em>every</em> element in <em>R</em>,  and since this cannot be true for any smaller integer, we have that the characteristic of the ring is the \n",
    "prime number <em>p</em>.<br><br>\n",
    "\n",
    "It is easy to see that if <em>n</em> is a multiple of <em>p</em>, then <em>n</em> = <em>c p</em> for some integer <em>c</em>.  Thus, for any element \n",
    "<em>x</em> in <em>R</em>,\n",
    "<p style='text-align: center;'><em>n x</em> = (<em>c p</em>)&middot;<em>x</em> = <em>c</em>&middot;(<em>p x</em>) = \n",
    "<em>c</em>&middot;0 = 0.</p>\n",
    "Suppose that <em>n x</em> = 0 for some <em>n</em> that is not a multiple of <em>p</em>. Then gcd(<em>n</em>, <em>p</em>) must be 1, and so by the \n",
    "greatest common divisor theorem (0.4), there are integers <em>u</em> and <em>v</em> such that <em>u n</em> + <em>v p</em> = 1.  But then\n",
    "<p style='text-align: center;'><em>x</em> = 1 <em>x</em> = (<em>u n</em> + <em>v p</em>) <em>x</em> = \n",
    "<em>u</em> (<em>n x</em>) + <em>v</em> (<em>p x</em>) = <em>u</em>&middot;0 + <em>v</em>&middot;0 = 0.</p>\n",
    "So for nonzero <em>x</em>, <em>n x</em> = 0 if, and only if, <em>n</em> is a multiple of <em>p</em>.<br><br>\n",
    " \n",
    "<a href=\"#prop112ret\">Return to text</a>"
   ]
  },
  {
   "cell_type": "markdown",
   "metadata": {},
   "source": [
    "<br><br><br><br><br><br><br><br><br><br><br><br><br><br><br><br><br><br><br><br><br><br><br><br><br><br><br><br><br><br><br><br><br><br><br><br><br><br><br><br><br><br>\n",
    " \n",
    "<a name=\"lem112\" id=\"lem112\"></a>\n",
    "\n",
    "Proof of Lemma 11.2:<br><br> \n",
    "\n",
    "We need to show that the relation is reflexive, symmetric, and transitive. Let (<em>x</em> ,<em>y</em>), (<em>u</em>, <em>v</em>), and (<em>s</em>, <em>t</em>) be \n",
    "arbitrary elements of <em>P</em>.<br><br>\n",
    "\n",
    "Reflexive:\n",
    "<p style='text-align: center;'>(<em>x</em>, <em>y</em>) &equiv; (<em>x</em>, <em>y</em>)</p>\n",
    "is equivalent to saying <em>x</em>&middot;<em>y</em> = <em>x</em>&middot;<em>y</em>, which is, of course, true. So this relation is reflexive.<br><br>\n",
    "\n",
    "Symmetric:\n",
    "<p style='text-align: center;'>(<em>x</em>, <em>y</em>) &equiv; (<em>u</em>, <em>v</em>)&emsp;&#10233;&emsp;<em>x</em>&middot;<em>v</em> = \n",
    "<em>y</em>&middot;<em>u</em>&emsp;&#10233;&emsp;<em>u</em>&middot;<em>y</em> = <em>v</em>&middot;<em>x</em>&emsp;&#10233;&emsp;(<em>u</em>, <em>v</em>) &equiv; \n",
    "(<em>x</em>, <em>y</em>),</p>\n",
    "so this relation is also symmetric. <br><br>\n",
    "\n",
    "Transitive:<br>\n",
    "If (<em>x</em>, <em>y</em>) &equiv; (<em>u</em>, <em>v</em>) and (<em>u</em>, <em>v</em>) &equiv; (<em>s</em>, <em>t</em>), then\n",
    "<p style='text-align: center;'>(<em>x</em>, <em>y</em>) &equiv; (<em>u</em>, <em>v</em>)&emsp;&#10233;&emsp;<em>x</em>&middot;<em>v</em> = \n",
    "<em>y</em>&middot;<em>u</em>&emsp;&#10233;&emsp;<em>x</em>&middot;<em>v</em>&middot;<em>t</em> = <em>y</em>&middot;<em>u</em>&middot;<em>t</em>,<br>\n",
    "(<em>u</em>, <em>v</em>) &equiv; (<em>s</em>, <em>t</em>)&emsp;&#10233;&emsp;<em>u</em>&middot;<em>t</em> = \n",
    "<em>v</em>&middot;<em>s</em>&emsp;&#10233;&emsp;<em>u</em>&middot;<em>t</em>&middot;<em>y</em> = <em>v</em>&middot;<em>s</em>&middot;<em>y</em>.</p>\n",
    "These two statements imply that <em>x</em>&middot;<em>v</em>&middot;<em>t</em> = <em>v</em>&middot;<em>s</em>&middot;<em>y</em>.  Notice that in the last step we had to \n",
    "use the commutativity of multiplication.  Using commutativity again, we \n",
    "have <em>x</em>&middot;<em>t</em>&middot;<em>v</em> = <em>y</em>&middot;<em>s</em>&middot;<em>v</em>, and since <em>K</em> has no zero divisors and <em>v</em> is nonzero, \n",
    "we can use Lemma 9.4 to say that <em>x</em>&middot;<em>t</em> = <em>y</em>&middot;<em>s</em>. Then\n",
    "<p style='text-align: center;'><em>x</em>&middot;<em>t</em> = <em>y</em>&middot;<em>s</em>&emsp;&#10233;&emsp;(<em>x</em>, <em>y</em>) &equiv; (<em>s</em>, <em>t</em>),</p>\n",
    "so we have the transitive law holding. Therefore, this relation is an equivalence relation.<br><br>\n",
    "\n",
    "<a href=\"#lem112ret\">Return to text</a>"
   ]
  },
  {
   "cell_type": "markdown",
   "metadata": {},
   "source": [
    "<br><br><br><br><br><br><br><br><br><br><br><br><br><br><br><br><br><br><br><br><br><br><br><br><br><br><br><br><br><br><br><br><br><br><br><br><br><br><br><br><br><br>\n",
    " \n",
    "<a name=\"lem113\" id=\"lem113\"></a>\n",
    "\n",
    "Proof of Lemma 11.3:<br><br> \n",
    " \n",
    "The first observation we need to make is that the formulas for the sum and product both form valid elements of <em>Q</em>, since <em>y</em><em>&middot;</em><em>v</em> \n",
    "is nonzero as long as <em>y</em> and <em>v</em> are both nonzero. <br><br>\n",
    "\n",
    "Next let us work to show that addition does not depend on the choice of representative elements (<em>x</em>, <em>y</em>) and (<em>u</em>, <em>v</em>).  That is, if \n",
    "<span style=\"font-size:24px\">(</span><sup><em>x</em></sup>&frasl;<sub><em>y</em></sub><span style=\"font-size:24px\">)</span> = \n",
    "<span style=\"font-size:24px\">(</span><sup><em>a</em></sup>&frasl;<sub><em>b</em></sub><span style=\"font-size:24px\">)</span>, and\n",
    "<span style=\"font-size:24px\">(</span><sup><em>u</em></sup>&frasl;<sub><em>v</em></sub><span style=\"font-size:24px\">)</span> = \n",
    "<span style=\"font-size:24px\">(</span><sup><em>c</em></sup>&frasl;<sub><em>d</em></sub><span style=\"font-size:24px\">)</span>,\n",
    "we need to show that \n",
    "<p style='text-align: center;'><span style=\"font-size:24px\">(</span><sup><em>x</em></sup>&frasl;<sub><em>y</em></sub><span style=\"font-size:24px\">)</span> + \n",
    "<span style=\"font-size:24px\">(</span><sup><em>u</em></sup>&frasl;<sub><em>v</em></sub><span style=\"font-size:24px\">)</span> = \n",
    "<span style=\"font-size:24px\">(</span><sup><em>a</em></sup>&frasl;<sub><em>b</em></sub><span style=\"font-size:24px\">)</span> +\n",
    "<span style=\"font-size:24px\">(</span><sup><em>c</em></sup>&frasl;<sub><em>d</em></sub><span style=\"font-size:24px\">)</span>.</p>\n",
    "That is, we have to prove that \n",
    "<p style='text-align: center;'><span style=\"font-size:24px\">(</span><sup><em>x</em>&middot;<em>v</em> + \n",
    "<em>u</em>&middot;<em>y</em></sup>&frasl;<sub><em>y</em>&middot;<em>v</em></sub><span style=\"font-size:24px\">)</span> = \n",
    "<span style=\"font-size:24px\">(</span><sup><em>a</em>&middot;<em>d</em> + <em>c</em>&middot;<em>b</em></sup>&frasl;<sub><em>b</em>&middot;<em>d</em></sub><span \n",
    "style=\"font-size:24px\">)</span>.</p>\n",
    "Since \n",
    "<span style=\"font-size:24px\">(</span><sup><em>x</em></sup>&frasl;<sub><em>y</em></sub><span style=\"font-size:24px\">)</span> = \n",
    "<span style=\"font-size:24px\">(</span><sup><em>a</em></sup>&frasl;<sub><em>b</em></sub><span style=\"font-size:24px\">)</span>, and\n",
    "<span style=\"font-size:24px\">(</span><sup><em>u</em></sup>&frasl;<sub><em>v</em></sub><span style=\"font-size:24px\">)</span> = \n",
    "<span style=\"font-size:24px\">(</span><sup><em>c</em></sup>&frasl;<sub><em>d</em></sub><span style=\"font-size:24px\">)</span>,\n",
    "we have <em>x</em>&middot;<em>b</em> = <em>a</em>&middot;<em>y</em> and <em>u</em>&middot;<em>d</em> = <em>c</em>&middot;<em>v</em>. Multiplying the first equation \n",
    "by <em>v</em>&middot;<em>d</em> and the second by <em>y</em>&middot;<em>b</em>, we get\n",
    "<p style='text-align: center;'><em>x</em>&middot;<em>b</em>&middot;<em>v</em>&middot;<em>d</em> = \n",
    "<em>a</em>&middot;<em>y</em>&middot;<em>v</em>&middot;<em>d</em>&ensp;and&ensp;<em>u</em>&middot;<em>d</em>&middot;<em>y</em>&middot;<em>b</em> = \n",
    "<em>c</em>&middot;<em>v</em>&middot;<em>y</em>&middot;<em>b</em>.</p>\n",
    "Adding these two equations together and factoring, we get\n",
    "<p style='text-align: center;'>(<em>x</em>&middot;<em>v</em> + <em>u</em>&middot;<em>y</em>)&middot;<em>b</em>&middot;<em>d</em> = \n",
    "(<em>a</em>&middot;<em>d</em> + <em>c</em>&middot;<em>b</em>)&middot;<em>y</em>&middot;<em>v</em>.</p>\n",
    "<br>This gives us\n",
    "<p style='text-align: center;'><span style=\"font-size:24px\">(</span><sup><em>x</em>&middot;<em>v</em> + \n",
    "<em>u</em>&middot;<em>y</em></sup>&frasl;<sub><em>y</em>&middot;<em>v</em></sub><span style=\"font-size:24px\">)</span> = \n",
    "<span style=\"font-size:24px\">(</span><sup><em>a</em>&middot;<em>d</em> + <em>c</em>&middot;<em>b</em></sup>&frasl;<sub><em>b</em>&middot;<em>d</em></sub><span \n",
    "style=\"font-size:24px\">)</span>,</p>\n",
    "which is what we wanted.<br><br>\n",
    "\n",
    "We also need to show that multiplication is well defined, that is\n",
    "<p style='text-align: center;'><span style=\"font-size:24px\">(</span><sup><em>x</em></sup>&frasl;<sub><em>y</em></sub><span \n",
    "style=\"font-size:24px\">)</span>&middot;<span style=\"font-size:24px\">(</span><sup><em>u</em></sup>&frasl;<sub><em>v</em></sub><span \n",
    "style=\"font-size:24px\">)</span> = \n",
    "<span style=\"font-size:24px\">(</span><sup><em>a</em></sup>&frasl;<sub><em>b</em></sub><span \n",
    "style=\"font-size:24px\">)</span>&middot;<span style=\"font-size:24px\">(</span><sup><em>c</em></sup>&frasl;<sub><em>d</em></sub><span \n",
    "style=\"font-size:24px\">)</span>.</p>\n",
    "But since <em>x</em>&middot;<em>b</em> = <em>a</em>&middot;<em>y</em> and <em>u</em>&middot;<em>d</em> = <em>c</em>&middot;<em>v</em>, we can multiply these two \n",
    "equations together to get\n",
    "<p style='text-align: center;'><em>x</em>&middot;<em>b</em>&middot;<em>u</em>&middot;<em>d</em> = <em>a</em>&middot;<em>y</em>&middot;<em>c</em>&middot;<em>v</em>,</p>\n",
    "or\n",
    "<p style='text-align: center;'>(<em>x</em>&middot;<em>u</em>)&middot;(<em>b</em>&middot;<em>d</em>) = \n",
    "(<em>a</em>&middot;<em>c</em>)&middot;(<em>y</em>&middot;<em>v</em>).</p>\n",
    "Therefore,\n",
    "<p style='text-align: center;'><span style=\"font-size:24px\">(</span><sup><em>x</em>&middot;<em>u</em></sup>&frasl;<sub><em>y</em>&middot;<em>v</em></sub><span \n",
    "style=\"font-size:24px\">)</span> = <span style=\"font-size:24px\">(</span><sup><em>a</em>&middot;<em>c</em></sup>&frasl;<sub><em>b</em>&middot;<em>d</em></sub><span \n",
    "style=\"font-size:24px\">)</span>.</p>\n",
    "so multiplication also is well defined.<br><br>\n",
    "  \n",
    "<a href=\"#lem113ret\">Return to text</a>"
   ]
  },
  {
   "cell_type": "markdown",
   "metadata": {},
   "source": [
    "<br><br><br><br><br><br><br><br><br><br><br><br><br><br><br><br><br><br><br><br><br><br><br><br><br><br><br><br><br><br><br><br><br><br><br><br><br><br><br><br><br><br>\n",
    "  \n",
    "<a name=\"theor111\" id=\"theor111\"></a>\n",
    "\n",
    "Proof of Theorem 11.1:<br><br> \n",
    "  \n",
    "We have already noted that addition and multiplication are closed in <em>Q</em>.  We next want to look at the properties of addition. From the definition,\n",
    "<p style='text-align: center;'><span style=\"font-size:24px\">(</span><sup><em>x</em></sup>&frasl;<sub><em>y</em></sub><span style=\"font-size:24px\">)</span> + \n",
    "<span style=\"font-size:24px\">(</span><sup><em>u</em></sup>&frasl;<sub><em>v</em></sub><span style=\"font-size:24px\">)</span> = <span \n",
    "style=\"font-size:24px\">(</span><sup><em>x</em>&middot;<em>v</em> + <em>u</em>&middot;<em>y</em></sup>&frasl;<sub><em>y</em>&middot;<em>v</em></sub><span \n",
    "style=\"font-size:24px\">)</span> = \n",
    "<span style=\"font-size:24px\">(</span><sup><em>u</em></sup>&frasl;<sub><em>v</em></sub><span style=\"font-size:24px\">)</span> + \n",
    "<span style=\"font-size:24px\">(</span><sup><em>x</em></sup>&frasl;<sub><em>y</em></sub><span style=\"font-size:24px\">)</span>,</p>\n",
    "we see that addition is commutative. Let <em>z</em> be any nonzero element of <em>K</em>. Then \n",
    "<span style=\"font-size:24px\">(</span><sup>0</sup>&frasl;<sub><em>z</em></sub><span style=\"font-size:24px\">)</span>\n",
    "acts as the additive identity:\n",
    "<p style='text-align: center;'><span style=\"font-size:24px\">(</span><sup><em>u</em></sup>&frasl;<sub><em>v</em></sub><span style=\"font-size:24px\">)</span> + \n",
    "<span style=\"font-size:24px\">(</span><sup>0</sup>&frasl;<sub><em>z</em></sub><span style=\"font-size:24px\">)</span> = \n",
    "<span style=\"font-size:24px\">(</span><sup>0</sup>&frasl;<sub><em>z</em></sub><span style=\"font-size:24px\">)</span> + \n",
    "<span style=\"font-size:24px\">(</span><sup><em>u</em></sup>&frasl;<sub><em>v</em></sub><span style=\"font-size:24px\">)</span> = \n",
    "<span style=\"font-size:24px\">(</span><sup>0&middot;<em>v</em> + <em>u</em>&middot;<em>z</em></sup>&frasl;<sub><em>z</em>&middot;<em>v</em></sub><span \n",
    "style=\"font-size:24px\">)</span> = \n",
    "<span style=\"font-size:24px\">(</span><sup><em>u</em>&middot;<em>z</em></sup>&frasl;<sub><em>v</em>&middot;<em>z</em></sub><span style=\"font-size:24px\">)</span> =\n",
    "<span style=\"font-size:24px\">(</span><sup><em>u</em></sup>&frasl;<sub><em>v</em></sub><span style=\"font-size:24px\">)</span>.</p>\n",
    "Likewise, <span style=\"font-size:24px\">(</span><sup>&minus;<em>u</em></sup>&frasl;<sub><em>v</em></sub><span style=\"font-size:24px\">)</span> is the additive inverse of \n",
    "<span style=\"font-size:24px\">(</span><sup><em>u</em></sup>&frasl;<sub><em>v</em></sub><span style=\"font-size:24px\">)</span>:\n",
    "<p style='text-align: center;'><span style=\"font-size:24px\">(</span><sup><em>u</em></sup>&frasl;<sub><em>v</em></sub><span style=\"font-size:24px\">)</span> + \n",
    "<span style=\"font-size:24px\">(</span><sup>&minus;<em>u</em></sup>&frasl;<sub><em>v</em></sub><span style=\"font-size:24px\">)</span> = \n",
    "<span style=\"font-size:24px\">(</span><sup>&minus;<em>u</em></sup>&frasl;<sub><em>v</em></sub><span style=\"font-size:24px\">)</span> + \n",
    "<span style=\"font-size:24px\">(</span><sup><em>u</em></sup>&frasl;<sub><em>v</em></sub><span style=\"font-size:24px\">)</span> = <span \n",
    "style=\"font-size:24px\">(</span><sup>&minus;<em>u</em>&middot;<em>v</em> + \n",
    "<em>u</em>&middot;<em>v</em></sup>&frasl;<sub><em>v</em>&middot;<em>v</em></sub><span style=\"font-size:24px\">)</span> = \n",
    "<span style=\"font-size:24px\">(</span><sup>0</sup>&frasl;<sub><em>v</em>&middot;<em>v</em></sub><span style=\"font-size:24px\">)</span> =\n",
    "<span style=\"font-size:24px\">(</span><sup>0</sup>&frasl;<sub><em>z</em></sub><span style=\"font-size:24px\">)</span>.</p>\n",
    "The associativity of addition is straightforward:\n",
    "<p style='text-align: center;'><span style=\"font-size:30px\">(</span><span style=\"font-size:24px\">(</span><sup><em>x</em></sup>&frasl;<sub><em>y</em></sub><span \n",
    "style=\"font-size:24px\">)</span> + <span style=\"font-size:24px\">(</span><sup><em>u</em></sup>&frasl;<sub><em>v</em></sub><span \n",
    "style=\"font-size:24px\">)</span><span style=\"font-size:30px\">)</span> + <span style=\"font-size:24px\">(</span><sup><em>a</em></sup>&frasl;<sub><em>b</em></sub><span \n",
    "style=\"font-size:24px\">)</span> = <span style=\"font-size:24px\">(</span><sup><em>x</em>&middot;<em>v</em> + \n",
    "<em>u</em>&middot;<em>y</em></sup>&frasl;<sub><em>y</em>&middot;<em>v</em></sub><span style=\"font-size:24px\">)</span> +\n",
    "<span style=\"font-size:24px\">(</span><sup><em>a</em></sup>&frasl;<sub><em>b</em></sub><span style=\"font-size:24px\">)</span> = \n",
    "<span style=\"font-size:24px\">(</span><sup><em>x</em>&middot;<em>v</em>&middot;<em>b</em> + \n",
    "<em>u</em>&middot;<em>y</em>&middot;<em>b</em> + \n",
    "<em>a</em>&middot;<em>y</em>&middot;<em>v</em></sup>&frasl;<sub><em>y</em>&middot;<em>v</em>&middot;<em>b</em></sub><span style=\"font-size:24px\">)</span>,</p>\n",
    "while\n",
    "<p style='text-align: center;'><span style=\"font-size:24px\">(</span><sup><em>x</em></sup>&frasl;<sub><em>y</em></sub><span \n",
    "style=\"font-size:24px\">)</span> + <span style=\"font-size:30px\">(</span><span style=\"font-size:24px\">(</span><sup><em>u</em></sup>&frasl;<sub><em>v</em></sub><span  \n",
    "style=\"font-size:24px\">)</span> + <span style=\"font-size:24px\">(</span><sup><em>a</em></sup>&frasl;<sub><em>b</em></sub><span \n",
    "style=\"font-size:24px\">)</span><span style=\"font-size:30px\">)</span> = <span style=\"font-size:24px\">(</span><sup><em>x</em></sup>&frasl;<sub><em>y</em></sub><span \n",
    "style=\"font-size:24px\">)</span> + <span style=\"font-size:24px\">(</span><sup><em>u</em>&middot;<em>b</em> + \n",
    "<em>a</em>&middot;<em>v</em></sup>&frasl;<sub><em>v</em>&middot;<em>b</em></sub><span style=\"font-size:24px\">)</span> = \n",
    "<span style=\"font-size:24px\">(</span><sup><em>x</em>&middot;<em>v</em>&middot;<em>b</em> + \n",
    "<em>u</em>&middot;<em>b</em>&middot;<em>y</em> + \n",
    "<em>a</em>&middot;<em>v</em>&middot;<em>y</em></sup>&frasl;<sub><em>y</em>&middot;<em>v</em>&middot;<em>b</em></sub><span style=\"font-size:24px\">)</span>.</p>\n",
    "So <em>Q</em> forms a group with respect to addition.<br><br>\n",
    "\n",
    "Next we look at the properties of multiplication. Multiplication is obviously commutative, since\n",
    "<p style='text-align: center;'><span style=\"font-size:24px\">(</span><sup><em>x</em></sup>&frasl;<sub><em>y</em></sub><span style=\"font-size:24px\">)</span>&middot;\n",
    "<span style=\"font-size:24px\">(</span><sup><em>u</em></sup>&frasl;<sub><em>v</em></sub><span style=\"font-size:24px\">)</span> = \n",
    "<span style=\"font-size:24px\">(</span><sup><em>x</em>&middot;<em>u</em></sup>&frasl;<sub><em>y</em>&middot;<em>v</em></sub><span style=\"font-size:24px\">)</span> = \n",
    "<span style=\"font-size:24px\">(</span><sup><em>u</em>&middot;<em>x</em></sup>&frasl;<sub><em>v</em>&middot;<em>y</em></sub><span style=\"font-size:24px\">)</span> = \n",
    "<span style=\"font-size:24px\">(</span><sup><em>u</em></sup>&frasl;<sub><em>v</em></sub><span style=\"font-size:24px\">)</span>&middot;\n",
    "<span style=\"font-size:24px\">(</span><sup><em>x</em></sup>&frasl;<sub><em>y</em></sub><span style=\"font-size:24px\">)</span>.</p>\n",
    "We also have associativity for multiplication:\n",
    "<p style='text-align: center;'><span style=\"font-size:30px\">(</span><span style=\"font-size:24px\">(</span><sup><em>x</em></sup>&frasl;<sub><em>y</em></sub><span \n",
    "style=\"font-size:24px\">)</span>&middot;<span style=\"font-size:24px\">(</span><sup><em>u</em></sup>&frasl;<sub><em>v</em></sub><span \n",
    "style=\"font-size:24px\">)</span><span style=\"font-size:30px\">)</span>&middot;<span style=\"font-size:24px\">(</span><sup><em>a</em></sup>&frasl;<sub><em>b</em></sub><span \n",
    "style=\"font-size:24px\">)</span> = <span style=\"font-size:24px\">(</span><sup><em>x</em>&middot;<em>u</em></sup>&frasl;<sub><em>y</em>&middot;<em>v</em></sub><span \n",
    "style=\"font-size:24px\">)</span>&middot;<span style=\"font-size:24px\">(</span><sup><em>a</em></sup>&frasl;<sub><em>b</em></sub><span style=\"font-size:24px\">)</span> = \n",
    "<span style=\"font-size:24px\">(</span><sup><em>x</em>&middot;<em>u</em>&middot;<em>a</em></sup>&frasl;<sub><em>y</em>&middot;<em>v</em>&middot;<em>b</em></sub><span \n",
    "style=\"font-size:24px\">)</span> = <span style=\"font-size:24px\">(</span><sup><em>x</em></sup>&frasl;<sub><em>y</em></sub><span \n",
    "style=\"font-size:24px\">)</span>&middot;<span style=\"font-size:24px\">(</span><sup><em>u</em>&middot;<em>a</em></sup>&frasl;<sub><em>v</em>&middot;<em>b</em></sub><span \n",
    "style=\"font-size:24px\">)</span> = <span style=\"font-size:24px\">(</span><sup><em>x</em></sup>&frasl;<sub><em>y</em></sub><span \n",
    "style=\"font-size:24px\">)</span>&middot;<span style=\"font-size:30px\">(</span><span style=\"font-size:24px\">(</span><sup><em>u</em></sup>&frasl;<sub><em>v</em></sub><span \n",
    "style=\"font-size:24px\">)</span>&middot;<span style=\"font-size:24px\">(</span><sup><em>a</em></sup>&frasl;<sub><em>b</em></sub><span \n",
    "style=\"font-size:24px\">)</span><span style=\"font-size:30px\">)</span>.</p>\n",
    "The element <span style=\"font-size:24px\">(</span><sup><em>z</em></sup>&frasl;<sub><em>z</em></sub><span style=\"font-size:24px\">)</span> acts as the multiplicative \n",
    "identity for any <em>z</em> &ne; 0.\n",
    "<p style='text-align: center;'><span style=\"font-size:24px\">(</span><sup><em>z</em></sup>&frasl;<sub><em>z</em></sub><span style=\"font-size:24px\">)</span>&middot;\n",
    "<span style=\"font-size:24px\">(</span><sup><em>x</em></sup>&frasl;<sub><em>y</em></sub><span style=\"font-size:24px\">)</span> = <span \n",
    "style=\"font-size:24px\">(</span><sup><em>x</em></sup>&frasl;<sub><em>y</em></sub><span style=\"font-size:24px\">)</span>&middot;\n",
    "<span style=\"font-size:24px\">(</span><sup><em>z</em></sup>&frasl;<sub><em>z</em></sub><span style=\"font-size:24px\">)</span> = <span \n",
    "style=\"font-size:24px\">(</span><sup><em>x</em>&middot;<em>z</em></sup>&frasl;<sub><em>y</em>&middot;<em>z</em></sub><span style=\"font-size:24px\">)</span> = \n",
    "<span style=\"font-size:24px\">(</span><sup><em>x</em></sup>&frasl;<sub><em>y</em></sub><span style=\"font-size:24px\">)</span>.</p>\n",
    "If <em>x</em> = 0, then <span style=\"font-size:24px\">(</span><sup><em>x</em></sup>&frasl;<sub><em>y</em></sub><span style=\"font-size:24px\">)</span> = \n",
    "<span style=\"font-size:24px\">(</span><sup>0</sup>&frasl;<sub><em>z</em></sub><span style=\"font-size:24px\">)</span>. Otherwise, the multiplicative inverse \n",
    "of <span style=\"font-size:24px\">(</span><sup><em>x</em></sup>&frasl;<sub><em>y</em></sub><span style=\"font-size:24px\">)</span> \n",
    "is <span style=\"font-size:24px\">(</span><sup><em>y</em></sup>&frasl;<sub><em>x</em></sub><span style=\"font-size:24px\">)</span>, since\n",
    "<p style='text-align: center;'><span style=\"font-size:24px\">(</span><sup><em>x</em></sup>&frasl;<sub><em>y</em></sub><span style=\"font-size:24px\">)</span>&middot;\n",
    "<span style=\"font-size:24px\">(</span><sup><em>y</em></sup>&frasl;<sub><em>x</em></sub><span style=\"font-size:24px\">)</span> = \n",
    "<span style=\"font-size:24px\">(</span><sup><em>x</em>&middot;<em>y</em></sup>&frasl;<sub><em>y</em>&middot;<em>x</em></sub><span \n",
    "style=\"font-size:24px\">)</span> = <span style=\"font-size:24px\">(</span><sup><em>z</em></sup>&frasl;<sub><em>z</em></sub><span style=\"font-size:24px\">)</span>.</p>\n",
    "Thus, every nonzero element of <em>Q</em> has a multiplicative inverse. Finally, we have to prove the two distribution laws. Because of the commutativity of \n",
    "multiplication, we only need to check one. Since\n",
    "<p style='text-align: center;'><span style=\"font-size:30px\">(</span><span style=\"font-size:24px\">(</span><sup><em>u</em></sup>&frasl;<sub><em>v</em></sub><span \n",
    "style=\"font-size:24px\">)</span> + <span style=\"font-size:24px\">(</span><sup><em>a</em></sup>&frasl;<sub><em>b</em></sub><span \n",
    "style=\"font-size:24px\">)</span><span style=\"font-size:30px\">)</span>&middot;<span style=\"font-size:24px\">(</span><sup><em>x</em></sup>&frasl;<sub><em>y</em></sub><span \n",
    "style=\"font-size:24px\">)</span> = <span style=\"font-size:24px\">(</span><sup><em>u</em>&middot;<em>b</em> + \n",
    "<em>a</em>&middot;<em>v</em></sup>&frasl;<sub><em>v</em>&middot;<em>b</em></sub><span \n",
    "style=\"font-size:24px\">)</span>&middot;<span style=\"font-size:24px\">(</span><sup><em>x</em></sup>&frasl;<sub><em>y</em></sub><span \n",
    "style=\"font-size:24px\">)</span> = <span style=\"font-size:24px\">(</span><sup><em>u</em>&middot;<em>b</em>&middot;<em>x</em> + \n",
    "<em>a</em>&middot;<em>v</em>&middot;<em>x</em></sup>&frasl;<sub><em>v</em>&middot;<em>b</em>&middot;<em>y</em></sub><span style=\"font-size:24px\">)</span>.</p>\n",
    "while\n",
    "<p style='text-align: center;'><span style=\"font-size:24px\">(</span><sup><em>u</em></sup>&frasl;<sub><em>v</em></sub><span \n",
    "style=\"font-size:24px\">)</span>&middot;<span style=\"font-size:24px\">(</span><sup><em>x</em></sup>&frasl;<sub><em>y</em></sub><span \n",
    "style=\"font-size:24px\">)</span> + <span style=\"font-size:24px\">(</span><sup><em>a</em></sup>&frasl;<sub><em>b</em></sub><span \n",
    "style=\"font-size:24px\">)</span>&middot;<span style=\"font-size:24px\">(</span><sup><em>x</em></sup>&frasl;<sub><em>y</em></sub><span \n",
    "style=\"font-size:24px\">)</span> = <span style=\"font-size:24px\">(</span><sup><em>u</em>&middot;<em>x</em></sup>&frasl;<sub><em>v</em>&middot;<em>y</em></sub><span \n",
    "style=\"font-size:24px\">)</span> + <span style=\"font-size:24px\">(</span><sup><em>a</em>&middot;<em>x</em></sup>&frasl;<sub><em>b</em>&middot;<em>y</em></sub><span \n",
    "style=\"font-size:24px\">)</span> = <span style=\"font-size:24px\">(</span><sup><em>u</em>&middot;<em>x</em>&middot;<em>b</em>&middot;<em>y</em> + \n",
    "<em>a</em>&middot;<em>x</em>&middot;<em>v</em>&middot;<em>y</em></sup>&frasl;<sub><em>v</em>&middot;<em>y</em>&middot;<em>b</em>&middot;<em>y</em></sub><span \n",
    "style=\"font-size:24px\">)</span> = <span style=\"font-size:24px\">(</span><sup><em>u</em>&middot;<em>x</em>&middot;<em>b</em> + \n",
    "<em>a</em>&middot;<em>x</em>&middot;<em>v</em></sup>&frasl;<sub><em>v</em>&middot;<em>b</em>&middot;<em>y</em></sub><span style=\"font-size:24px\">)</span>,</p>\n",
    "we have the distributive laws holding, and therefore <em>Q</em> is a field.<br><br>\n",
    "\n",
    "<a href=\"#theor111ret\">Return to text</a>"
   ]
  },
  {
   "cell_type": "markdown",
   "metadata": {},
   "source": [
    "<br><br><br><br><br><br><br><br><br><br><br><br><br><br><br><br><br><br><br><br><br><br><br><br><br><br><br><br><br><br><br><br><br><br><br><br><br><br><br><br><br><br>\n",
    "\n",
    "<a name=\"prop113\" id=\"prop113\"></a>\n",
    "\n",
    "Proof of Proposition 11.3:<br><br> \n",
    "\n",
    "Because the real numbers are closed with respect to both addition and multiplication, it is clear that both (<em>a</em> + <em>c</em>, <em>b</em> + <em>d</em>) and \n",
    "<nobr>(<em>a</em>&middot;<em>c</em> &minus; <em>b</em>&middot;<em>d</em>, <em>a</em>&middot;<em>d</em> + <em>b</em>&middot;<em>c</em>)</nobr> would be defined for all real \n",
    "numbers <em>a</em>, <em>b</em>, <em>c</em>, and <em>d</em>.  Thus, &#8450; is closed with respect to both addition and multiplication. Furthermore, since\n",
    "<p style='text-align: center;'>(<em>c</em>, <em>d</em>) + (<em>a</em>, <em>b</em>) = (<em>c</em> + <em>a</em>, <em>d</em> + <em>b</em>) = \n",
    "(<em>a</em> + <em>c</em>, <em>b</em> + <em>d</em>) = (<em>a</em>, <em>b</em>) + (<em>c</em>, <em>d</em>)</p>\n",
    "and\n",
    "<p style='text-align: center;'>(<em>c</em>, <em>d</em>)&middot;(<em>a</em> ,<em>b</em>) = (<em>c</em>&middot;<em>a</em> &minus; \n",
    "<em>d</em>&middot;<em>b</em>, <em>c</em>&middot;<em>b</em> + <em>d</em>&middot;<em>a</em>) = (<em>a</em>&middot;<em>c</em> &minus; \n",
    "<em>b</em>&middot;<em>d</em>, <em>a</em>&middot;<em>d</em> + <em>b</em>&middot;<em>c</em>) = (<em>a</em>, <em>b</em>)&middot;(<em>c</em>, <em>d</em>),</p>\n",
    "we see that both addition and multiplication are commutative. The element (0, 0) acts as the zero element, since\n",
    "<p style='text-align: center;'>(0, 0) + (<em>a</em>, <em>b</em>) = (<em>a</em>, <em>b</em>).</p>\n",
    "The addition inverse of (<em>a</em>, <em>b</em>) is (&minus;<em>a</em>, &minus;<em>b</em>), since\n",
    "<p style='text-align: center;'>(<em>a</em>, <em>b</em>) + (&minus;<em>a</em>, &minus;<em>b</em>) = (0, 0).</p>\n",
    "Note that the order on the last two sums is irrelevant, since addition has already been shown to be commutative.<br><br>\n",
    "\n",
    "To show that addition is associative, we note that\n",
    "<p style='text-align: center;'>(<em>a</em>, <em>b</em>) + [ (<em>c</em>, <em>d</em>) + (<em>e</em>, <em>f</em>) ] = (<em>a</em>, <em>b</em>) + \n",
    "(<em>c</em> + <em>e</em>, <em>d</em> + <em>f</em>) = (<em>a</em> + <em>c</em> + <em>e</em>, <em>b</em> + <em>d</em> + <em>f</em>) = \n",
    "(<em>a</em> + <em>c</em>, <em>b</em> + <em>d</em>) + (<em>e</em>, <em>f</em>) = [ (<em>a</em>, <em>b</em>) + (<em>c</em>, <em>d</em>) ] + (<em>e</em>, <em>f</em>).</p>\n",
    "To show that multiplication is associative is a little more complicated.  We have\n",
    "<p style='text-align: center;'>(<em>a</em>, <em>b</em>)&middot;[ (<em>c</em>, <em>d</em>)&middot;(<em>e</em>, <em>f</em>) ] = \n",
    "(<em>a</em>, <em>b</em>)&middot;(<em>c</em>&middot;<em>e</em> &minus; <em>d</em>&middot;<em>f</em>, <em>c</em>&middot;<em>f</em> + <em>d</em>&middot;<em>e</em>) = \n",
    "(<em>a</em>&middot;<em>c</em>&middot;<em>e</em> &minus; <em>a</em>&middot;<em>d</em>&middot;<em>f</em> &minus; <em>b</em>&middot;<em>c</em>&middot;<em>f</em> &minus; \n",
    "<em>b</em>&middot;<em>d</em>&middot;<em>e</em>, <em>a</em>&middot;<em>c</em>&middot;<em>f</em> + <em>a</em>&middot;<em>d</em>&middot;<em>e</em> + \n",
    "<em>b</em>&middot;<em>c</em>&middot;<em>e</em> &minus; <em>b</em>&middot;<em>d</em>&middot;<em>f</em>),</p>\n",
    "and \n",
    "<p style='text-align: center;'>[ (<em>a</em>, <em>b</em>)&middot;(<em>c</em>, <em>d</em>) ]&middot;(<em>e</em>, <em>f</em>) = \n",
    "(<em>a</em>&middot;<em>c</em> &minus; <em>b</em>&middot;<em>d</em>, <em>a</em>&middot;<em>d</em> + <em>b</em>&middot;<em>c</em>)&middot;(<em>e</em>, <em>f</em>) =\n",
    "(<em>a</em>&middot;<em>c</em>&middot;<em>e</em> &minus; <em>b</em>&middot;<em>d</em>&middot;<em>e</em> &minus; <em>a</em>&middot;<em>d</em>&middot;<em>f</em> &minus; \n",
    "<em>b</em>&middot;<em>c</em>&middot;<em>f</em>, <em>a</em>&middot;<em>c</em>&middot;<em>f</em> &minus; <em>b</em>&middot;<em>d</em>&middot;<em>f</em> + \n",
    "<em>a</em>&middot;<em>d</em>&middot;<em>e</em> + <em>b</em>&middot;<em>c</em>&middot;<em>e</em>).</p>\n",
    "By comparing these two, we see that they are equal, so multiplication is associative. <br><br>\n",
    "\n",
    "We need to test the distributive laws next. The left distributive law we can get by expanding:\n",
    "<p style='text-align: center;'>(<em>a</em>, <em>b</em>)&middot;[ (<em>c</em>, <em>d</em>) + (<em>e</em>, <em>f</em>) ] = \n",
    "(<em>a</em>, <em>b</em>)&middot;(<em>c</em> + <em>e</em>, <em>d</em> + <em>f</em>) = (<em>a</em>&middot;<em>c</em> + <em>a</em>&middot;<em>e</em> &minus; \n",
    "<em>b</em>&middot;<em>d</em> &minus; <em>b</em>&middot;<em>f</em>, <em>a</em>&middot;<em>d</em> + <em>a</em>&middot;<em>f</em> + <em>b</em>&middot;<em>c</em> + \n",
    "<em>b</em>&middot;<em>e</em>)<br> = (<em>a</em>&middot;<em>c</em> &minus; <em>b</em>&middot;<em>d</em>, <em>a</em>&middot;<em>d</em> + <em>b</em>&middot;<em>c</em>) + \n",
    "(<em>a</em>&middot;<em>e</em> &minus; <em>b</em>&middot;<em>f</em>, <em>a</em>&middot;<em>f</em> + <em>b</em>&middot;<em>e</em>) = \n",
    "(<em>a</em>, <em>b</em>)&middot;(<em>c</em>, <em>d</em>) + (<em>a</em>, <em>b</em>)&middot;(<em>e</em>, <em>f</em>).</p>\n",
    "Thus, the left distributive law is satisfied. However, the right distributive law follows from the left distributive law, and using the commutative multiplication:\n",
    "<p style='text-align: center;'>[ (<em>a</em>, <em>b</em>) + (<em>c</em>, <em>d</em>) ]&middot;(<em>e</em>, <em>f</em>) = \n",
    "(<em>e</em>, <em>f</em>)&middot;[ (<em>a</em>, <em>b</em>) + (<em>c</em>, <em>d</em>) ] = \n",
    "(<em>e</em>, <em>f</em>)&middot;(<em>a</em>, <em>b</em>) + (<em>e</em>, <em>f</em>)&middot;(<em>c</em>, <em>d</em>) = \n",
    "(<em>a</em>, <em>b</em>)&middot;(<em>e</em>, <em>f</em>) + (<em>c</em>, <em>d</em>)&middot;(<em>e</em>, <em>f</em>).</p>\n",
    "We have now shown that the set &#8450; forms a commutative ring.  To show that this ring has a multiplicative identity, we consider the element (1, 0). Since the ring \n",
    "is commutative, we only need to check\n",
    "<p style='text-align: center;'>(1, 0)&middot;(<em>a</em>, <em>b</em>) = (1&middot;<em>a</em> &minus; 0&middot;<em>b</em>, 1&middot;<em>b</em> + 0&middot;<em>a</em>) = \n",
    "(<em>a</em>, <em>b</em>).</p>\n",
    "Finally, we need to show that every nonzero element has an inverse. If (<em>a</em>, <em>b</em>) is nonzero, \n",
    "then <em>a</em><sup>2</sup> + <em>b</em><sup>2</sup> will be a positive number. Hence\n",
    "<br><br>\n",
    "<table align=\"center\" border=\"0\" cellspacing=\"0\" cellpadding=\"0\">\n",
    "  <tr>\n",
    "    <td align=\"right\" valign=\"bottom\">&#9115;</td>\n",
    "    <td align=\"center\"><font style=\"text-decoration:underline\">&emsp;<em>a</em>&emsp;</font></td>\n",
    "    <td rowspan = \"2\" align=\"center\">,&ensp;</td>\n",
    "    <td align=\"center\"><font style=\"text-decoration:underline\">&ensp;&minus;<em>b</em>&emsp;</font></td>\n",
    "    <td align=\"left\" valign=\"bottom\">&#9118;</td>\n",
    "  </tr>\n",
    "  <tr>\n",
    "    <td align=\"right\" valign=\"top\">&#9117;</td>\n",
    "    <td align=\"center\"><em>a</em>&sup2; + <em>b</em>&sup2;</td>\n",
    "    <td align=\"center\"><em>a</em>&sup2; + <em>b</em>&sup2;</td>\n",
    "    <td align=\"left\" valign=\"top\">&#9120;</td>\n",
    "  </tr>\n",
    "</table> \n",
    "is an element of &#8450;. The product\n",
    "<table align=\"center\" border=\"0\" cellspacing=\"0\" cellpadding=\"0\">\n",
    "  <tr>\n",
    "    <td rowspan = \"2\" align=\"center\">(<em>a</em>, <em>b</em>)&middot;</td>\n",
    "    <td align=\"right\" valign=\"bottom\">&#9115;</td>\n",
    "    <td align=\"center\"><font style=\"text-decoration:underline\">&emsp;<em>a</em>&emsp;</font></td>\n",
    "    <td rowspan = \"2\" align=\"center\">,&ensp;</td>\n",
    "    <td align=\"center\"><font style=\"text-decoration:underline\">&ensp;&minus;<em>b</em>&emsp;</font></td>\n",
    "    <td align=\"left\" valign=\"bottom\">&#9118;</td>\n",
    "    <td rowspan = \"2\" align=\"center\">&ensp;=&ensp;</td>\n",
    "    <td align=\"right\" valign=\"bottom\">&#9115;</td>\n",
    "    <td align=\"center\"><font style=\"text-decoration:underline\"><em>a</em>&sup2; + <em>b</em>&sup2;</font></td>\n",
    "    <td rowspan = \"2\" align=\"center\">,&ensp;</td>\n",
    "    <td align=\"center\"><font style=\"text-decoration:underline\">&minus;<em>a</em>&middot;<em>b</em> + <em>a</em>&middot;<em>b</em></font></td>\n",
    "    <td align=\"left\" valign=\"bottom\">&#9118;</td>\n",
    "    <td rowspan = \"2\" align=\"center\">&ensp;= (1, 0)</td>\n",
    "  </tr>\n",
    "  <tr>\n",
    "    <td align=\"right\" valign=\"top\">&#9117;</td>\n",
    "    <td align=\"center\"><em>a</em>&sup2; + <em>b</em>&sup2;</td>\n",
    "    <td align=\"center\"><em>a</em>&sup2; + <em>b</em>&sup2;</td>\n",
    "    <td align=\"left\" valign=\"top\">&#9120;</td>\n",
    "    <td align=\"right\" valign=\"top\">&#9117;</td>\n",
    "    <td align=\"center\"><em>a</em>&sup2; + <em>b</em>&sup2;</td>\n",
    "    <td align=\"center\"><em>a</em>&sup2; + <em>b</em>&sup2;</td>\n",
    "    <td align=\"left\" valign=\"top\">&#9120;</td>    \n",
    "  </tr>\n",
    "</table> \n",
    "verifies that\n",
    "<table align=\"center\" border=\"0\" cellspacing=\"0\" cellpadding=\"0\">\n",
    "  <tr>\n",
    "    <td rowspan = \"2\" align=\"center\">(<em>a</em>, <em>b</em>)<sup>-1</sup> =&ensp; </td>\n",
    "    <td align=\"right\" valign=\"bottom\">&#9115;</td>\n",
    "    <td align=\"center\"><font style=\"text-decoration:underline\">&emsp;<em>a</em>&emsp;</font></td>\n",
    "    <td rowspan = \"2\" align=\"center\">,&ensp;</td>\n",
    "    <td align=\"center\"><font style=\"text-decoration:underline\">&ensp;&minus;<em>b</em>&emsp;</font></td>\n",
    "    <td align=\"left\" valign=\"bottom\">&#9118;</td>\n",
    "  </tr>\n",
    "  <tr>\n",
    "    <td align=\"right\" valign=\"top\">&#9117;</td>\n",
    "    <td align=\"center\"><em>a</em>&sup2; + <em>b</em>&sup2;</td>\n",
    "    <td align=\"center\"><em>a</em>&sup2; + <em>b</em>&sup2;</td>\n",
    "    <td align=\"left\" valign=\"top\">&#9120;</td>\n",
    "  </tr>\n",
    "</table> \n",
    "<br>\n",
    "since multiplication is commutative. Therefore, the set &#8450; forms a field.<br><br>\n",
    "\n",
    "The second part of this proposition is to show that &#8450; contains a copy of the real numbers as a subfield.  Consider the mapping <em>&fnof;</em>, which maps real \n",
    "numbers to &#8450;, given by\n",
    "<p style='text-align: center;'><em>&fnof;</em>(<em>x</em>) = (<em>x</em>, 0).</p>\n",
    "To check that <em>&fnof;</em> is a homomorphism, we check that\n",
    "<p style='text-align: center;'><em>&fnof;</em>(<em>x</em>) + <em>&fnof;</em>(<em>y</em>) = (<em>x</em>, 0) + (<em>y</em>, 0) = (<em>x</em> + <em>y</em>, 0) = \n",
    "<em>&fnof;</em>(<em>x</em> + <em>y</em>)</p>\n",
    "and\n",
    "<p style='text-align: center;'><em>&fnof;</em>(<em>x</em>)&middot;<em>&fnof;</em>(<em>y</em>) = (<em>x</em>, 0)&middot;(<em>y</em>, 0) = \n",
    "(<em>x</em>&middot;<em>y</em> + 0, 0 + 0) = (<em>x</em>&middot;<em>y</em>, 0) = <em>&fnof;</em>(<em>x</em>&middot;<em>y</em>).</p>\n",
    "Thus, <em>&fnof;</em> is a homomorphism from the reals to &#8450;.  It is clear that <em>&fnof;</em> is one-to-one, since (<em>x</em>, 0) = (<em>y</em>, 0) if, and only \n",
    "if, <em>x</em> = <em>y</em>.  Thus the image of <em>&fnof;</em>:\n",
    "<p style='text-align: center;'>{ (<em>x</em>, 0) | <em>x</em> &isin; &#8477; }</p>\n",
    "is isomorphic to the real numbers.  Hence we have found a subring of &#8450; isomorphic to &#8477.<br><br>\n",
    "\n",
    "<a href=\"#prop113ret\">Return to text</a>"
   ]
  },
  {
   "cell_type": "markdown",
   "metadata": {},
   "source": [
    "<br><br><br><br><br><br><br><br><br><br><br><br><br><br><br><br><br><br><br><br><br><br><br><br><br><br><br><br><br><br><br><br><br><br><br><br><br><br><br><br><br><br>\n",
    "\n",
    "<a name=\"lem114\" id=\"lem114\"></a>\n",
    "\n",
    "Proof of Lemma 11.4:<br><br> \n",
    "\n",
    "If (<em>a</em>, <em>b</em>) solves the equation <em>x</em><sup>2</sup> = (&minus;1, 0), we have that \n",
    "<p style='text-align: center;'>(<em>a</em>, <em>b</em>)<sup>2</sup> = (<em>a</em><sup>2</sup> &minus; <em>b</em><sup>2</sup>, 2 <em>a</em> <em>b</em>) = (&minus;1, 0).</p>\n",
    "Thus, <em>a</em> and <em>b</em> must satisfy the two equations\n",
    "<p style='text-align: center;'><em>a</em><sup>2</sup> &minus; <em>b</em><sup>2</sup> = &minus;1,&emsp;and&emsp;2 <em>a</em> <em>b</em> = 0.</p>\n",
    "The second equation implies that either <em>a</em> or <em>b</em> must be 0. But if <em>b</em><em> </em><em>=</em><em> </em><em>0</em>, then the first equation becomes \n",
    "<em>a</em><sup>2</sup> = &minus;1, which has no real solutions.  Thus, <em>a</em> = 0, and &minus;<em>b</em><sup>2</sup> = &minus;1.  There are exactly two real solutions \n",
    "for <em>b</em>, &plusmn;1. Thus,\n",
    "<p style='text-align: center;'>(0, 1)&emsp;and&emsp;(0, &minus;1)</p>\n",
    "both solve the equations for <em>a</em> and <em>b</em>, and so \n",
    "<p style='text-align: center;'>(0, 1)<sup>2</sup> = (0, &minus;1)<sup>2</sup> = (&minus;1, 0).</p>\n",
    "\n",
    "<a href=\"#lem114ret\">Return to text</a>"
   ]
  },
  {
   "cell_type": "markdown",
   "metadata": {},
   "source": [
    "<br><br><br><br><br><br><br><br><br><br><br><br><br><br><br><br><br><br><br><br><br><br><br><br><br><br><br><br><br><br><br><br><br><br><br><br><br><br><br><br><br><br>\n",
    "\n",
    "<a name=\"lem115\" id=\"lem115\"></a>\n",
    "\n",
    "Proof of Lemma 11.5:<br><br> \n",
    "\n",
    "We first note that if <em>&fnof;</em>(<em>x</em>) is an automorphism of a ring <em>R</em>, then <em>&fnof;</em><sup>&minus;1</sup>(<em>x</em>) is well defined, since \n",
    "<em>&fnof;</em>(<em>x</em>) is both one-to-one and onto.  We see that\n",
    "<p style='text-align: center;'><em>&fnof;</em>(<em>&fnof;</em><sup>&minus;1</sup>(<em>x</em>) + <em>&fnof;</em><sup>&minus;1</sup>(<em>y</em>)) = \n",
    "<em>&fnof;</em>(<em>&fnof;</em><sup>&minus;1</sup>(<em>x</em>)) + <em>&fnof;</em>(<em>&fnof;</em><sup>&minus;1</sup>(<em>y</em>)) = <em>x</em> + <em>y</em>,</p>\n",
    "so <em>&fnof;</em><sup>&minus;1</sup>(<em>x</em> + <em>y</em>) = <em>&fnof;</em><sup>&minus;1</sup>(<em>x</em>) + <em>&fnof;</em><sup>&minus;1</sup>(<em>y</em>).  Also, \n",
    "<p style='text-align: center;'><em>&fnof;</em>(<em>&fnof;</em><sup>&minus;1</sup>(<em>x</em>)&middot;<em>&fnof;</em><sup>&minus;1</sup>(<em>y</em>)) = \n",
    "<em>&fnof;</em>(<em>&fnof;</em><sup>&minus;1</sup>(<em>x</em>))&middot;<em>&fnof;</em>(<em>&fnof;</em><sup>&minus;1</sup>(<em>y</em>)) = <em>x</em>&middot;<em>y</em>,</p>\n",
    "so <em>&fnof;</em><sup>&minus;1</sup>(<em>x</em>&middot;<em>y</em>) = \n",
    "<em>&fnof;</em><sup>&minus;1</sup>(<em>x</em>)&middot;<em>&fnof;</em><sup>&minus;1</sup>(<em>y</em>).  Thus, \n",
    "<em>&fnof;</em><sup>&minus;1</sup> is a ring homomorphism.  Since <em>&fnof;</em> was both one-to-one and onto, <em>&fnof;</em><sup>&minus;1</sup> is \n",
    "both one-to-one and onto. \n",
    "Therefore, <em>&fnof;</em><sup>&minus;1</sup> is a ring automorphism. <br><br>\n",
    "\n",
    "If <em>&fnof;</em> and <em>&#981;</em> are two ring automorphisms, then \n",
    "<p style='text-align: center;'><em>&fnof;</em>(<em>&#981;</em>(<em>x</em> + <em>y</em>)) = \n",
    "<em>&fnof;</em>(<em>&#981;</em>(<em>x</em>) + <em>&#981;</em>(<em>y</em>)) = <em>&fnof;</em>(<em>&#981;</em>(<em>x</em>)) + <em>&fnof;</em>(<em>&#981;</em>(<em>y</em>)),</p>\n",
    "and\n",
    "<p style='text-align: center;'><em>&fnof;</em>(<em>&#981;</em>(<em>x</em>&middot;<em>y</em>)) = \n",
    "<em>&fnof;</em>(<em>&#981;</em>(<em>x</em>)&middot;<em>&#981;</em>(<em>y</em>)) = \n",
    "<em>&fnof;</em>(<em>&#981;</em>(<em>x</em>))&middot;<em>&fnof;</em>(<em>&#981;</em>(<em>y</em>)).</p>\n",
    "The combination <em>&fnof;</em>(<em>&#981;</em>(<em>x</em>)) is also one-to-one and onto, so this product, which we can denote <em>&fnof;</em>&middot;<em>&#981;</em>, \n",
    "is a ring automorphism.  Since the set of all ring automorphisms is closed with respect to multiplication and inverses, and the set of all ring automorphisms is a \n",
    "subgroup of the set of all <em>group</em> automorphisms with respect to addition, we see that this set is a group.<br><br>\n",
    "\n",
    "<a href=\"#lem115ret\">Return to text</a>"
   ]
  },
  {
   "cell_type": "markdown",
   "metadata": {},
   "source": [
    "<br><br><br><br><br><br><br><br><br><br><br><br><br><br><br><br><br><br><br><br><br><br><br><br><br><br><br><br><br><br><br><br><br><br><br><br><br><br><br><br><br><br>\n",
    "\n",
    "<a name=\"prop114\" id=\"prop114\"></a>\n",
    "\n",
    "Proof of Proposition 11.4:<br><br> \n",
    "\n",
    "We check that\n",
    "<p style='text-align: center;'><em>&#981;</em>(<em>a</em> + <em>b i</em>) + <em>&#981;</em>(<em>c</em> + <em>d i</em>) = \n",
    "(<em>a</em> &minus; <em>b i</em>) + (<em>c</em> &minus; <em>d i</em>) = (<em>a</em> + <em>c</em>) &minus; (<em>b</em> + <em>d</em>)<em>i</em> = \n",
    "<em>&#981;</em>((<em>a</em> + <em>c</em>) + (<em>b</em> + <em>d</em>)<em>i</em>) = <em>&#981;</em>((<em>a</em> + <em>b i</em>) + (<em>c</em> + <em>d i</em>)).</p>\n",
    "\n",
    "<p style='text-align: center;'><em>&#981;</em>(<em>a</em> + <em>b i</em>)&middot;<em>&#981;</em>(<em>c</em> + <em>d i</em>) = \n",
    "(<em>a</em> &minus; <em>b i</em>)&middot;(<em>c</em> &minus; <em>d i</em>) = \n",
    "(<em>a</em>&middot;<em>c</em> &minus; <em>b</em>&middot;<em>d</em>) &minus; (<em>a</em>&middot;<em>d</em> + <em>b</em>&middot;<em>c</em>)<em>i</em> =\n",
    "<em>&#981;</em>((<em>a</em>&middot;<em>c</em> &minus; <em>b</em>&middot;<em>d</em>) + (<em>a</em>&middot;<em>d</em> + <em>b</em>&middot;<em>c</em>)<em>i</em>) =\n",
    "<em>&#981;</em>((<em>a</em> + <em>b i</em>)&middot;(<em>c</em> + <em>d i</em>)).</p>\n",
    "\n",
    "Thus, <em>&#981;</em> is a homomorphism. Since <em>a</em> &minus; <em>b i</em> = 0 if, and only if, <em>a</em> and <em>b</em> are both 0, the kernel of <em>&#981;</em> \n",
    "is just {0}, and so <em>&#981;</em> is one-to-one. Also, <em>&#981;</em> is onto, \n",
    "since <nobr><em>&#981;</em>(<em>a</em> &minus; <em>b i</em>) = <em>a</em> + <em>b i</em>.</nobr> \n",
    "Therefore, <em>&#981;</em> is an automorphism.<br><br>\n",
    "\n",
    "To show that there are exactly two such automorphisms, suppose that <em>&fnof;</em>(<em>x</em>) is an automorphism of &#8450; for which \n",
    "<em>&fnof;</em>(<em>x</em>) = <em>x</em> for all real numbers <em>x</em>.  Then\n",
    "<p style='text-align: center;'><em>&fnof;</em>(<em>i</em>)<sup>2</sup> = <em>&fnof;</em>(<em>i</em><sup>2</sup>) = <em>&fnof;</em>(&minus;1) = &minus;1,</p>\n",
    "so by Lemma 11.4, <em>&fnof;</em>(<em>i</em>) = &plusmn;<em>i</em>. If <em>&fnof;</em>(<em>i</em>) = <em>i</em>, then <em>&fnof;</em>(<em>x</em>) = <em>x</em> for all \n",
    "<em>x</em> &isin; &#8450;, and if <em>&fnof;</em>(<em>i</em>) = &minus;<em>i</em>, then <em>&fnof;</em>(<em>x</em>) = <em>&#981;</em>(<em>x</em>) for all <em>x</em>.<br><br>\n",
    "\n",
    "<a href=\"#prop114ret\">Return to text</a>"
   ]
  },
  {
   "cell_type": "markdown",
   "metadata": {},
   "source": [
    "<br><br><br><br><br><br><br><br><br><br><br><br><br><br><br><br><br><br><br><br><br><br><br><br><br><br><br><br><br><br><br><br><br><br><br><br><br><br><br><br><br><br>\n",
    "\n",
    "<a name=\"prop115\" id=\"prop115\"></a>\n",
    "\n",
    "Proof of Proposition 11.5:<br><br> \n",
    "\n",
    "We have\n",
    "<table align=\"center\" border=\"0\" cellspacing=\"0\" cellpadding=\"0\">\n",
    "  <tr>\n",
    "    <td></td>\n",
    "    <td align=\"center\" valign=\"bottom\">&emsp;<font style=\"text-decoration:underline\">&emsp;&emsp;&ensp;&emsp;&emsp;</font></td>\n",
    "    <td></td>\n",
    "    <td align=\"center\" valign=\"bottom\">&emsp;<font style=\"text-decoration:underline\">&emsp;&emsp;&ensp;&emsp;&emsp;&ensp;</font></td>\n",
    "    <td></td>\n",
    "    <td align=\"center\" valign=\"bottom\">&emsp;<font style=\"text-decoration:underline\">&emsp;&emsp;&ensp;&emsp;&emsp;&emsp;&ensp;</font></td>\n",
    "    <td></td>    \n",
    "    <td align=\"center\" valign=\"bottom\">&emsp;<font style=\"text-decoration:underline\">&emsp;&emsp;&ensp;</font></td>\n",
    "    <td></td>\n",
    "    <td align=\"center\" valign=\"bottom\">&emsp;<font style=\"text-decoration:underline\">&emsp;&emsp;&ensp;</font></td>\n",
    "    <td></td>\n",
    "  </tr>\n",
    "  <tr>\n",
    "    <td>|<em>x</em>&middot;<em>y</em>| =&ensp;</td>\n",
    "    <td align=\"center\" valign=\"top\">&radic; <em>x</em>&middot;<em>y</em> &middot; <font style=\"text-decoration:overline\"><em>x</em>&middot;<em>y</em></font></td>\n",
    "    <td>&ensp;=&ensp;</td>\n",
    "    <td align=\"center\" valign=\"top\">&radic; <em>x</em>&middot;<em>y</em> &middot; <font style=\"text-decoration:overline\"><em>x</em></font> &middot; \n",
    "    <font style=\"text-decoration:overline\"><em>y</em></font></td>\n",
    "    <td>&ensp;=&ensp;</td>\n",
    "    <td align=\"center\" valign=\"top\">&radic; <em>x</em> &middot; <font style=\"text-decoration:overline\"><em>x</em></font> &middot; <em>y</em> &middot;\n",
    "    <font style=\"text-decoration:overline\"><em>y</em></font></td>\n",
    "    <td>&ensp;=&ensp;</td>\n",
    "    <td align=\"center\" valign=\"top\">&radic; <em>x</em> &middot; <font style=\"text-decoration:overline\"><em>x</em></font></td>\n",
    "    <td>&middot;</td>\n",
    "    <td align=\"center\" valign=\"top\">&radic; <em>y</em> &middot; <font style=\"text-decoration:overline\"><em>y</em></font></td>\n",
    "    <td>&ensp;= |<em>x</em>|&middot;|<em>y</em>|.</td>\n",
    "  </tr>\n",
    "</table>\n",
    "<br>\n",
    "Thus, |<em>x</em>&middot;<em>y</em>| =  |<em>x</em>|&middot;|<em>y</em>|.<br><br>\n",
    "<a href=\"#prop115ret\">Return to text</a>"
   ]
  },
  {
   "cell_type": "markdown",
   "metadata": {},
   "source": [
    "<br><br><br><br><br><br><br><br><br><br><br><br><br><br><br><br><br><br><br><br><br><br><br><br><br><br><br><br><br><br><br><br><br><br><br><br><br><br><br><br><br><br>\n",
    "\n",
    "<a name=\"lem116\" id=\"lem116\"></a>\n",
    "\n",
    "Proof of Lemma 11.6:<br><br> \n",
    "\n",
    "We note that \n",
    "<p style='text-align: center;'><em>z</em><sub>1</sub>&middot;<em>z</em><sub>2</sub> = <em>r</em><sub>1</sub>( cos <em>&theta;</em><sub>1</sub> + \n",
    "<em>i</em> sin <em>&theta;</em><sub>1</sub>)&middot;<em>r</em><sub>2</sub>( cos <em>&theta;</em><sub>2</sub> + <em>i</em> sin <em>&theta;</em><sub>2</sub>) =\n",
    "<em>r</em><sub>1</sub>&middot;<em>r</em><sub>2</sub>( (cos <em>&theta;</em><sub>1</sub>&middot;cos <em>&theta;</em><sub>2</sub> &minus; \n",
    "sin <em>&theta;</em><sub>1</sub>&middot;sin <em>&theta;</em><sub>2</sub>) + <em>i</em> (cos <em>&theta;</em><sub>1</sub>&middot;sin <em>&theta;</em><sub>2</sub> + \n",
    "sin <em>&theta;</em><sub>1</sub>&middot;cos <em>&theta;</em><sub>2</sub>) ).</p>\n",
    "Using the trigonometric identities, this simplifies to\n",
    "<p style='text-align: center;'><em>z</em><sub>1</sub>&middot;<em>z</em><sub>2</sub> = \n",
    "<em>r</em><sub>1</sub>&middot;<em>r</em><sub>2</sub>( cos(<em>&theta;</em><sub>1</sub> + <em>&theta;</em><sub>2</sub>) + \n",
    "<em>i</em> sin(<em>&theta;</em><sub>1</sub> + <em>&theta;</em><sub>2</sub>) ).</p>\n",
    "\n",
    "<a href=\"#lem116ret\">Return to text</a>"
   ]
  },
  {
   "cell_type": "markdown",
   "metadata": {},
   "source": [
    "<br><br><br><br><br><br><br><br><br><br><br><br><br><br><br><br><br><br><br><br><br><br><br><br><br><br><br><br><br><br><br><br><br><br><br><br><br><br><br><br><br><br>\n",
    "  \n",
    "<a name=\"theor112\" id=\"theor112\"></a>\n",
    "\n",
    "Proof of Theorem 11.2:<br><br>   \n",
    "  \n",
    "Let us first prove the theorem for positive values of <em>n</em>. For <em>n</em> = 1, the statement is obvious. Let us assume that the statement is true for the \n",
    "previous case. That is,\n",
    "<p style='text-align: center;'><em>z</em><sup><em>n</em>&minus;1</sup> = <em>r</em><sup><em>n</em>&minus;1</sup>( cos((<em>n</em> &minus; 1)<em>&theta;</em>) + \n",
    "<em>i</em> sin((<em>n</em> &minus; 1)<em>&theta;</em>) ).</p>\n",
    "We want to prove that the theorem holds for <em>n</em> as well.  Using Lemma 11.6, we have\n",
    "<p style='text-align: center;'><em>z<sup>n</sup></em> = <em>z</em><sup><em>n</em>&minus;1</sup>&middot;<em>z</em> = \n",
    "<em>r</em><sup><em>n</em>&minus;1</sup>( cos((<em>n</em> &minus; 1)<em>&theta;</em>) + \n",
    "<em>i</em> sin((<em>n</em> &minus; 1)<em>&theta;</em>) )&middot;[<em>r</em>( cos <em>&theta;</em> + <em>i</em> sin <em>&theta;</em> )] = \n",
    "<em>r<sup>n</sup></em>( cos((<em>n</em> &minus; 1)<em>&theta;</em> + <em>&theta;</em>) + \n",
    "<em>i</em> sin((<em>n</em> &minus; 1)<em>&theta;</em> + <em>&theta;</em>) ) = <em>r<sup>n</sup></em>( cos(<em>n &theta;</em>) + \n",
    "<em>i</em> sin(<em>n &theta;</em>) ).</p>\n",
    "Thus, the theorem is true for <em>n</em> if we assume it is true for <em>n</em> &minus; 1, and hence by induction it is true whenever <em>n</em> is positive.<br><br>\n",
    "\n",
    "If <em>z</em> is nonzero, then letting <em>n</em> = 0 gives \n",
    "<p style='text-align: center;'><em>r</em><sup>0</sup>(cos(0 <em>&theta;</em>) + <em>i</em> sin(0 <em>&theta;</em>) ) = \n",
    "1(1 + <em>i</em>&middot;0) = 1 = <em>z</em><sup>0</sup>.</p>\n",
    "So the theorem holds for <em>n</em> = 0. If <em>z</em> is nonzero, then <em>r</em> &gt; 0, and so\n",
    "<p style='text-align: center;'>[<em>r</em><sup>&minus;<em>n</em></sup>( cos(&minus;<em>n &theta;</em>) + \n",
    "i sin( cos(&minus;<em>n &theta;</em>) )]&middot;[<em>r<sup>n</sup></em>( cos(<em>n &theta;</em>) + i sin( cos(<em>n &theta;</em>) )] = \n",
    "<em>r</em><sup>(&minus;<em>n</em>+<em>n</em>)</sup>( cos(&minus;<em>n &theta;</em> + <em>n &theta;</em>) + i sin( cos(&minus;<em>n &theta;</em> + <em>n &theta;</em>) ) =\n",
    "<em>r</em><sup>0</sup>( cos 0 + <em>i</em> sin 0 ) = 1.</p>\n",
    "Now, if <em>n</em> &lt; 0, then the theorem holds for &minus;<em>n</em>, and so\n",
    "<p style='text-align: center;'><em>z</em><sup>&minus;<em>n</em></sup>&middot;[<em>r<sup>n</sup></em>( cos(<em>n &theta;</em>) + i sin( cos(<em>n &theta;</em>) )] = 1,</p>\n",
    "hence <em>r<sup>n</sup></em>( cos(<em>n &theta;</em>) + i sin( cos(<em>n &theta;</em>) ) = <em>z<sup>n</sup></em> even when <em>n</em> &lt; 0.<br><br>  \n",
    "  \n",
    "<a href=\"#theor112ret\">Return to text</a>"
   ]
  },
  {
   "cell_type": "markdown",
   "metadata": {},
   "source": [
    "<br><br><br><br><br><br><br><br><br><br><br><br><br><br><br><br><br><br><br><br><br><br><br><br><br><br><br><br><br><br><br><br><br><br><br><br><br><br><br><br><br><br>\n",
    "  \n",
    "<a name=\"prop116\" id=\"prop116\"></a>\n",
    "\n",
    "Proof of Proposition 11.6:<br><br>   \n",
    "  \n",
    "If <em>z</em><sub>1</sub> = <em>a</em><sub>1</sub> + <em>b</em><sub>1</sub> <em>i</em> and <em>z</em><sub>2</sub> = \n",
    "<em>a</em><sub>2</sub> + <em>b</em><sub>2</sub> <em>i</em> we observe that\n",
    "<p style='text-align: center;'><em>&fnof;</em>(<em>z</em><sub>1</sub> + <em>z</em><sub>2</sub>) = \n",
    "<em>e</em><sup>(<em>a</em></sup>&sup1;<sup>+<em>a</em></sup>&sup2;<sup>)</sup>( cos(<em>b</em><sub>1</sub> + <em>b</em><sub>2</sub>) + \n",
    "<em>i</em> sin(<em>b</em><sub>1</sub> + <em>b</em><sub>2</sub>) ).</p>\n",
    "By Lemma 11.6, this equals \n",
    "<p style='text-align: center;'><em>e<sup>a</sup></em>&sup1;( cos(<em>b</em><sub>1</sub>) + \n",
    "<em>i</em> sin(<em>b</em><sub>1</sub>) )&middot;<em>e<sup>a</sup></em>&sup2;( cos(<em>b</em><sub>2</sub>) + <em>i</em> sin(<em>b</em><sub>2</sub>) ) =\n",
    "<em>&fnof;</em>(<em>z</em><sub>1</sub>)&middot;<em>&fnof;</em>(<em>z</em><sub>2</sub>).</p>\n",
    "Thus, <em>&fnof;</em> is a group homomorphism from &#8450;<sup>+</sup> to &#8450;<sup>&ast;</sup>.<br><br>  \n",
    "  \n",
    "<a href=\"#prop116ret\">Return to text</a>"
   ]
  },
  {
   "cell_type": "markdown",
   "metadata": {},
   "source": [
    "<br><br><br><br><br><br><br><br><br><br><br><br><br><br><br><br><br><br><br><br><br><br><br><br><br><br><br><br><br><br><br><br><br><br><br><br><br><br><br><br><br><br> \n",
    "  \n",
    "<a name=\"prop117\" id=\"prop117\"></a>\n",
    "\n",
    "Proof of Proposition 11.7:<br><br>  \n",
    "  \n",
    "Let <em>z</em> have the polar form\n",
    "<p style='text-align: center;'><em>z</em> = <em>r</em> ( cos <em>&theta;</em> + <em>i</em> sin <em>&theta;</em>).</p>\n",
    "Then log(<em>z</em>) is the set\n",
    "<p style='text-align: center;'>{ ln(<em>r</em>) + <em>&theta; i</em> + 2 <em>k &pi; i</em> | <em>k</em> &isin; &#8484; }.</p>\n",
    "Thus, log(<em>z</em>)/<em>n</em> is given by the set\n",
    "<p style='text-align: center;'>{ <sup>ln(<em>r</em>)</sup>&frasl;<sub><em>n</em></sub> + <sup>(<em>&theta;</em> + \n",
    "2<em>k&pi;</em>) <em>i</em></sup>&frasl;<sub><em>n</em></sub> | <em>k</em> &isin; &#8484; }.</p>\n",
    "Thus, the exponential function of the elements of this set is given by\n",
    "<p style='text-align: center;'>{ <em>e</em><sup>ln(<em>r</em>)/<em>n</em></sup>&middot;<span style=\"font-size:24px\">(</span> \n",
    "cos<span style=\"font-size:24px\">(</span><sup>&theta; + 2 <em>k</em><em>&pi;</em></sup>&frasl;<sub><em>n</em></sub><span style=\"font-size:24px\">)</span> + \n",
    "<em>i</em> sin<span style=\"font-size:24px\">(</span><sup>&theta; + 2<em>k</em><em>&pi;</em></sup>&frasl;<sub><em>n</em></sub><span style=\"font-size:24px\">) )</span> \n",
    "| <em>k</em> &isin; &#8484; } = { <em>r</em><sup>1/<em>n</em></sup>&middot;<span style=\"font-size:24px\">(</span> \n",
    "cos<span style=\"font-size:24px\">(</span><sup>&theta; + 2<em>k</em><em>&pi;</em></sup>&frasl;<sub><em>n</em></sub><span style=\"font-size:24px\">)</span> + \n",
    "<em>i</em> sin<span style=\"font-size:24px\">(</span><sup>&theta; + 2<em>k</em><em>&pi;</em></sup>&frasl;<sub><em>n</em></sub><span style=\"font-size:24px\">) )</span> \n",
    "| <em>k</em> &isin; &#8484; }.</p>\n",
    "Notice that for two different values of <em>k</em> that differ by <em>n</em>, the arguments of the cosine and sine will differ by 2<em>&pi;</em>. Hence, we only have \n",
    "to consider the values of <em>k</em> from 0 to (<em>n</em> &minus; 1).  This gives us the set \n",
    "<p style='text-align: center;'>{ <em>r</em><sup>1/<em>n</em></sup>&middot;<span style=\"font-size:24px\">(</span> \n",
    "cos<span style=\"font-size:24px\">(</span><sup>&theta; + 2<em>k</em><em>&pi;</em></sup>&frasl;<sub><em>n</em></sub><span style=\"font-size:24px\">)</span> + \n",
    "<em>i</em> sin<span style=\"font-size:24px\">(</span><sup>&theta; + 2<em>k</em><em>&pi;</em></sup>&frasl;<sub><em>n</em></sub><span style=\"font-size:24px\">) )</span> \n",
    "| <em>k</em> = 0, 1, 2, &hellip; <em>n</em> &minus; 1 }.</p>\n",
    "However, these <em>n</em> solutions will have arguments that differ by less than 2 <em>&pi;</em>, so these <em>n</em> solutions are distinct.<br><br>\n",
    "\n",
    "Finally, we must show that <em>x</em> is an element of <em>z</em><sup>1/<em>n</em></sup> if, and only if, <em>x</em> solves the \n",
    "equation <em>x<sup>n</sup></em> = <em>z</em>.  But for any element in the above expression, we have that\n",
    "<p style='text-align: center;'><em>x<sup>n</sup></em> = <em>r</em><sup><em>n</em>(1/<em>n</em>)</sup>&middot;<span style=\"font-size:24px\">(</span> \n",
    "cos<span style=\"font-size:24px\">(</span><sup><em>n</em>(&theta; + 2<em>k</em><em>&pi;</em>)</sup>&frasl;<sub><em>n</em></sub><span style=\"font-size:24px\">)</span> + \n",
    "<em>i</em> sin<span style=\"font-size:24px\">(</span><sup><em>n</em>(&theta; + \n",
    "2<em>k</em><em>&pi;</em>)</sup>&frasl;<sub><em>n</em></sub><span style=\"font-size:24px\">) )</span> = \n",
    "<em>r</em>( cos <em>&theta;</em> + <em>i</em> sin <em>&theta;</em> ) = <em>z</em>.</p>\n",
    "Likewise, if <em>x<sup>n</sup></em> = <em>z</em>, we can raise both sides to the (1/<em>n</em>)<sup>th</sup> power to get that the two sets \n",
    "(<em>x<sup>n</sup></em>)<sup>1/<em>n</em></sup> and <em>z</em><sup>1/<em>n</em></sup> are equal. Since the element <em>x</em> is certainly in the first set, it must also \n",
    "be in the set <em>z</em><sup>1/<em>n</em></sup> that we have just computed.<br><br> \n",
    "  \n",
    "<a href=\"#prop117ret\">Return to text</a>"
   ]
  },
  {
   "cell_type": "markdown",
   "metadata": {},
   "source": [
    "<br><br><br><br><br><br><br><br><br><br><br><br><br><br><br><br><br><br><br><br><br><br><br><br><br><br><br><br><br><br><br><br><br><br><br><br><br><br><br><br><br><br>\n",
    " \n",
    "<a name=\"lem117\" id=\"lem117\"></a>\n",
    "\n",
    "Proof of Lemma 11.7:<br><br>    \n",
    "  \n",
    "To prove the first statement, note that since <em>x</em> &gt; <em>y</em>, we have that <em>x</em> &minus; <em>y</em> &isin; <em>P</em>.  But then \n",
    "<p style='text-align: center;'>(<em>x</em> + <em>z</em>) &minus; (<em>y</em> + <em>z</em>) &isin; <em>P</em>,</p>\n",
    "and so <em>x</em> + <em>z</em> &gt; <em>y</em> + <em>z</em>. <br><br>\n",
    "\n",
    "For the second statement, we have that <em>x</em> &gt; <em>y</em> and <em>z</em> &gt; 0, and so (<em>x</em> &minus; <em>y</em>) &isin; <em>P</em> and\n",
    "<em>z</em> &isin; <em>P</em>.  Since <em>P</em> is closed under multiplication, we have that\n",
    "<p style='text-align: center;'>(<em>x</em> &minus; <em>y</em>)&middot;<em>z</em> = <em>x</em>&middot;<em>z</em> &minus; <em>y</em>&middot;<em>z</em> &isin; <em>P</em>,</p>\n",
    "and so <em>x</em>&middot;<em>z</em> &gt; <em>y</em>&middot;<em>z</em>.<br><br>\n",
    "\n",
    "Finally, if <em>x</em> &gt; <em>y</em> and <em>y</em> &gt; <em>z</em>, then both <em>x</em> &minus; <em>y</em> &isin; <em>P</em> and \n",
    "<em>y</em> &minus; <em>z</em> &isin; <em>P</em>.  Since <em>P</em> is closed under addition, we have that \n",
    "<p style='text-align: center;'>(<em>x</em> &minus; <em>y</em>) + (<em>y</em> &minus; <em>z</em>) = <em>x</em> &minus; <em>z</em> &isin; <em>P</em>,</p>\n",
    "and so <em>x</em> &gt; <em>z</em>.<br><br>\n",
    "  \n",
    "<a href=\"#lem117ret\">Return to text</a>"
   ]
  },
  {
   "cell_type": "markdown",
   "metadata": {},
   "source": [
    "<br><br><br><br><br><br><br><br><br><br><br><br><br><br><br><br><br><br><br><br><br><br><br><br><br><br><br><br><br><br><br><br><br><br><br><br><br><br><br><br><br><br> \n",
    "  \n",
    "<a name=\"prop118\" id=\"prop118\"></a>\n",
    "\n",
    "Proof of Proposition 11.8:<br><br>  \n",
    "  \n",
    "Since <em>x</em> is nonzero, by the law of trichotomy either <em>x</em> &gt; 0, or &minus;<em>x</em> &gt; 0.  If <em>x</em> &gt; 0 then \n",
    "<p style='text-align: center;'><em>x</em><sup>2</sup> = <em>x</em>&middot;<em>x</em> &gt; 0.</p>\n",
    "On the other hand, if &minus;<em>x</em> &gt; 0, then \n",
    "<p style='text-align: center;'><em>x</em><sup>2</sup> = (&minus;<em>x</em>)&middot;(&minus;<em>x</em>) &gt; 0.</p>\n",
    "Thus, in either case <em>x</em><sup>2</sup> is in <em>P</em>.<br><br>  \n",
    "  \n",
    "<a href=\"#prop118ret\">Return to text</a>"
   ]
  },
  {
   "cell_type": "markdown",
   "metadata": {},
   "source": [
    "<br><br><br><br><br><br><br><br><br><br><br><br><br><br><br><br><br><br><br><br><br><br><br><br><br><br><br><br><br><br><br><br><br><br><br><br><br><br><br><br><br><br>   \n",
    "  \n",
    "<a name=\"cor112\" id=\"cor112\"></a>\n",
    "\n",
    "Proof of Corollary 11.2:<br><br>  \n",
    "  \n",
    "Since 1<sup>2</sup> = 1, we have from Proposition 11.8 that 1 &gt; 0.  Proceeding by induction, let us assume that (<em>n</em> &minus; 1)&middot;1 &gt; 0, and \n",
    "show that <em>n</em>&middot;1 &gt; 0.  But this is easy, since\n",
    "<p style='text-align: center;'><em>n</em>&middot;1 = (<em>n</em> &minus; 1)&middot;1 + 1&middot;1 = (<em>n</em> &minus; 1)&middot;1 + 1 &gt; 0.</p>\n",
    "Thus, we have that <em>n</em>&middot;1 &gt; 0 for every positive number <em>n</em>.  This immediately implies that the characteristic is zero, for if <em>R</em> had \n",
    "a positive characteristic <em>p</em>, then <em>p</em>&middot;1 = 0, and we would have 0 &gt; 0, a contradiction.<br><br>  \n",
    "  \n",
    "<a href=\"#cor112ret\">Return to text</a>"
   ]
  },
  {
   "cell_type": "markdown",
   "metadata": {},
   "source": [
    "<br><br><br><br><br><br><br><br><br><br><br><br><br><br><br><br><br><br><br><br><br><br><br><br><br><br><br><br><br><br><br><br><br><br><br><br><br><br><br><br><br><br> \n",
    "  \n",
    "<a name=\"prop119\" id=\"prop119\"></a>\n",
    "\n",
    "Proof of Proposition 11.9:<br><br>   \n",
    "  \n",
    "We will begin by showing that the ordering is uniquely determined. Since for any <em>p</em> in <em>P</em>, we have \n",
    "<p style='text-align: center;'><span style=\"font-size:24px\">(</span><sup>1</sup>&frasl;<sub><em>p</em></sub><span \n",
    "style=\"font-size:24px\">)</span>&middot;<span style=\"font-size:24px\">(</span><sup><em>p</em></sup>&frasl;<sub>1</sub><span \n",
    "style=\"font-size:24px\">)</span> = <span style=\"font-size:24px\">(</span><sup><em>p</em></sup>&frasl;<sub><em>p</em></sub><span \n",
    "style=\"font-size:24px\">)</span> = <span style=\"font-size:24px\">(</span><sup>1</sup>&frasl;<sub>1</sub><span \n",
    "style=\"font-size:24px\">)</span> = 1 &isin; <em>P</em>,</p>\n",
    "<span style=\"font-size:24px\">(</span><sup>1</sup>&frasl;<sub><em>p</em></sub><span style=\"font-size:24px\">)</span> must be considered to be positive in the new ordering. \n",
    "But then <span style=\"font-size:24px\">(</span><sup><em>n</em></sup>&frasl;<sub><em>p</em></sub><span style=\"font-size:24px\">)</span> must be positive whenever <em>n</em> \n",
    "and <em>p</em> are in <em>P</em>. Thus <em>P</em>&thinsp;&prime; contains at least those elements of the \n",
    "form <span style=\"font-size:24px\">(</span><sup><em>n</em></sup>&frasl;<sub><em>p</em></sub><span style=\"font-size:24px\">)</span>, where <em>n</em> and <em>p</em> are \n",
    "in <em>P</em>.  Note that every nonzero element in the field of quotients <em>Q</em> must be of one of the four forms\n",
    "<p style='text-align: center;'><span style=\"font-size:24px\">(</span><sup><em>n</em></sup>&frasl;<sub><em>p</em></sub><span style=\"font-size:24px\">)</span>, \n",
    "<span style=\"font-size:24px\">(</span><sup>&minus;<em>n</em></sup>&frasl;<sub><em>p</em></sub><span style=\"font-size:24px\">)</span>, \n",
    "<span style=\"font-size:24px\">(</span><sup><em>n</em></sup>&frasl;<sub>&minus;<em>p</em></sub><span style=\"font-size:24px\">)</span>,\n",
    "<span style=\"font-size:24px\">(</span><sup>&minus;<em>n</em></sup>&frasl;<sub>&minus;<em>p</em></sub><span style=\"font-size:24px\">)</span>,</p>\n",
    "where <em>n</em> and <em>p</em> are in <em>P</em>. But the first and the last expressions are equivalent, and the middle two are also equivalent.  Thus, \n",
    "for every nonzero element of <em>Q</em>, either that element or its negative is of the \n",
    "form <span style=\"font-size:24px\">(</span><sup><em>n</em></sup>&frasl;<sub><em>p</em></sub><span style=\"font-size:24px\">)</span>, with <em>n</em> and <em>p</em> in \n",
    "<em>P</em>.  Thus, <em>P</em>&thinsp;&prime; cannot contain any more elements besides those of the \n",
    "form <span style=\"font-size:24px\">(</span><sup><em>n</em></sup>&frasl;<sub><em>p</em></sub><span style=\"font-size:24px\">)</span>, and hence <em>P</em>&thinsp;&prime; is \n",
    "uniquely determined.<br><br>\n",
    "\n",
    "Now, suppose we consider the set of elements <em>P</em>&thinsp;&prime; that can be expressed in the \n",
    "form <span style=\"font-size:24px\">(</span><sup><em>n</em></sup>&frasl;<sub><em>p</em></sub><span style=\"font-size:24px\">)</span>, where <em>n</em> and <em>p</em> are \n",
    "in <em>P</em>.  Does this form an ordering on <em>Q</em>?  We have already seen that the law of trichotomy has been demonstrated.  All we need to show is \n",
    "that <em>P</em>&thinsp;&prime; is closed under addition and multiplication.  But this is clear by looking at the formulas\n",
    "<p style='text-align: center;'><span style=\"font-size:24px\">(</span><sup><em>x</em></sup>&frasl;<sub><em>y</em></sub><span style=\"font-size:24px\">)</span> +\n",
    "<span style=\"font-size:24px\">(</span><sup><em>u</em></sup>&frasl;<sub><em>v</em></sub><span style=\"font-size:24px\">)</span> =\n",
    "<span style=\"font-size:24px\">(</span><sup><em>x</em>&middot;<em>v</em>+<em>u</em>&middot;<em>y</em></sup>&frasl;<sub><em>y</em>&middot;<em>v</em></sub><span \n",
    "style=\"font-size:24px\">)</span></p>\n",
    "and\n",
    "<p style='text-align: center;'><span style=\"font-size:24px\">(</span><sup><em>x</em></sup>&frasl;<sub><em>y</em></sub><span \n",
    "style=\"font-size:24px\">)</span>&middot;<span style=\"font-size:24px\">(</span><sup><em>u</em></sup>&frasl;<sub><em>v</em></sub><span style=\"font-size:24px\">)</span> =\n",
    "<span style=\"font-size:24px\">(</span><sup><em>x</em>&middot;<em>u</em></sup>&frasl;<sub><em>y</em>&middot;<em>v</em></sub><span \n",
    "style=\"font-size:24px\">)</span>.</p>\n",
    "Thus, <em>P</em>&thinsp;&prime; forms an ordering on <em>Q</em>, and is an extension of the ordering <em>P</em>.<br><br>  \n",
    "  \n",
    "<a href=\"#prop119ret\">Return to text</a>"
   ]
  },
  {
   "cell_type": "markdown",
   "metadata": {},
   "source": [
    "<br><br><br><br><br><br><br><br><br><br><br><br><br><br><br><br><br><br><br><br><br><br><br><br><br><br><br><br><br><br><br><br><br><br><br><br><br><br><br><br><br><br>  \n",
    "  \n",
    "<a name=\"sec11p\" id=\"sec11p\"></a>\n",
    "<h1><em>SageMath</em> Interactive Problems</h1>\n",
    "\n",
    "<br>\n",
    "&sect;11.1 #24)<br>\n",
    "In the field of &quot;complex numbers modulo 3&quot;:<br>"
   ]
  },
  {
   "cell_type": "code",
   "execution_count": null,
   "metadata": {},
   "outputs": [],
   "source": [
    "InitDomain(3,\"x\")\n",
    "AddFieldVar(\"i\")\n",
    "Define(i^2, -1)\n",
    "K = ListField(); K"
   ]
  },
  {
   "cell_type": "markdown",
   "metadata": {},
   "source": [
    "<br>\n",
    "Factor the polynomials <em>x</em><sup>3</sup> + 1, <em>x</em><sup>3</sup> + 2, <em>x</em><sup>3</sup> + i, <em>x</em><sup>3</sup> + 2*i.  What do you notice about \n",
    "the factorizations?  Knowing how <em>real</em> polynomials factor, explain what is happening.<br>"
   ]
  },
  {
   "cell_type": "markdown",
   "metadata": {},
   "source": [
    "<br>\n",
    "&sect;11.1 #25)<br> \n",
    "Expain why the ring &quot;complex numbers modulo 5&quot;<br>"
   ]
  },
  {
   "cell_type": "code",
   "execution_count": 0,
   "metadata": {},
   "outputs": [],
   "source": [
    "InitDomain(5)\n",
    "AddFieldVar(\"i\")\n",
    "Define(i^2,-1)"
   ]
  },
  {
   "cell_type": "markdown",
   "metadata": {},
   "source": [
    "<br>\n",
    "does not form a field.  Can you determine a pattern as to which integers &quot;complex numbers modulo <em>n</em>&quot; form a field?<br>"
   ]
  },
  {
   "cell_type": "markdown",
   "metadata": {},
   "source": [
    "<br>\n",
    "&sect;11.2 #18)<br> \n",
    "Have <em>SageMath</em> simplify the rational function over <em>Z</em><sub>2</sub>(<em>x</em>):<br><br>\n",
    "\n",
    "<table align=\"center\" border=\"0\" cellspacing=\"0\" cellpadding=\"0\">\n",
    "  <tr>\n",
    "    <td align=\"center\"><font style=\"text-decoration:underline\"><em>x</em>&#8308; + <em>x</em>&sup3; + <em>x</em> + 1</font></td>\n",
    "    <td rowspan = \"2\" align=\"center\">&ensp;.</td>\n",
    "  </tr>\n",
    "  <tr>\n",
    "    <td align=\"center\"><em>x</em>&sup3; + <em>x</em>&sup2; + <em>x</em> + 1</td>\n",
    "  </tr>\n",
    "</table>"
   ]
  },
  {
   "cell_type": "markdown",
   "metadata": {},
   "source": [
    "<br>\n",
    "&sect;11.2 #19)<br> \n",
    "Try squaring different elements of <em>Z</em><sub>2</sub>(<em>x</em>).  What do you observe?  Any explanations?<br>"
   ]
  },
  {
   "cell_type": "markdown",
   "metadata": {},
   "source": [
    "<br>\n",
    "&sect;11.2 #20)<br> \n",
    "Have <em>SageMath</em> compute the following operation in the rational function field <em>K</em>(<em>x</em>).<br>"
   ]
  },
  {
   "cell_type": "code",
   "execution_count": 0,
   "metadata": {},
   "outputs": [],
   "source": [
    "InitDomain(3,\"x\")\n",
    "AddFieldVar(\"i\")\n",
    "Define(i^2, -1)\n",
    "K = ListField(); K"
   ]
  },
  {
   "cell_type": "markdown",
   "metadata": {},
   "source": [
    "<br>\n",
    "<table align=\"center\" border=\"0\" cellspacing=\"0\" cellpadding=\"0\">\n",
    "  <tr>\n",
    "    <td align=\"center\"><font style=\"text-decoration:underline\">&emsp;&emsp;(1 + <em>i</em>)<em>x</em> + 2&emsp;&emsp;</font></td>\n",
    "    <td rowspan = \"2\" align=\"center\">&ensp;+&ensp;</td>\n",
    "    <td align=\"center\"><font style=\"text-decoration:underline\">&emsp;&emsp;2 <em>x</em> + 1 + <em>i</em>&emsp;&emsp;</font></td>\n",
    "    <td rowspan = \"2\" align=\"center\">&ensp;.</td>\n",
    "  </tr>\n",
    "  <tr>\n",
    "    <td align=\"center\">&emsp;<em>x</em>&sup2; + 2<em>i x</em> + 2 + <em>i</em>&emsp;</td>\n",
    "    <td align=\"center\">&emsp;<em>x</em>&sup2; + (2 + <em>i</em>)<em>x</em> + 2&emsp;</td>\n",
    "  </tr>\n",
    "</table> \n",
    "<br>"
   ]
  },
  {
   "cell_type": "markdown",
   "metadata": {},
   "source": [
    "<br>\n",
    "&sect;11.2 #21)<br> \n",
    "It was mentioned that the definition of the quotient field does not depend on whether elements in the integral domain have unique\n",
    "factorization.  An example of such a domain is &#8484;[&radic;<font style=\"text-decoration:overline\">&minus;5</font>], which \n",
    "we can enter in <em>SageMath</em> as follows:<br>"
   ]
  },
  {
   "cell_type": "code",
   "execution_count": 0,
   "metadata": {},
   "outputs": [],
   "source": [
    "InitDomain(0,\"x\")\n",
    "AddFieldVar(\"a\")\n",
    "Define(a^2, -5)"
   ]
  },
  {
   "cell_type": "markdown",
   "metadata": {},
   "source": [
    "<br>\n",
    "Show that the two fractions<br>\n",
    "<br>\n",
    "<table align=\"center\" border=\"0\" cellspacing=\"0\" cellpadding=\"0\">\n",
    "  <tr>\n",
    "    <td align=\"center\"><font style=\"text-decoration:underline\">3 <em>x</em> + 3 <em>a</em></font></td>\n",
    "    <td rowspan = \"2\" align=\"center\">&emsp; and &emsp;</td>\n",
    "    <td align=\"center\"><font style=\"text-decoration:underline\">(1 &minus; <em>a</em>)<em>x</em> + 5 + <em>a</em></font></td>\n",
    "  </tr>\n",
    "  <tr>\n",
    "    <td align=\"center\">(1 + <em>a</em>)<em>x</em></td>\n",
    "    <td align=\"center\">&ensp;&ensp;&ensp;&ensp;2 <em>x&ensp;&ensp;&ensp;&ensp;</em></td>\n",
    "  </tr>\n",
    "</table> \n",
    "<br>\n",
    "are in fact equal, even though neither can simplify.<br>"
   ]
  },
  {
   "cell_type": "markdown",
   "metadata": {},
   "source": [
    "<br>\n",
    "&sect;11.3 #19)<br> \n",
    "Find the twelfth roots of unity, and arrange them in such a way that the circle graph puts the elements in the correct \n",
    "place in the complex plane, as was done for the eighth roots of unity.<br>"
   ]
  },
  {
   "cell_type": "markdown",
   "metadata": {},
   "source": [
    "<br>\n",
    "&sect;11.3 #20)<br> \n",
    "Use <em>SageMath</em> to plot the real part of log(<em>x</em> + <em>i y</em>), the companion of Figure 11.3.  Would this \n",
    "surface be multi-valued, as was Figure 11.3?<br>"
   ]
  },
  {
   "cell_type": "markdown",
   "metadata": {},
   "source": [
    "&sect;11.4 #19)<br>\n",
    "Follow the example of &#8484;[&#8731;<font style=\"text-decoration:overline\">2</font>] to define the integral \n",
    "domain &#8484;[&radic;<font style=\"text-decoration:overline\">5</font>] in <em>SageMath</em>.  Then \n",
    "define <strong>F</strong> to be a nontrivial ring automorphism for this \n",
    "domain.<br>"
   ]
  },
  {
   "cell_type": "markdown",
   "metadata": {},
   "source": [
    "<br>\n",
    "&sect;11.4 #20)<br>\n",
    "Use <em>SageMath</em> to show that numbers of the form \n",
    "<p style='text-align: center;'><em>x</em> + <em>y</em> cos(<em>&pi;</em>/7) + <em>z</em> cos(2<em>&pi;</em>/7)</p>\n",
    "is closed under multiplication, using <strong>TrigReduce</strong>.  Assuming that this forms a field, find a nontrivial \n",
    "ring automorphism on this field.<br>"
   ]
  },
  {
   "cell_type": "markdown",
   "metadata": {},
   "source": [
    "</font>\n",
    "\n",
    "</body>\n",
    "\n",
    "</html>"
   ]
  }
 ],
 "metadata": {
  "kernelspec": {
   "display_name": "SageMath 9.0",
   "language": "sage",
   "name": "sagemath"
  },
  "language_info": {
   "codemirror_mode": {
    "name": "ipython",
    "version": 3
   },
   "file_extension": ".py",
   "mimetype": "text/x-python",
   "name": "python",
   "nbconvert_exporter": "python",
   "pygments_lexer": "ipython3",
   "version": "3.7.3"
  }
 },
 "nbformat": 4,
 "nbformat_minor": 1
}
